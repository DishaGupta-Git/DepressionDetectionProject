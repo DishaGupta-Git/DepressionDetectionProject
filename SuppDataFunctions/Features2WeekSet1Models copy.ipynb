{
 "cells": [
  {
   "cell_type": "code",
   "execution_count": 1,
   "metadata": {},
   "outputs": [],
   "source": [
    "import numpy as np\n",
    "import pandas as pd\n",
    "import matplotlib.pyplot as plt\n",
    "import seaborn as sns"
   ]
  },
  {
   "cell_type": "code",
   "execution_count": 2,
   "metadata": {},
   "outputs": [
    {
     "name": "stdout",
     "output_type": "stream",
     "text": [
      "     id     SpeedMean  SpeedVariance  TotalDistance  LocationVariance  \\\n",
      "0   u00  2.329154e-05   2.505256e-07     229.987882          5.274546   \n",
      "1   u01  6.054921e-07   2.877519e-11       2.566260        -11.383360   \n",
      "2   u02  1.615362e-06   1.920707e-09       6.686956         -6.973576   \n",
      "3   u03  3.545538e-07   8.135541e-11       0.824013        -11.517559   \n",
      "4   u04  1.389936e-06   6.292272e-10      27.183983         -3.618104   \n",
      "5   u05  7.993447e-07   1.376761e-10       5.184300         -4.759810   \n",
      "6   u07  5.926940e-07   3.656015e-11      26.565523         -1.906466   \n",
      "7   u08  5.562702e-07   1.972275e-11       4.488032         -7.619410   \n",
      "8   u09  7.646657e-07   3.040105e-11       9.662998         -4.076226   \n",
      "9   u10  5.302156e-07   2.703248e-11       2.176755        -12.302372   \n",
      "10  u12  7.598654e-06   5.797482e-09      51.149978         -0.451367   \n",
      "11  u13  2.434079e-06   2.907508e-10      11.680799         -7.024697   \n",
      "12  u14  5.455124e-07   1.866984e-11       5.338019         -2.688427   \n",
      "13  u15  7.962274e-07   6.297755e-11      13.623527         -1.093077   \n",
      "14  u16  4.431602e-07   1.537332e-11       2.274338        -11.390213   \n",
      "15  u17  3.481990e-07   1.148690e-11       1.465940        -12.665977   \n",
      "16  u18  7.083283e-07   1.078424e-10       4.938231         -2.643063   \n",
      "17  u19  4.148111e-07   1.222560e-11       4.061062         -8.290581   \n",
      "18  u20  2.568014e-07   1.060251e-11       0.679675        -12.621449   \n",
      "19  u22  6.276507e-07   9.829824e-11     101.981663          3.929683   \n",
      "20  u23  2.332059e-06   6.970863e-10       0.842568        -13.951776   \n",
      "21  u24  4.851183e-07   1.262300e-11       1.388025        -10.251801   \n",
      "22  u25  1.326953e-06   2.046205e-10      17.732922         -3.062308   \n",
      "23  u27  2.974533e-07   4.594814e-12       1.209075        -13.285730   \n",
      "24  u30  7.858562e-07   7.580092e-11      43.240691          0.075154   \n",
      "25  u31  5.039199e-06   9.221601e-10      25.613401         -2.006705   \n",
      "26  u32  8.657311e-07   1.469264e-10       6.323537         -3.207732   \n",
      "27  u33  7.731390e-07   2.028653e-10       1.300584        -11.344754   \n",
      "28  u34  2.228468e-06   4.215941e-10       6.843434         -7.365468   \n",
      "29  u35  7.979498e-07   1.158996e-10       3.702795         -8.722861   \n",
      "30  u36  2.780666e-06   1.639767e-09     153.261463          4.335594   \n",
      "31  u39  1.636301e-06   3.863073e-10       1.962847         -7.107455   \n",
      "32  u41  3.532899e-07   3.917850e-12       1.029918        -12.718373   \n",
      "33  u42  1.216212e-06   5.117493e-11       7.325336         -7.015005   \n",
      "34  u43  1.830817e-06   2.904508e-10      22.175935         -1.949171   \n",
      "35  u44  9.476524e-07   3.314706e-11       4.419011         -8.748244   \n",
      "36  u45  2.731403e-06   3.020192e-10      11.561685         -5.781731   \n",
      "37  u46  2.510466e-05   2.696978e-08       9.153334         -2.170884   \n",
      "38  u47  2.061817e-06   3.484652e-10       6.764056         -7.367317   \n",
      "39  u49  6.094549e-06   6.831074e-09      15.642379         -2.394526   \n",
      "40  u50  1.706345e-07   8.779776e-13       3.881111         -2.059825   \n",
      "41  u51  1.721597e-06   1.624588e-10      13.192750         -5.178084   \n",
      "42  u52  1.326245e-06   7.320305e-10       7.306016         -7.546597   \n",
      "43  u53  7.076084e-07   1.538956e-10       6.117555         -4.666164   \n",
      "44  u54  3.375116e-06   1.077358e-10      55.722246          2.089172   \n",
      "45  u56  3.812293e-06   1.548043e-09      28.303336         -1.894982   \n",
      "46  u57  2.956040e-06   5.651234e-10      42.948871          1.092657   \n",
      "47  u58  1.182285e-06   1.197464e-10       9.343343         -6.666767   \n",
      "48  u59  4.011665e-05   6.753552e-08     196.842881          3.210605   \n",
      "\n",
      "    CircadianMovement  NumberofClusters   Entropy  NormalizedEntropy  \\\n",
      "0           17.454240                 8  1.077922           0.518371   \n",
      "1            2.935552                 1  0.000000           0.000000   \n",
      "2            5.319092                 1  0.000000           0.000000   \n",
      "3            1.093290                 1  0.000000           0.000000   \n",
      "4            6.948778                 2  0.335984           0.484723   \n",
      "5            7.448313                 2  0.030168           0.043523   \n",
      "6            9.103380                 1  0.000000           0.000000   \n",
      "7            3.655523                 1  0.000000           0.000000   \n",
      "8            6.882331                 3  0.043766           0.039837   \n",
      "9            3.125410                 1  0.000000           0.000000   \n",
      "10          10.035926                 4  0.355043           0.256109   \n",
      "11           8.802871                 2  0.665939           0.960747   \n",
      "12           8.191706                 2  0.083834           0.120946   \n",
      "13          11.478187                 3  0.185491           0.168841   \n",
      "14           2.587204                 1  0.000000           0.000000   \n",
      "15           1.953095                 1  0.000000           0.000000   \n",
      "16           7.619303                 2  0.081690           0.117854   \n",
      "17           3.730303                 1  0.000000           0.000000   \n",
      "18           1.224789                 1  0.000000           0.000000   \n",
      "19          12.974526                 2  0.062732           0.090502   \n",
      "20          -0.400869                 1  0.000000           0.000000   \n",
      "21           1.546222                 1  0.000000           0.000000   \n",
      "22           9.647102                 1  0.000000           0.000000   \n",
      "23           0.213805                 1  0.000000           0.000000   \n",
      "24          11.635370                 2  0.284922           0.411056   \n",
      "25          10.084649                 3  0.740147           0.673711   \n",
      "26           8.477057                 2  0.048891           0.070535   \n",
      "27           3.789953                 1  0.000000           0.000000   \n",
      "28           7.865107                 3  0.823344           0.749440   \n",
      "29           5.269121                 2  0.113772           0.164138   \n",
      "30          16.716028                 8  0.961354           0.462314   \n",
      "31           5.476710                 2  0.533452           0.769608   \n",
      "32           2.308068                 1  0.000000           0.000000   \n",
      "33           8.619236                 4  0.756787           0.545906   \n",
      "34           9.452605                 3  0.147970           0.134688   \n",
      "35           7.092603                 2  0.617901           0.891443   \n",
      "36           8.179013                 3  0.709795           0.646084   \n",
      "37           9.266911                 3  0.764894           0.696236   \n",
      "38           8.304191                 2  0.684164           0.987041   \n",
      "39          11.031216                 2  0.112071           0.161685   \n",
      "40          11.728267                 2  0.060532           0.087330   \n",
      "41           6.046901                 6  0.799111           0.445992   \n",
      "42           3.357023                 1  0.000000           0.000000   \n",
      "43           7.403862                 2  0.024487           0.035327   \n",
      "44          15.350013                 5  0.927765           0.576453   \n",
      "45          11.214320                 3  0.875816           0.797202   \n",
      "46          12.777762                 6  0.543603           0.303390   \n",
      "47           5.480274                 1  0.000000           0.000000   \n",
      "48          13.034073                 4  0.232540           0.167742   \n",
      "\n",
      "    ContinuousEntropy  HomeStay  TransitionTime  \n",
      "0            0.419180  0.634831        0.492154  \n",
      "1            1.487125  1.000000        0.040658  \n",
      "2            1.991005  1.000000        0.072620  \n",
      "3            0.662096  1.000000        0.020286  \n",
      "4            2.477930  0.894976        0.085524  \n",
      "5            0.060335  0.995247        0.062047  \n",
      "6            1.388567  1.000000        0.055072  \n",
      "7            2.477671  1.000000        0.018255  \n",
      "8            0.084524  0.993191        0.098773  \n",
      "9            2.695035  1.000000        0.019295  \n",
      "10           0.164107  0.908161        0.426032  \n",
      "11           1.609439  0.616104        0.252470  \n",
      "12           0.167667  0.983562        0.039726  \n",
      "13           0.370982  0.959808        0.063483  \n",
      "14           1.486148  1.000000        0.027018  \n",
      "15           1.672455  1.000000        0.022812  \n",
      "16           0.163380  0.984083        0.012198  \n",
      "17           2.263227  1.000000        0.019160  \n",
      "18           1.684732  1.000000        0.007413  \n",
      "19           0.125463  0.988512        0.040591  \n",
      "20           1.074222  1.000000        0.120845  \n",
      "21           1.553065  1.000000        0.030303  \n",
      "22           3.103252  1.000000        0.067447  \n",
      "23           1.920903  1.000000        0.015308  \n",
      "24           0.569844  0.917463        0.101015  \n",
      "25           0.275115  0.665502        0.237588  \n",
      "26           0.097782  0.991521        0.072608  \n",
      "27           1.671123  1.000000        0.047721  \n",
      "28           2.246344  0.555325        0.305809  \n",
      "29           0.603847  0.975852        0.091874  \n",
      "30           0.304714  0.474509        0.348729  \n",
      "31           1.078049  0.774767        0.122585  \n",
      "32           2.090712  1.000000        0.019092  \n",
      "33           1.555229  0.747032        0.255608  \n",
      "34           0.295941  0.967920        0.064478  \n",
      "35           1.450974  0.691492        0.111353  \n",
      "36           1.653213  0.587224        0.285338  \n",
      "37           0.168820  0.515707        0.093115  \n",
      "38           1.898036  0.566917        0.219484  \n",
      "39           0.224143  0.976310        0.283067  \n",
      "40           0.121065  0.989003        0.005468  \n",
      "41           0.819114  0.560007        0.140025  \n",
      "42           2.253298  1.000000        0.037834  \n",
      "43           0.048973  0.996286        0.036791  \n",
      "44           0.327399  0.670010        0.604051  \n",
      "45           1.190308  0.622797        0.253150  \n",
      "46           0.093017  0.856135        0.070245  \n",
      "47           0.577190  1.000000        0.081496  \n",
      "48           0.411670  0.947919        0.241111  \n"
     ]
    }
   ],
   "source": [
    "ExploreDf = pd.DataFrame()\n",
    "ExploreDf = pd.read_csv('Paper33SupData/features_2week_1_all.csv')\n",
    "print(ExploreDf)\n"
   ]
  },
  {
   "cell_type": "code",
   "execution_count": 3,
   "metadata": {},
   "outputs": [
    {
     "name": "stdout",
     "output_type": "stream",
     "text": [
      "Index(['id', 'SpeedMean', 'SpeedVariance', 'TotalDistance', 'LocationVariance',\n",
      "       'CircadianMovement', 'NumberofClusters', 'Entropy', 'NormalizedEntropy',\n",
      "       'ContinuousEntropy', 'HomeStay', 'TransitionTime'],\n",
      "      dtype='object')\n"
     ]
    }
   ],
   "source": [
    "print(ExploreDf.keys())"
   ]
  },
  {
   "cell_type": "code",
   "execution_count": 4,
   "metadata": {},
   "outputs": [
    {
     "name": "stdout",
     "output_type": "stream",
     "text": [
      "     id  PHQ9\n",
      "0   u00     3\n",
      "1   u01     4\n",
      "2   u02     5\n",
      "3   u03     4\n",
      "4   u04     8\n",
      "5   u05     0\n",
      "6   u07     8\n",
      "7   u09     2\n",
      "8   u10     4\n",
      "9   u14     3\n",
      "10  u15     1\n",
      "11  u16    12\n",
      "12  u17    18\n",
      "13  u18    12\n",
      "14  u19     4\n",
      "15  u20     8\n",
      "16  u23    21\n",
      "17  u24     7\n",
      "18  u27     7\n",
      "19  u30     0\n",
      "20  u31     5\n",
      "21  u32     2\n",
      "22  u33    25\n",
      "23  u34     6\n",
      "24  u35     7\n",
      "25  u36     1\n",
      "26  u42     0\n",
      "27  u43     4\n",
      "28  u44     2\n",
      "29  u45     2\n",
      "30  u47     1\n",
      "31  u49     8\n",
      "32  u51     0\n",
      "33  u52    15\n",
      "34  u53    11\n",
      "35  u56     3\n",
      "36  u58     8\n",
      "37  u59     7\n"
     ]
    }
   ],
   "source": [
    "PHQ9Df = pd.DataFrame()\n",
    "PHQ9Df = pd.read_csv('Paper33SupData/phq9_followup.csv')\n",
    "print(PHQ9Df)"
   ]
  },
  {
   "cell_type": "code",
   "execution_count": 5,
   "metadata": {},
   "outputs": [
    {
     "name": "stdout",
     "output_type": "stream",
     "text": [
      "Index(['id', 'PHQ9'], dtype='object')\n"
     ]
    }
   ],
   "source": [
    "print(PHQ9Df.keys())"
   ]
  },
  {
   "cell_type": "code",
   "execution_count": 6,
   "metadata": {},
   "outputs": [
    {
     "name": "stdout",
     "output_type": "stream",
     "text": [
      "     id  PHQ9Base\n",
      "0   u00         2\n",
      "1   u01         5\n",
      "2   u02        13\n",
      "3   u03         2\n",
      "4   u04         6\n",
      "5   u05         2\n",
      "6   u07         7\n",
      "7   u08         5\n",
      "8   u09         4\n",
      "9   u10         0\n",
      "10  u12         1\n",
      "11  u13         4\n",
      "12  u14         1\n",
      "13  u15         3\n",
      "14  u16         6\n",
      "15  u17        13\n",
      "16  u18        15\n",
      "17  u19         5\n",
      "18  u20         8\n",
      "19  u22         3\n",
      "20  u23        11\n",
      "21  u24         5\n",
      "22  u27         5\n",
      "23  u30         1\n",
      "24  u31        12\n",
      "25  u32         4\n",
      "26  u33        23\n",
      "27  u34         3\n",
      "28  u35         7\n",
      "29  u36         2\n",
      "30  u39         3\n",
      "31  u42         1\n",
      "32  u43         7\n",
      "33  u44         1\n",
      "34  u45         7\n",
      "35  u46        10\n",
      "36  u47         5\n",
      "37  u49         2\n",
      "38  u50         7\n",
      "39  u51         1\n",
      "40  u52        12\n",
      "41  u53         8\n",
      "42  u56         2\n",
      "43  u57         0\n",
      "44  u58         5\n",
      "45  u59         5\n"
     ]
    }
   ],
   "source": [
    "PHQ9BaseDf = pd.DataFrame()\n",
    "PHQ9BaseDf = pd.read_csv('Paper33SupData/phq9_baseline.csv')\n",
    "PHQ9BaseDf.rename(columns={'PHQ9': 'PHQ9Base'}, inplace=True)\n",
    "print(PHQ9BaseDf)"
   ]
  },
  {
   "cell_type": "code",
   "execution_count": 7,
   "metadata": {},
   "outputs": [
    {
     "name": "stdout",
     "output_type": "stream",
     "text": [
      "     id     SpeedMean  SpeedVariance  TotalDistance  LocationVariance  \\\n",
      "0   u00  2.329154e-05   2.505256e-07     229.987882          5.274546   \n",
      "1   u01  6.054921e-07   2.877519e-11       2.566260        -11.383360   \n",
      "2   u02  1.615362e-06   1.920707e-09       6.686956         -6.973576   \n",
      "3   u03  3.545538e-07   8.135541e-11       0.824013        -11.517559   \n",
      "4   u04  1.389936e-06   6.292272e-10      27.183983         -3.618104   \n",
      "5   u05  7.993447e-07   1.376761e-10       5.184300         -4.759810   \n",
      "6   u07  5.926940e-07   3.656015e-11      26.565523         -1.906466   \n",
      "7   u09  7.646657e-07   3.040105e-11       9.662998         -4.076226   \n",
      "8   u10  5.302156e-07   2.703248e-11       2.176755        -12.302372   \n",
      "9   u14  5.455124e-07   1.866984e-11       5.338019         -2.688427   \n",
      "10  u15  7.962274e-07   6.297755e-11      13.623527         -1.093077   \n",
      "11  u16  4.431602e-07   1.537332e-11       2.274338        -11.390213   \n",
      "12  u17  3.481990e-07   1.148690e-11       1.465940        -12.665977   \n",
      "13  u18  7.083283e-07   1.078424e-10       4.938231         -2.643063   \n",
      "14  u19  4.148111e-07   1.222560e-11       4.061062         -8.290581   \n",
      "15  u20  2.568014e-07   1.060251e-11       0.679675        -12.621449   \n",
      "16  u23  2.332059e-06   6.970863e-10       0.842568        -13.951776   \n",
      "17  u24  4.851183e-07   1.262300e-11       1.388025        -10.251801   \n",
      "18  u27  2.974533e-07   4.594814e-12       1.209075        -13.285730   \n",
      "19  u30  7.858562e-07   7.580092e-11      43.240691          0.075154   \n",
      "20  u31  5.039199e-06   9.221601e-10      25.613401         -2.006705   \n",
      "21  u32  8.657311e-07   1.469264e-10       6.323537         -3.207732   \n",
      "22  u33  7.731390e-07   2.028653e-10       1.300584        -11.344754   \n",
      "23  u34  2.228468e-06   4.215941e-10       6.843434         -7.365468   \n",
      "24  u35  7.979498e-07   1.158996e-10       3.702795         -8.722861   \n",
      "25  u36  2.780666e-06   1.639767e-09     153.261463          4.335594   \n",
      "26  u42  1.216212e-06   5.117493e-11       7.325336         -7.015005   \n",
      "27  u43  1.830817e-06   2.904508e-10      22.175935         -1.949171   \n",
      "28  u44  9.476524e-07   3.314706e-11       4.419011         -8.748244   \n",
      "29  u45  2.731403e-06   3.020192e-10      11.561685         -5.781731   \n",
      "30  u47  2.061817e-06   3.484652e-10       6.764056         -7.367317   \n",
      "31  u49  6.094549e-06   6.831074e-09      15.642379         -2.394526   \n",
      "32  u51  1.721597e-06   1.624588e-10      13.192750         -5.178084   \n",
      "33  u52  1.326245e-06   7.320305e-10       7.306016         -7.546597   \n",
      "34  u53  7.076084e-07   1.538956e-10       6.117555         -4.666164   \n",
      "35  u56  3.812293e-06   1.548043e-09      28.303336         -1.894982   \n",
      "36  u58  1.182285e-06   1.197464e-10       9.343343         -6.666767   \n",
      "37  u59  4.011665e-05   6.753552e-08     196.842881          3.210605   \n",
      "\n",
      "    CircadianMovement  NumberofClusters   Entropy  NormalizedEntropy  \\\n",
      "0           17.454240                 8  1.077922           0.518371   \n",
      "1            2.935552                 1  0.000000           0.000000   \n",
      "2            5.319092                 1  0.000000           0.000000   \n",
      "3            1.093290                 1  0.000000           0.000000   \n",
      "4            6.948778                 2  0.335984           0.484723   \n",
      "5            7.448313                 2  0.030168           0.043523   \n",
      "6            9.103380                 1  0.000000           0.000000   \n",
      "7            6.882331                 3  0.043766           0.039837   \n",
      "8            3.125410                 1  0.000000           0.000000   \n",
      "9            8.191706                 2  0.083834           0.120946   \n",
      "10          11.478187                 3  0.185491           0.168841   \n",
      "11           2.587204                 1  0.000000           0.000000   \n",
      "12           1.953095                 1  0.000000           0.000000   \n",
      "13           7.619303                 2  0.081690           0.117854   \n",
      "14           3.730303                 1  0.000000           0.000000   \n",
      "15           1.224789                 1  0.000000           0.000000   \n",
      "16          -0.400869                 1  0.000000           0.000000   \n",
      "17           1.546222                 1  0.000000           0.000000   \n",
      "18           0.213805                 1  0.000000           0.000000   \n",
      "19          11.635370                 2  0.284922           0.411056   \n",
      "20          10.084649                 3  0.740147           0.673711   \n",
      "21           8.477057                 2  0.048891           0.070535   \n",
      "22           3.789953                 1  0.000000           0.000000   \n",
      "23           7.865107                 3  0.823344           0.749440   \n",
      "24           5.269121                 2  0.113772           0.164138   \n",
      "25          16.716028                 8  0.961354           0.462314   \n",
      "26           8.619236                 4  0.756787           0.545906   \n",
      "27           9.452605                 3  0.147970           0.134688   \n",
      "28           7.092603                 2  0.617901           0.891443   \n",
      "29           8.179013                 3  0.709795           0.646084   \n",
      "30           8.304191                 2  0.684164           0.987041   \n",
      "31          11.031216                 2  0.112071           0.161685   \n",
      "32           6.046901                 6  0.799111           0.445992   \n",
      "33           3.357023                 1  0.000000           0.000000   \n",
      "34           7.403862                 2  0.024487           0.035327   \n",
      "35          11.214320                 3  0.875816           0.797202   \n",
      "36           5.480274                 1  0.000000           0.000000   \n",
      "37          13.034073                 4  0.232540           0.167742   \n",
      "\n",
      "    ContinuousEntropy  HomeStay  TransitionTime  PHQ9  PHQ9Base  \n",
      "0            0.419180  0.634831        0.492154     3         2  \n",
      "1            1.487125  1.000000        0.040658     4         5  \n",
      "2            1.991005  1.000000        0.072620     5        13  \n",
      "3            0.662096  1.000000        0.020286     4         2  \n",
      "4            2.477930  0.894976        0.085524     8         6  \n",
      "5            0.060335  0.995247        0.062047     0         2  \n",
      "6            1.388567  1.000000        0.055072     8         7  \n",
      "7            0.084524  0.993191        0.098773     2         4  \n",
      "8            2.695035  1.000000        0.019295     4         0  \n",
      "9            0.167667  0.983562        0.039726     3         1  \n",
      "10           0.370982  0.959808        0.063483     1         3  \n",
      "11           1.486148  1.000000        0.027018    12         6  \n",
      "12           1.672455  1.000000        0.022812    18        13  \n",
      "13           0.163380  0.984083        0.012198    12        15  \n",
      "14           2.263227  1.000000        0.019160     4         5  \n",
      "15           1.684732  1.000000        0.007413     8         8  \n",
      "16           1.074222  1.000000        0.120845    21        11  \n",
      "17           1.553065  1.000000        0.030303     7         5  \n",
      "18           1.920903  1.000000        0.015308     7         5  \n",
      "19           0.569844  0.917463        0.101015     0         1  \n",
      "20           0.275115  0.665502        0.237588     5        12  \n",
      "21           0.097782  0.991521        0.072608     2         4  \n",
      "22           1.671123  1.000000        0.047721    25        23  \n",
      "23           2.246344  0.555325        0.305809     6         3  \n",
      "24           0.603847  0.975852        0.091874     7         7  \n",
      "25           0.304714  0.474509        0.348729     1         2  \n",
      "26           1.555229  0.747032        0.255608     0         1  \n",
      "27           0.295941  0.967920        0.064478     4         7  \n",
      "28           1.450974  0.691492        0.111353     2         1  \n",
      "29           1.653213  0.587224        0.285338     2         7  \n",
      "30           1.898036  0.566917        0.219484     1         5  \n",
      "31           0.224143  0.976310        0.283067     8         2  \n",
      "32           0.819114  0.560007        0.140025     0         1  \n",
      "33           2.253298  1.000000        0.037834    15        12  \n",
      "34           0.048973  0.996286        0.036791    11         8  \n",
      "35           1.190308  0.622797        0.253150     3         2  \n",
      "36           0.577190  1.000000        0.081496     8         5  \n",
      "37           0.411670  0.947919        0.241111     7         5  \n"
     ]
    }
   ],
   "source": [
    "initialMerge = pd.merge(ExploreDf, PHQ9Df, on='id')\n",
    "merged_df = pd.merge(initialMerge, PHQ9BaseDf, on='id')\n",
    "print(merged_df)\n"
   ]
  },
  {
   "cell_type": "code",
   "execution_count": 8,
   "metadata": {},
   "outputs": [],
   "source": [
    "merged_df = merged_df.drop(columns=['id'])"
   ]
  },
  {
   "cell_type": "code",
   "execution_count": 9,
   "metadata": {},
   "outputs": [
    {
     "data": {
      "image/png": "[encoded data removed]",
      "text/plain": [
       "<Figure size 1200x1000 with 2 Axes>"
      ]
     },
     "metadata": {},
     "output_type": "display_data"
    }
   ],
   "source": [
    "correlation_matrix = merged_df.corr()\n",
    "\n",
    "plt.figure(figsize=(12, 10))\n",
    "sns.heatmap(correlation_matrix, annot=False, cmap='coolwarm', fmt=\".2f\", linewidths=.5)\n",
    "plt.title('Correlation Matrix')\n",
    "\n",
    "plt.show()"
   ]
  },
  {
   "cell_type": "markdown",
   "metadata": {},
   "source": [
    "# Machine Learning Models:\n"
   ]
  },
  {
   "cell_type": "code",
   "execution_count": 19,
   "metadata": {},
   "outputs": [
    {
     "name": "stdout",
     "output_type": "stream",
     "text": [
      "0      3\n",
      "1      4\n",
      "2      5\n",
      "3      0\n",
      "4      2\n",
      "5      4\n",
      "6      3\n",
      "7     12\n",
      "8     18\n",
      "9     12\n",
      "10     4\n",
      "11     7\n",
      "12     0\n",
      "13     5\n",
      "14     7\n",
      "15     1\n",
      "16     4\n",
      "17     2\n",
      "18     2\n",
      "19     1\n",
      "20     8\n",
      "21     0\n",
      "22    15\n",
      "23    11\n",
      "24     3\n",
      "25     8\n",
      "26     7\n",
      "Name: PHQ9, dtype: int64\n"
     ]
    }
   ],
   "source": [
    "# first create classes for phq 9\n",
    "print(merged_df['PHQ9'])"
   ]
  },
  {
   "cell_type": "markdown",
   "metadata": {},
   "source": [
    "## Logistic Regression "
   ]
  },
  {
   "cell_type": "code",
   "execution_count": null,
   "metadata": {},
   "outputs": [],
   "source": []
  },
  {
   "cell_type": "markdown",
   "metadata": {},
   "source": [
    "## Support Vector Machine (SVM)"
   ]
  },
  {
   "cell_type": "code",
   "execution_count": null,
   "metadata": {},
   "outputs": [],
   "source": []
  },
  {
   "cell_type": "markdown",
   "metadata": {},
   "source": [
    "## Random Forest "
   ]
  },
  {
   "cell_type": "markdown",
   "metadata": {},
   "source": [
    "## XGBoost"
   ]
  }
 ],
 "metadata": {
  "kernelspec": {
   "display_name": "Diss",
   "language": "python",
   "name": "python3"
  },
  "language_info": {
   "codemirror_mode": {
    "name": "ipython",
    "version": 3
   },
   "file_extension": ".py",
   "mimetype": "text/x-python",
   "name": "python",
   "nbconvert_exporter": "python",
   "pygments_lexer": "ipython3",
   "version": "3.12.2"
  }
 },
 "nbformat": 4,
 "nbformat_minor": 2
}
