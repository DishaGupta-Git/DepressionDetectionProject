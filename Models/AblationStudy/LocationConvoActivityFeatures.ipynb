{
 "cells": [
  {
   "cell_type": "code",
   "execution_count": 1,
   "metadata": {},
   "outputs": [],
   "source": [
    "import numpy as np\n",
    "import pandas as pd\n",
    "import matplotlib.pyplot as plt\n",
    "import seaborn as sns\n",
    "from sklearn.model_selection import train_test_split\n",
    "from sklearn.preprocessing import MinMaxScaler\n",
    "from sklearn.svm import SVC\n",
    "from sklearn.linear_model import LogisticRegression\n",
    "from sklearn.ensemble import RandomForestClassifier\n",
    "from xgboost import XGBClassifier\n",
    "from sklearn.metrics import accuracy_score, classification_report,confusion_matrix,precision_score\n",
    "from sklearn import metrics\n",
    "from imblearn.over_sampling import SMOTE\n",
    "from sklearn.model_selection import cross_val_score, KFold"
   ]
  },
  {
   "cell_type": "code",
   "execution_count": 2,
   "metadata": {},
   "outputs": [],
   "source": [
    "PHQ9Post = pd.DataFrame()\n",
    "PHQ9Post = pd.read_csv('../../dataset/PHQ9/PHQ9PostClassified.csv')"
   ]
  },
  {
   "cell_type": "code",
   "execution_count": 3,
   "metadata": {},
   "outputs": [],
   "source": [
    "AudioLocationConvoActivityMerged = pd.DataFrame()\n",
    "AudioLocationConvoActivityMerged= pd.read_csv('../../dataset/BasicFeatures/Merged/AudioLocationConvoActivityMerged.csv')\n",
    "\n",
    "DarknessLocationConvoActivityMerged = pd.DataFrame()\n",
    "DarknessLocationConvoActivityMerged= pd.read_csv('../../dataset/BasicFeatures/Merged/DarknessLocationConvoActivityMerged.csv')\n",
    "\n",
    "ChargeLocationConvoActivityMerged = pd.DataFrame()\n",
    "ChargeLocationConvoActivityMerged= pd.read_csv('../../dataset/BasicFeatures/Merged/ChargeLocationConvoActivityMerged.csv')\n",
    "\n",
    "LockLocationConvoActivityMerged = pd.DataFrame()\n",
    "LockLocationConvoActivityMerged= pd.read_csv('../../dataset/BasicFeatures/Merged/LockLocationConvoActivityMerged.csv')"
   ]
  },
  {
   "cell_type": "markdown",
   "metadata": {},
   "source": [
    "## Model Code"
   ]
  },
  {
   "cell_type": "code",
   "execution_count": 4,
   "metadata": {},
   "outputs": [],
   "source": [
    "# Function to calculate sensitivity, specificity, and balanced accuracy\n",
    "def calculate_metrics(y_true, y_pred):\n",
    "    tn, fp, fn, tp = confusion_matrix(y_true, y_pred).ravel()\n",
    "    sensitivity = tp / (tp + fn)\n",
    "    specificity = tn / (tn + fp)\n",
    "    balanced_accuracy = (sensitivity + specificity) / 2\n",
    "    accuracy = accuracy_score(y_true, y_pred)\n",
    "    precision = precision_score(y_true, y_pred)\n",
    "    return sensitivity, specificity, balanced_accuracy, accuracy, precision\n",
    "\n",
    "# Function to train and evaluate with k-fold cross-validation\n",
    "def TrainandEvalWithCrossValidation(model, features, target, name, cv=5):\n",
    "    print(name)\n",
    "    # Perform k-fold cross-validation\n",
    "    kfold = KFold(n_splits=cv, shuffle=True, random_state=42)\n",
    "    \n",
    "    accuracies = []\n",
    "    sensitivities = []\n",
    "    specificities = []\n",
    "    balanced_accuracies = []\n",
    "    precisions = []\n",
    "\n",
    "\n",
    "    for train_idx, test_idx in kfold.split(features):\n",
    "        X_train, X_test = features[train_idx], features[test_idx]\n",
    "        y_train, y_test = target[train_idx], target[test_idx]\n",
    "\n",
    "        model.fit(X_train, y_train)\n",
    "        y_pred = model.predict(X_test)\n",
    "\n",
    "        sensitivity, specificity, balanced_accuracy, accuracy, precision = calculate_metrics(y_test, y_pred)\n",
    "\n",
    "\n",
    "        sensitivities.append(sensitivity)\n",
    "        specificities.append(specificity)\n",
    "        balanced_accuracies.append(balanced_accuracy)\n",
    "        accuracies.append(accuracy)\n",
    "        precisions.append(precision)\n",
    "\n",
    "    # Print average metrics across all folds\n",
    "    print(\"Mean Accuracy:\", sum(accuracies) / len(accuracies))\n",
    "    print(\"Mean Balanced Accuracy:\", sum(balanced_accuracies) / len(balanced_accuracies))\n",
    "    print(\"Mean Sensitivity:\", sum(sensitivities) / len(sensitivities))\n",
    "    print(\"Mean Specificity:\", sum(specificities) / len(specificities))\n",
    "    print(\"Mean Precision:\", sum(precisions) / len(precisions))"
   ]
  },
  {
   "cell_type": "code",
   "execution_count": 5,
   "metadata": {},
   "outputs": [],
   "source": [
    "#declare all model vars:\n",
    "LR = LogisticRegression()\n",
    "SVM = SVC()\n",
    "RF = RandomForestClassifier() \n",
    "XGB = XGBClassifier()"
   ]
  },
  {
   "cell_type": "code",
   "execution_count": 6,
   "metadata": {},
   "outputs": [],
   "source": [
    "# Amend function to run all models with k-fold cross-validation\n",
    "def RunAllModelsNormOversampledWithCrossValidation(data, PHQ9, cv=5):\n",
    "    data = pd.merge(data, PHQ9, on='userId')\n",
    "    data = data.drop(columns=['userId', 'WeekId'])\n",
    "    X = data.drop(['PHQ9'], axis=1)\n",
    "    y = data['PHQ9']\n",
    "\n",
    "    scaler = MinMaxScaler()\n",
    "    XNorm = scaler.fit_transform(X)\n",
    "\n",
    "\n",
    "\n",
    "     # Oversampling\n",
    "    oversampler = SMOTE(random_state=42)\n",
    "    features_resampled, target_resampled = oversampler.fit_resample(XNorm, y)\n",
    "\n",
    "\n",
    "    TrainandEvalWithCrossValidation(SVM, features_resampled, target_resampled, 'SVM', cv)\n",
    "    TrainandEvalWithCrossValidation(XGB, features_resampled, target_resampled, 'XGB', cv)\n",
    "   "
   ]
  },
  {
   "cell_type": "markdown",
   "metadata": {},
   "source": [
    "## Location Convo Combinations"
   ]
  },
  {
   "cell_type": "code",
   "execution_count": 7,
   "metadata": {},
   "outputs": [
    {
     "name": "stdout",
     "output_type": "stream",
     "text": [
      "Audio\n",
      "SVM\n",
      "Mean Accuracy: 0.8566137566137566\n",
      "Mean Balanced Accuracy: 0.8597793872793874\n",
      "Mean Sensitivity: 0.9362092074592075\n",
      "Mean Specificity: 0.7833495670995672\n",
      "Mean Precision: 0.8135897435897436\n",
      "XGB\n",
      "Mean Accuracy: 0.9300264550264551\n",
      "Mean Balanced Accuracy: 0.9328205128205129\n",
      "Mean Sensitivity: 0.9550854700854702\n",
      "Mean Specificity: 0.9105555555555556\n",
      "Mean Precision: 0.9181929181929182\n",
      "\n",
      "Darkness\n",
      "SVM\n",
      "Mean Accuracy: 0.9043650793650793\n",
      "Mean Balanced Accuracy: 0.9069859674639089\n",
      "Mean Sensitivity: 0.9622222222222222\n",
      "Mean Specificity: 0.8517497127055951\n",
      "Mean Precision: 0.8717334626158155\n",
      "XGB\n",
      "Mean Accuracy: 0.9373015873015872\n",
      "Mean Balanced Accuracy: 0.9357400524312289\n",
      "Mean Sensitivity: 0.9784981684981686\n",
      "Mean Specificity: 0.8929819363642894\n",
      "Mean Precision: 0.9075320512820513\n",
      "\n",
      "Charge\n",
      "SVM\n",
      "Mean Accuracy: 0.904365079365079\n",
      "Mean Balanced Accuracy: 0.9061036879786881\n",
      "Mean Sensitivity: 0.943857808857809\n",
      "Mean Specificity: 0.868349567099567\n",
      "Mean Precision: 0.8782198709443291\n",
      "XGB\n",
      "Mean Accuracy: 0.9375661375661375\n",
      "Mean Balanced Accuracy: 0.9375160256410255\n",
      "Mean Sensitivity: 0.9448931623931625\n",
      "Mean Specificity: 0.9301388888888888\n",
      "Mean Precision: 0.9369764957264957\n",
      "\n",
      "Lock\n",
      "SVM\n",
      "Mean Accuracy: 0.9194444444444445\n",
      "Mean Balanced Accuracy: 0.9222036297036299\n",
      "Mean Sensitivity: 0.9731410256410257\n",
      "Mean Specificity: 0.8712662337662337\n",
      "Mean Precision: 0.8777631437190261\n",
      "XGB\n",
      "Mean Accuracy: 0.9449735449735451\n",
      "Mean Balanced Accuracy: 0.9463621794871795\n",
      "Mean Sensitivity: 0.9613354700854702\n",
      "Mean Specificity: 0.9313888888888888\n",
      "Mean Precision: 0.9381526969762264\n"
     ]
    }
   ],
   "source": [
    "print('Audio')\n",
    "RunAllModelsNormOversampledWithCrossValidation(AudioLocationConvoActivityMerged,PHQ9Post, 10)\n",
    "print('')\n",
    "print(\"Darkness\")\n",
    "RunAllModelsNormOversampledWithCrossValidation(DarknessLocationConvoActivityMerged,PHQ9Post, 10)\n",
    "print('')\n",
    "print(\"Charge\")\n",
    "RunAllModelsNormOversampledWithCrossValidation(ChargeLocationConvoActivityMerged,PHQ9Post, 10)\n",
    "print('')\n",
    "print(\"Lock\")\n",
    "RunAllModelsNormOversampledWithCrossValidation(LockLocationConvoActivityMerged,PHQ9Post, 10)"
   ]
  }
 ],
 "metadata": {
  "kernelspec": {
   "display_name": "Diss",
   "language": "python",
   "name": "python3"
  },
  "language_info": {
   "codemirror_mode": {
    "name": "ipython",
    "version": 3
   },
   "file_extension": ".py",
   "mimetype": "text/x-python",
   "name": "python",
   "nbconvert_exporter": "python",
   "pygments_lexer": "ipython3",
   "version": "3.12.2"
  }
 },
 "nbformat": 4,
 "nbformat_minor": 2
}
