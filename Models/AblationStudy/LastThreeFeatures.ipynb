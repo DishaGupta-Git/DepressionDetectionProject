{
 "cells": [
  {
   "cell_type": "code",
   "execution_count": 1,
   "metadata": {},
   "outputs": [],
   "source": [
    "import numpy as np\n",
    "import pandas as pd\n",
    "import matplotlib.pyplot as plt\n",
    "import seaborn as sns\n",
    "from sklearn.model_selection import train_test_split\n",
    "from sklearn.preprocessing import MinMaxScaler\n",
    "from sklearn.svm import SVC\n",
    "from sklearn.linear_model import LogisticRegression\n",
    "from sklearn.ensemble import RandomForestClassifier\n",
    "from xgboost import XGBClassifier\n",
    "from sklearn.metrics import accuracy_score, classification_report,confusion_matrix,precision_score\n",
    "from sklearn import metrics\n",
    "from imblearn.over_sampling import SMOTE\n",
    "from sklearn.model_selection import cross_val_score, KFold"
   ]
  },
  {
   "cell_type": "code",
   "execution_count": 2,
   "metadata": {},
   "outputs": [],
   "source": [
    "PHQ9Post = pd.DataFrame()\n",
    "PHQ9Post = pd.read_csv('../../dataset/PHQ9/PHQ9PostClassified.csv')"
   ]
  },
  {
   "cell_type": "code",
   "execution_count": 3,
   "metadata": {},
   "outputs": [],
   "source": [
    "AudioLocationConvoActivityLockMerged = pd.DataFrame()\n",
    "AudioLocationConvoActivityLockMerged= pd.read_csv('../../dataset/BasicFeatures/Merged/AudioLocationConvoActivityLockMerged.csv')\n",
    "\n",
    "DarknessLocationConvoActivityLockMerged = pd.DataFrame()\n",
    "DarknessLocationConvoActivityLockMerged= pd.read_csv('../../dataset/BasicFeatures/Merged/DarknessLocationConvoActivityLockMerged.csv')\n",
    "\n",
    "ChargeLocationConvoActivityLockMerged = pd.DataFrame()\n",
    "ChargeLocationConvoActivityLockMerged= pd.read_csv('../../dataset/BasicFeatures/Merged/ChargeLocationConvoActivityLockMerged.csv')\n"
   ]
  },
  {
   "cell_type": "code",
   "execution_count": 8,
   "metadata": {},
   "outputs": [],
   "source": [
    "AudioLocationConvoActivityLockDarkMerged = pd.DataFrame()\n",
    "AudioLocationConvoActivityLockDarkMerged= pd.read_csv('../../dataset/BasicFeatures/Merged/AudioLocationConvoActivityLockDarkMerged.csv')\n",
    "\n",
    "ChargeLocationConvoActivityLockDarkMerged = pd.DataFrame()\n",
    "ChargeLocationConvoActivityLockDarkMerged= pd.read_csv('../../dataset/BasicFeatures/Merged/ChargeLocationConvoActivityLockDarkMerged.csv')"
   ]
  },
  {
   "cell_type": "markdown",
   "metadata": {},
   "source": [
    "## Model Code"
   ]
  },
  {
   "cell_type": "code",
   "execution_count": 4,
   "metadata": {},
   "outputs": [],
   "source": [
    "# Function to calculate sensitivity, specificity, and balanced accuracy\n",
    "def calculate_metrics(y_true, y_pred):\n",
    "    tn, fp, fn, tp = confusion_matrix(y_true, y_pred).ravel()\n",
    "    sensitivity = tp / (tp + fn)\n",
    "    specificity = tn / (tn + fp)\n",
    "    balanced_accuracy = (sensitivity + specificity) / 2\n",
    "    accuracy = accuracy_score(y_true, y_pred)\n",
    "    precision = precision_score(y_true, y_pred)\n",
    "    return sensitivity, specificity, balanced_accuracy, accuracy, precision\n",
    "\n",
    "# Function to train and evaluate with k-fold cross-validation\n",
    "def TrainandEvalWithCrossValidation(model, features, target, name, cv=5):\n",
    "    print(name)\n",
    "    # Perform k-fold cross-validation\n",
    "    kfold = KFold(n_splits=cv, shuffle=True, random_state=42)\n",
    "    \n",
    "    accuracies = []\n",
    "    sensitivities = []\n",
    "    specificities = []\n",
    "    balanced_accuracies = []\n",
    "    precisions = []\n",
    "\n",
    "\n",
    "    for train_idx, test_idx in kfold.split(features):\n",
    "        X_train, X_test = features[train_idx], features[test_idx]\n",
    "        y_train, y_test = target[train_idx], target[test_idx]\n",
    "\n",
    "        model.fit(X_train, y_train)\n",
    "        y_pred = model.predict(X_test)\n",
    "\n",
    "        sensitivity, specificity, balanced_accuracy, accuracy, precision = calculate_metrics(y_test, y_pred)\n",
    "\n",
    "\n",
    "        sensitivities.append(sensitivity)\n",
    "        specificities.append(specificity)\n",
    "        balanced_accuracies.append(balanced_accuracy)\n",
    "        accuracies.append(accuracy)\n",
    "        precisions.append(precision)\n",
    "\n",
    "    # Print average metrics across all folds\n",
    "    print(\"Mean Accuracy:\", sum(accuracies) / len(accuracies))\n",
    "    print(\"Mean Balanced Accuracy:\", sum(balanced_accuracies) / len(balanced_accuracies))\n",
    "    print(\"Mean Sensitivity:\", sum(sensitivities) / len(sensitivities))\n",
    "    print(\"Mean Specificity:\", sum(specificities) / len(specificities))\n",
    "    print(\"Mean Precision:\", sum(precisions) / len(precisions))"
   ]
  },
  {
   "cell_type": "code",
   "execution_count": 5,
   "metadata": {},
   "outputs": [],
   "source": [
    "#declare all model vars:\n",
    "LR = LogisticRegression()\n",
    "SVM = SVC()\n",
    "RF = RandomForestClassifier() \n",
    "XGB = XGBClassifier()"
   ]
  },
  {
   "cell_type": "code",
   "execution_count": 12,
   "metadata": {},
   "outputs": [],
   "source": [
    "# Amend function to run all models with k-fold cross-validation\n",
    "def RunAllModelsNormOversampledWithCrossValidation(data, PHQ9, cv=5):\n",
    "    data = pd.merge(data, PHQ9, on='userId')\n",
    "    data = data.drop(columns=['userId', 'WeekId'])\n",
    "    X = data.drop(['PHQ9'], axis=1)\n",
    "    y = data['PHQ9']\n",
    "\n",
    "    scaler = MinMaxScaler()\n",
    "    XNorm = scaler.fit_transform(X)\n",
    "\n",
    "\n",
    "\n",
    "     # Oversampling\n",
    "    oversampler = SMOTE(random_state=42)\n",
    "    features_resampled, target_resampled = oversampler.fit_resample(XNorm, y)\n",
    "\n",
    "    # TrainandEvalWithCrossValidation(LR, features_resampled, target_resampled, 'LR', cv)\n",
    "    TrainandEvalWithCrossValidation(SVM, features_resampled, target_resampled, 'SVM', cv)\n",
    "    # TrainandEvalWithCrossValidation(RF, features_resampled, target_resampled, 'RF', cv)\n",
    "    TrainandEvalWithCrossValidation(XGB, features_resampled, target_resampled, 'XGB', cv)\n",
    "   "
   ]
  },
  {
   "cell_type": "markdown",
   "metadata": {},
   "source": [
    "## Location Convo Activity Lock Combinations"
   ]
  },
  {
   "cell_type": "code",
   "execution_count": 7,
   "metadata": {},
   "outputs": [
    {
     "name": "stdout",
     "output_type": "stream",
     "text": [
      "Audio\n",
      "SVM\n",
      "Mean Accuracy: 0.9193121693121693\n",
      "Mean Balanced Accuracy: 0.9203962703962704\n",
      "Mean Sensitivity: 0.9578001165501167\n",
      "Mean Specificity: 0.8829924242424243\n",
      "Mean Precision: 0.8911055920343844\n",
      "XGB\n",
      "Mean Accuracy: 0.9267195767195766\n",
      "Mean Balanced Accuracy: 0.9288621794871794\n",
      "Mean Sensitivity: 0.9425854700854701\n",
      "Mean Specificity: 0.9151388888888888\n",
      "Mean Precision: 0.9265262515262516\n",
      "\n",
      "Darkness\n",
      "SVM\n",
      "Mean Accuracy: 0.9411375661375662\n",
      "Mean Balanced Accuracy: 0.9427049217122747\n",
      "Mean Sensitivity: 0.9933333333333334\n",
      "Mean Specificity: 0.892076510091216\n",
      "Mean Precision: 0.9006016880436386\n",
      "XGB\n",
      "Mean Accuracy: 0.9482804232804234\n",
      "Mean Balanced Accuracy: 0.9512826348488114\n",
      "Mean Sensitivity: 0.9734188034188035\n",
      "Mean Specificity: 0.9291464662788191\n",
      "Mean Precision: 0.931936274509804\n",
      "\n",
      "Charge\n",
      "SVM\n",
      "Mean Accuracy: 0.9193121693121693\n",
      "Mean Balanced Accuracy: 0.9186036879786881\n",
      "Mean Sensitivity: 0.9480244755244754\n",
      "Mean Specificity: 0.8891829004329004\n",
      "Mean Precision: 0.8959747360482655\n",
      "XGB\n",
      "Mean Accuracy: 0.9082010582010582\n",
      "Mean Balanced Accuracy: 0.9124465811965813\n",
      "Mean Sensitivity: 0.9143376068376069\n",
      "Mean Specificity: 0.9105555555555556\n",
      "Mean Precision: 0.9130965847877613\n"
     ]
    }
   ],
   "source": [
    "print('Audio')\n",
    "RunAllModelsNormOversampledWithCrossValidation(AudioLocationConvoActivityLockMerged,PHQ9Post, 10)\n",
    "print('')\n",
    "print(\"Darkness\")\n",
    "RunAllModelsNormOversampledWithCrossValidation(DarknessLocationConvoActivityLockMerged,PHQ9Post, 10)\n",
    "print('')\n",
    "print(\"Charge\")\n",
    "RunAllModelsNormOversampledWithCrossValidation(ChargeLocationConvoActivityLockMerged,PHQ9Post, 10)\n"
   ]
  },
  {
   "cell_type": "markdown",
   "metadata": {},
   "source": [
    "## Location Convo Activity Lock Darkness Combinations"
   ]
  },
  {
   "cell_type": "code",
   "execution_count": 9,
   "metadata": {},
   "outputs": [
    {
     "name": "stdout",
     "output_type": "stream",
     "text": [
      "Audio\n",
      "SVM\n",
      "Mean Accuracy: 0.9447089947089946\n",
      "Mean Balanced Accuracy: 0.9464397489765138\n",
      "Mean Sensitivity: 0.9800854700854702\n",
      "Mean Specificity: 0.9127940278675574\n",
      "Mean Precision: 0.9176948215183509\n",
      "XGB\n",
      "Mean Accuracy: 0.9485449735449736\n",
      "Mean Balanced Accuracy: 0.9525540921496803\n",
      "Mean Sensitivity: 0.9611965811965811\n",
      "Mean Specificity: 0.9439116031027798\n",
      "Mean Precision: 0.9432167832167833\n",
      "\n",
      "Charge\n",
      "SVM\n",
      "Mean Accuracy: 0.9410052910052908\n",
      "Mean Balanced Accuracy: 0.9402828503196151\n",
      "Mean Sensitivity: 0.9933333333333334\n",
      "Mean Specificity: 0.8872323673058966\n",
      "Mean Precision: 0.8992307692307693\n",
      "XGB\n",
      "Mean Accuracy: 0.951851851851852\n",
      "Mean Balanced Accuracy: 0.9548906934568698\n",
      "Mean Sensitivity: 0.9800854700854702\n",
      "Mean Specificity: 0.9296959168282697\n",
      "Mean Precision: 0.9293910256410257\n"
     ]
    }
   ],
   "source": [
    "print('Audio')\n",
    "RunAllModelsNormOversampledWithCrossValidation(AudioLocationConvoActivityLockDarkMerged,PHQ9Post, 10)\n",
    "print('')\n",
    "print(\"Charge\")\n",
    "RunAllModelsNormOversampledWithCrossValidation(ChargeLocationConvoActivityLockDarkMerged,PHQ9Post, 10)"
   ]
  },
  {
   "cell_type": "markdown",
   "metadata": {},
   "source": [
    "## Run ALL Models"
   ]
  },
  {
   "cell_type": "code",
   "execution_count": 11,
   "metadata": {},
   "outputs": [
    {
     "name": "stdout",
     "output_type": "stream",
     "text": [
      "LR\n",
      "Mean Accuracy: 0.8972222222222221\n",
      "Mean Balanced Accuracy: 0.9045265029088558\n",
      "Mean Sensitivity: 0.9323076923076924\n",
      "Mean Specificity: 0.8767453135100194\n",
      "Mean Precision: 0.876821805645335\n",
      "SVM\n",
      "Mean Accuracy: 0.9411375661375662\n",
      "Mean Balanced Accuracy: 0.9427049217122747\n",
      "Mean Sensitivity: 0.9933333333333334\n",
      "Mean Specificity: 0.892076510091216\n",
      "Mean Precision: 0.9006016880436386\n",
      "RF\n",
      "Mean Accuracy: 0.955952380952381\n",
      "Mean Balanced Accuracy: 0.9586841916253681\n",
      "Mean Sensitivity: 0.9434188034188035\n",
      "Mean Specificity: 0.9739495798319326\n",
      "Mean Precision: 0.9684848484848485\n",
      "XGB\n",
      "Mean Accuracy: 0.9482804232804234\n",
      "Mean Balanced Accuracy: 0.9512826348488114\n",
      "Mean Sensitivity: 0.9734188034188035\n",
      "Mean Specificity: 0.9291464662788191\n",
      "Mean Precision: 0.931936274509804\n"
     ]
    }
   ],
   "source": [
    "RunAllModelsNormOversampledWithCrossValidation(DarknessLocationConvoActivityLockMerged,PHQ9Post, 10)"
   ]
  }
 ],
 "metadata": {
  "kernelspec": {
   "display_name": "Diss",
   "language": "python",
   "name": "python3"
  },
  "language_info": {
   "codemirror_mode": {
    "name": "ipython",
    "version": 3
   },
   "file_extension": ".py",
   "mimetype": "text/x-python",
   "name": "python",
   "nbconvert_exporter": "python",
   "pygments_lexer": "ipython3",
   "version": "3.12.2"
  }
 },
 "nbformat": 4,
 "nbformat_minor": 2
}
