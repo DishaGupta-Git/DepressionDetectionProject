{
 "cells": [
  {
   "cell_type": "code",
   "execution_count": 1,
   "metadata": {},
   "outputs": [],
   "source": [
    "import numpy as np\n",
    "import pandas as pd\n",
    "import matplotlib.pyplot as plt\n",
    "import seaborn as sns\n",
    "from sklearn.model_selection import train_test_split\n",
    "from sklearn.preprocessing import MinMaxScaler\n",
    "from sklearn.svm import SVC\n",
    "from sklearn.linear_model import LogisticRegression\n",
    "from sklearn.ensemble import RandomForestClassifier\n",
    "from xgboost import XGBClassifier\n",
    "from sklearn.metrics import accuracy_score, classification_report,confusion_matrix,precision_score\n",
    "from sklearn import metrics\n",
    "from imblearn.over_sampling import SMOTE\n",
    "from sklearn.model_selection import cross_val_score, KFold"
   ]
  },
  {
   "cell_type": "code",
   "execution_count": 2,
   "metadata": {},
   "outputs": [],
   "source": [
    "PHQ9Post = pd.DataFrame()\n",
    "PHQ9Post = pd.read_csv('../../dataset/PHQ9/PHQ9PostClassified.csv')"
   ]
  },
  {
   "cell_type": "code",
   "execution_count": 3,
   "metadata": {},
   "outputs": [],
   "source": [
    "\n",
    "AudioActivityMerged = pd.DataFrame()\n",
    "AudioActivityMerged= pd.read_csv('../../dataset/BasicFeatures/Merged/AudioActivityMerged.csv')\n",
    "\n",
    "ConvoActivityMerged = pd.DataFrame()\n",
    "ConvoActivityMerged= pd.read_csv('../../dataset/BasicFeatures/Merged/ConvoActivityMerged.csv')\n",
    "\n",
    "LocationActivityMerged = pd.DataFrame()\n",
    "LocationActivityMerged= pd.read_csv('../../dataset/BasicFeatures/Merged/LocationActivityMerged.csv')\n",
    "\n",
    "DarknessActivityMerged = pd.DataFrame()\n",
    "DarknessActivityMerged= pd.read_csv('../../dataset/BasicFeatures/Merged/DarknessActivityMerged.csv')\n",
    "\n",
    "ChargeActivityMerged = pd.DataFrame()\n",
    "ChargeActivityMerged= pd.read_csv('../../dataset/BasicFeatures/Merged/ChargeActivityMerged.csv')\n",
    "\n",
    "LockActivityMerged = pd.DataFrame()\n",
    "LockActivityMerged= pd.read_csv('../../dataset/BasicFeatures/Merged/LockActivityMerged.csv')"
   ]
  },
  {
   "cell_type": "code",
   "execution_count": 4,
   "metadata": {},
   "outputs": [],
   "source": [
    "\n",
    "AudioLocationMerged = pd.DataFrame()\n",
    "AudioLocationMerged= pd.read_csv('../../dataset/BasicFeatures/Merged/AudioLocationMerged.csv')\n",
    "\n",
    "ConvoLocationMerged = pd.DataFrame()\n",
    "ConvoLocationMerged= pd.read_csv('../../dataset/BasicFeatures/Merged/ConvoLocationMerged.csv')\n",
    "\n",
    "ActivityLocationMerged = pd.DataFrame()\n",
    "ActivityLocationMerged= pd.read_csv('../../dataset/BasicFeatures/Merged/ActivityLocationMerged.csv')\n",
    "\n",
    "DarknessLocationMerged = pd.DataFrame()\n",
    "DarknessLocationMerged= pd.read_csv('../../dataset/BasicFeatures/Merged/DarknessLocationMerged.csv')\n",
    "\n",
    "ChargeLocationMerged = pd.DataFrame()\n",
    "ChargeLocationMerged= pd.read_csv('../../dataset/BasicFeatures/Merged/ChargeLocationMerged.csv')\n",
    "\n",
    "LockLocationMerged = pd.DataFrame()\n",
    "LockLocationMerged= pd.read_csv('../../dataset/BasicFeatures/Merged/LockLocationMerged.csv')"
   ]
  },
  {
   "cell_type": "markdown",
   "metadata": {},
   "source": [
    "## Model Code"
   ]
  },
  {
   "cell_type": "code",
   "execution_count": 5,
   "metadata": {},
   "outputs": [],
   "source": [
    "# Function to calculate sensitivity, specificity, and balanced accuracy\n",
    "def calculate_metrics(y_true, y_pred):\n",
    "    tn, fp, fn, tp = confusion_matrix(y_true, y_pred).ravel()\n",
    "    sensitivity = tp / (tp + fn)\n",
    "    specificity = tn / (tn + fp)\n",
    "    balanced_accuracy = (sensitivity + specificity) / 2\n",
    "    accuracy = accuracy_score(y_true, y_pred)\n",
    "    precision = precision_score(y_true, y_pred)\n",
    "    return sensitivity, specificity, balanced_accuracy, accuracy, precision\n",
    "\n",
    "# Function to train and evaluate with k-fold cross-validation\n",
    "def TrainandEvalWithCrossValidation(model, features, target, name, cv=5):\n",
    "    print(name)\n",
    "    # Perform k-fold cross-validation\n",
    "    kfold = KFold(n_splits=cv, shuffle=True, random_state=42)\n",
    "    \n",
    "    accuracies = []\n",
    "    sensitivities = []\n",
    "    specificities = []\n",
    "    balanced_accuracies = []\n",
    "    precisions = []\n",
    "\n",
    "\n",
    "    for train_idx, test_idx in kfold.split(features):\n",
    "        X_train, X_test = features[train_idx], features[test_idx]\n",
    "        y_train, y_test = target[train_idx], target[test_idx]\n",
    "\n",
    "        model.fit(X_train, y_train)\n",
    "        y_pred = model.predict(X_test)\n",
    "\n",
    "        sensitivity, specificity, balanced_accuracy, accuracy, precision = calculate_metrics(y_test, y_pred)\n",
    "\n",
    "\n",
    "        sensitivities.append(sensitivity)\n",
    "        specificities.append(specificity)\n",
    "        balanced_accuracies.append(balanced_accuracy)\n",
    "        accuracies.append(accuracy)\n",
    "        precisions.append(precision)\n",
    "\n",
    "    # Print average metrics across all folds\n",
    "    print(\"Mean Accuracy:\", sum(accuracies) / len(accuracies))\n",
    "    print(\"Mean Balanced Accuracy:\", sum(balanced_accuracies) / len(balanced_accuracies))\n",
    "    print(\"Mean Sensitivity:\", sum(sensitivities) / len(sensitivities))\n",
    "    print(\"Mean Specificity:\", sum(specificities) / len(specificities))\n",
    "    print(\"Mean Precision:\", sum(precisions) / len(precisions))"
   ]
  },
  {
   "cell_type": "code",
   "execution_count": 6,
   "metadata": {},
   "outputs": [],
   "source": [
    "#declare all model vars:\n",
    "LR = LogisticRegression()\n",
    "SVM = SVC()\n",
    "RF = RandomForestClassifier() \n",
    "XGB = XGBClassifier()"
   ]
  },
  {
   "cell_type": "code",
   "execution_count": 7,
   "metadata": {},
   "outputs": [],
   "source": [
    "# Amend function to run all models with k-fold cross-validation\n",
    "def RunAllModelsNormOversampledWithCrossValidation(data, PHQ9, cv=5):\n",
    "    data = pd.merge(data, PHQ9, on='userId')\n",
    "    data = data.drop(columns=['userId', 'WeekId'])\n",
    "    X = data.drop(['PHQ9'], axis=1)\n",
    "    y = data['PHQ9']\n",
    "\n",
    "    scaler = MinMaxScaler()\n",
    "    XNorm = scaler.fit_transform(X)\n",
    "\n",
    "\n",
    "\n",
    "     # Oversampling\n",
    "    oversampler = SMOTE(random_state=42)\n",
    "    features_resampled, target_resampled = oversampler.fit_resample(XNorm, y)\n",
    "\n",
    "\n",
    "    TrainandEvalWithCrossValidation(SVM, features_resampled, target_resampled, 'SVM', cv)\n",
    "    TrainandEvalWithCrossValidation(XGB, features_resampled, target_resampled, 'XGB', cv)\n",
    "   "
   ]
  },
  {
   "cell_type": "markdown",
   "metadata": {},
   "source": [
    "## Activity Pairs"
   ]
  },
  {
   "cell_type": "markdown",
   "metadata": {},
   "source": [
    "### Audio\n"
   ]
  },
  {
   "cell_type": "code",
   "execution_count": 8,
   "metadata": {},
   "outputs": [
    {
     "name": "stdout",
     "output_type": "stream",
     "text": [
      "SVM\n",
      "Mean Accuracy: 0.7225462304409673\n",
      "Mean Balanced Accuracy: 0.7232513573457846\n",
      "Mean Sensitivity: 0.733023825160048\n",
      "Mean Specificity: 0.713478889531521\n",
      "Mean Precision: 0.7148830409356726\n",
      "XGB\n",
      "Mean Accuracy: 0.8731863442389759\n",
      "Mean Balanced Accuracy: 0.8689479506561548\n",
      "Mean Sensitivity: 0.8546237786980821\n",
      "Mean Specificity: 0.8832721226142279\n",
      "Mean Precision: 0.8858800044984255\n"
     ]
    }
   ],
   "source": [
    "RunAllModelsNormOversampledWithCrossValidation(AudioActivityMerged,PHQ9Post, 10)"
   ]
  },
  {
   "cell_type": "markdown",
   "metadata": {},
   "source": [
    "### Conversation"
   ]
  },
  {
   "cell_type": "code",
   "execution_count": 9,
   "metadata": {},
   "outputs": [
    {
     "name": "stdout",
     "output_type": "stream",
     "text": [
      "SVM\n",
      "Mean Accuracy: 0.6983641536273115\n",
      "Mean Balanced Accuracy: 0.7002971530963016\n",
      "Mean Sensitivity: 0.688407064899325\n",
      "Mean Specificity: 0.7121872412932786\n",
      "Mean Precision: 0.7109445428115505\n",
      "XGB\n",
      "Mean Accuracy: 0.8704836415362731\n",
      "Mean Balanced Accuracy: 0.8685107009433635\n",
      "Mean Sensitivity: 0.8895654599958005\n",
      "Mean Specificity: 0.8474559418909265\n",
      "Mean Precision: 0.8498916494133884\n"
     ]
    }
   ],
   "source": [
    "RunAllModelsNormOversampledWithCrossValidation(ConvoActivityMerged,PHQ9Post, 10)"
   ]
  },
  {
   "cell_type": "markdown",
   "metadata": {},
   "source": [
    "### Location"
   ]
  },
  {
   "cell_type": "code",
   "execution_count": 10,
   "metadata": {},
   "outputs": [
    {
     "name": "stdout",
     "output_type": "stream",
     "text": [
      "SVM\n",
      "Mean Accuracy: 0.7826719576719576\n",
      "Mean Balanced Accuracy: 0.7840714146964147\n",
      "Mean Sensitivity: 0.9707167832167833\n",
      "Mean Specificity: 0.5974260461760462\n",
      "Mean Precision: 0.7090732959850607\n",
      "XGB\n",
      "Mean Accuracy: 0.9337301587301587\n",
      "Mean Balanced Accuracy: 0.9345194388944389\n",
      "Mean Sensitivity: 0.9316579254079255\n",
      "Mean Specificity: 0.9373809523809523\n",
      "Mean Precision: 0.9295995670995671\n"
     ]
    }
   ],
   "source": [
    "RunAllModelsNormOversampledWithCrossValidation(LocationActivityMerged,PHQ9Post, 10)"
   ]
  },
  {
   "cell_type": "markdown",
   "metadata": {},
   "source": [
    "### Darkness"
   ]
  },
  {
   "cell_type": "code",
   "execution_count": 11,
   "metadata": {},
   "outputs": [
    {
     "name": "stdout",
     "output_type": "stream",
     "text": [
      "SVM\n",
      "Mean Accuracy: 0.7300853485064012\n",
      "Mean Balanced Accuracy: 0.7315627571845602\n",
      "Mean Sensitivity: 0.6949062049062048\n",
      "Mean Specificity: 0.7682193094629156\n",
      "Mean Precision: 0.7614606145488498\n",
      "XGB\n",
      "Mean Accuracy: 0.8967994310099572\n",
      "Mean Balanced Accuracy: 0.8977221198097158\n",
      "Mean Sensitivity: 0.893903318903319\n",
      "Mean Specificity: 0.9015409207161126\n",
      "Mean Precision: 0.895301841560423\n"
     ]
    }
   ],
   "source": [
    "RunAllModelsNormOversampledWithCrossValidation(DarknessActivityMerged,PHQ9Post, 10)"
   ]
  },
  {
   "cell_type": "markdown",
   "metadata": {},
   "source": [
    "### Charge"
   ]
  },
  {
   "cell_type": "code",
   "execution_count": 12,
   "metadata": {},
   "outputs": [
    {
     "name": "stdout",
     "output_type": "stream",
     "text": [
      "SVM\n",
      "Mean Accuracy: 0.7017069701280227\n",
      "Mean Balanced Accuracy: 0.7031156064811335\n",
      "Mean Sensitivity: 0.5887945241892611\n",
      "Mean Specificity: 0.8174366887730059\n",
      "Mean Precision: 0.7600790059613589\n",
      "XGB\n",
      "Mean Accuracy: 0.9014935988620201\n",
      "Mean Balanced Accuracy: 0.9019446462101935\n",
      "Mean Sensitivity: 0.9169233690286323\n",
      "Mean Specificity: 0.8869659233917545\n",
      "Mean Precision: 0.8926738950763718\n"
     ]
    }
   ],
   "source": [
    "RunAllModelsNormOversampledWithCrossValidation(ChargeActivityMerged,PHQ9Post, 10)"
   ]
  },
  {
   "cell_type": "markdown",
   "metadata": {},
   "source": [
    "### Lock"
   ]
  },
  {
   "cell_type": "code",
   "execution_count": 13,
   "metadata": {},
   "outputs": [
    {
     "name": "stdout",
     "output_type": "stream",
     "text": [
      "SVM\n",
      "Mean Accuracy: 0.660881934566145\n",
      "Mean Balanced Accuracy: 0.6599929615448191\n",
      "Mean Sensitivity: 0.6093135691278107\n",
      "Mean Specificity: 0.7106723539618276\n",
      "Mean Precision: 0.6796195652173914\n",
      "XGB\n",
      "Mean Accuracy: 0.8887624466571836\n",
      "Mean Balanced Accuracy: 0.8824928237826846\n",
      "Mean Sensitivity: 0.9038677084869035\n",
      "Mean Specificity: 0.8611179390784655\n",
      "Mean Precision: 0.8752211624543026\n"
     ]
    }
   ],
   "source": [
    "RunAllModelsNormOversampledWithCrossValidation(LockActivityMerged,PHQ9Post, 10)"
   ]
  },
  {
   "cell_type": "markdown",
   "metadata": {},
   "source": [
    "## Location Pairs"
   ]
  },
  {
   "cell_type": "markdown",
   "metadata": {},
   "source": [
    "### Audio"
   ]
  },
  {
   "cell_type": "code",
   "execution_count": 14,
   "metadata": {},
   "outputs": [
    {
     "name": "stdout",
     "output_type": "stream",
     "text": [
      "SVM\n",
      "Mean Accuracy: 0.8456349206349205\n",
      "Mean Balanced Accuracy: 0.8450652819402821\n",
      "Mean Sensitivity: 0.9357925407925409\n",
      "Mean Specificity: 0.7543380230880231\n",
      "Mean Precision: 0.7971177944862156\n",
      "XGB\n",
      "Mean Accuracy: 0.9042328042328043\n",
      "Mean Balanced Accuracy: 0.8991210178710178\n",
      "Mean Sensitivity: 0.8935198135198135\n",
      "Mean Specificity: 0.9047222222222222\n",
      "Mean Precision: 0.9190974161717197\n"
     ]
    }
   ],
   "source": [
    "RunAllModelsNormOversampledWithCrossValidation(AudioLocationMerged,PHQ9Post, 10)"
   ]
  },
  {
   "cell_type": "markdown",
   "metadata": {},
   "source": [
    "### Conversation"
   ]
  },
  {
   "cell_type": "code",
   "execution_count": 15,
   "metadata": {},
   "outputs": [
    {
     "name": "stdout",
     "output_type": "stream",
     "text": [
      "SVM\n",
      "Mean Accuracy: 0.8568783068783068\n",
      "Mean Balanced Accuracy: 0.8628268259518259\n",
      "Mean Sensitivity: 0.9397445609945609\n",
      "Mean Specificity: 0.7859090909090909\n",
      "Mean Precision: 0.8149983130904183\n",
      "XGB\n",
      "Mean Accuracy: 0.9338624338624338\n",
      "Mean Balanced Accuracy: 0.933901862026862\n",
      "Mean Sensitivity: 0.9664743589743591\n",
      "Mean Specificity: 0.9013293650793651\n",
      "Mean Precision: 0.9107548518732729\n"
     ]
    }
   ],
   "source": [
    "RunAllModelsNormOversampledWithCrossValidation(ConvoLocationMerged,PHQ9Post, 10)"
   ]
  },
  {
   "cell_type": "markdown",
   "metadata": {},
   "source": [
    "### Activity"
   ]
  },
  {
   "cell_type": "code",
   "execution_count": 16,
   "metadata": {},
   "outputs": [
    {
     "name": "stdout",
     "output_type": "stream",
     "text": [
      "SVM\n",
      "Mean Accuracy: 0.7904761904761904\n",
      "Mean Balanced Accuracy: 0.7923656204906205\n",
      "Mean Sensitivity: 0.99375\n",
      "Mean Specificity: 0.5909812409812409\n",
      "Mean Precision: 0.7108136175904382\n",
      "XGB\n",
      "Mean Accuracy: 0.9226190476190477\n",
      "Mean Balanced Accuracy: 0.9170079226329225\n",
      "Mean Sensitivity: 0.922194055944056\n",
      "Mean Specificity: 0.9118217893217893\n",
      "Mean Precision: 0.9259399445583656\n"
     ]
    }
   ],
   "source": [
    "RunAllModelsNormOversampledWithCrossValidation(ActivityLocationMerged,PHQ9Post, 10)\n"
   ]
  },
  {
   "cell_type": "markdown",
   "metadata": {},
   "source": [
    "### Darkness"
   ]
  },
  {
   "cell_type": "code",
   "execution_count": 17,
   "metadata": {},
   "outputs": [
    {
     "name": "stdout",
     "output_type": "stream",
     "text": [
      "SVM\n",
      "Mean Accuracy: 0.8339947089947091\n",
      "Mean Balanced Accuracy: 0.8353236102133161\n",
      "Mean Sensitivity: 0.9321611721611722\n",
      "Mean Specificity: 0.73848604826546\n",
      "Mean Precision: 0.7794561157796451\n",
      "XGB\n",
      "Mean Accuracy: 0.9079365079365079\n",
      "Mean Balanced Accuracy: 0.9105918264741796\n",
      "Mean Sensitivity: 0.9301648351648352\n",
      "Mean Specificity: 0.8910188177835237\n",
      "Mean Precision: 0.8959868421052631\n"
     ]
    }
   ],
   "source": [
    "RunAllModelsNormOversampledWithCrossValidation(DarknessLocationMerged,PHQ9Post, 10)"
   ]
  },
  {
   "cell_type": "markdown",
   "metadata": {},
   "source": [
    "### Charge"
   ]
  },
  {
   "cell_type": "code",
   "execution_count": 18,
   "metadata": {},
   "outputs": [
    {
     "name": "stdout",
     "output_type": "stream",
     "text": [
      "SVM\n",
      "Mean Accuracy: 0.8238095238095238\n",
      "Mean Balanced Accuracy: 0.8222012709512707\n",
      "Mean Sensitivity: 0.939628010878011\n",
      "Mean Specificity: 0.704774531024531\n",
      "Mean Precision: 0.7598872683044509\n",
      "XGB\n",
      "Mean Accuracy: 0.8636243386243386\n",
      "Mean Balanced Accuracy: 0.8653349428349429\n",
      "Mean Sensitivity: 0.8896814296814297\n",
      "Mean Specificity: 0.840988455988456\n",
      "Mean Precision: 0.8623992673992674\n"
     ]
    }
   ],
   "source": [
    "RunAllModelsNormOversampledWithCrossValidation(ChargeLocationMerged,PHQ9Post, 10)"
   ]
  },
  {
   "cell_type": "markdown",
   "metadata": {},
   "source": [
    "### Lock"
   ]
  },
  {
   "cell_type": "code",
   "execution_count": 19,
   "metadata": {},
   "outputs": [
    {
     "name": "stdout",
     "output_type": "stream",
     "text": [
      "SVM\n",
      "Mean Accuracy: 0.857010582010582\n",
      "Mean Balanced Accuracy: 0.8604786879786879\n",
      "Mean Sensitivity: 0.9779487179487181\n",
      "Mean Specificity: 0.743008658008658\n",
      "Mean Precision: 0.7910674482036711\n",
      "XGB\n",
      "Mean Accuracy: 0.9298941798941799\n",
      "Mean Balanced Accuracy: 0.9286998418248418\n",
      "Mean Sensitivity: 0.9709945609945609\n",
      "Mean Specificity: 0.8864051226551226\n",
      "Mean Precision: 0.902215758098111\n"
     ]
    }
   ],
   "source": [
    "RunAllModelsNormOversampledWithCrossValidation(LockLocationMerged,PHQ9Post, 10)"
   ]
  }
 ],
 "metadata": {
  "kernelspec": {
   "display_name": "Diss",
   "language": "python",
   "name": "python3"
  },
  "language_info": {
   "codemirror_mode": {
    "name": "ipython",
    "version": 3
   },
   "file_extension": ".py",
   "mimetype": "text/x-python",
   "name": "python",
   "nbconvert_exporter": "python",
   "pygments_lexer": "ipython3",
   "version": "3.12.2"
  }
 },
 "nbformat": 4,
 "nbformat_minor": 2
}
