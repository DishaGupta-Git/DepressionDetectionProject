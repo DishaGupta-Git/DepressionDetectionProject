{
 "cells": [
  {
   "cell_type": "code",
   "execution_count": 2,
   "metadata": {},
   "outputs": [],
   "source": [
    "import numpy as np\n",
    "import pandas as pd\n",
    "import matplotlib.pyplot as plt\n",
    "import seaborn as sns"
   ]
  },
  {
   "cell_type": "code",
   "execution_count": 3,
   "metadata": {},
   "outputs": [],
   "source": [
    "PHQ9Pre = pd.DataFrame()\n",
    "PHQ9Pre = pd.read_csv('../../dataset/PHQ9/PHQ9Pre.csv')"
   ]
  },
  {
   "cell_type": "code",
   "execution_count": 4,
   "metadata": {},
   "outputs": [],
   "source": [
    "ActivityData = pd.DataFrame()\n",
    "ActivityData = pd.read_csv('../../dataset/BasicFeatures/activityCounts.csv')"
   ]
  },
  {
   "cell_type": "code",
   "execution_count": 5,
   "metadata": {},
   "outputs": [],
   "source": [
    "AudioData = pd.DataFrame()\n",
    "AudioData = pd.read_csv('../../dataset/BasicFeatures/audioCounts.csv')"
   ]
  },
  {
   "cell_type": "code",
   "execution_count": 6,
   "metadata": {},
   "outputs": [],
   "source": [
    "ConversationData = pd.DataFrame()\n",
    "ConversationData = pd.read_csv('../../dataset/BasicFeatures/conversationCounts.csv')"
   ]
  },
  {
   "cell_type": "code",
   "execution_count": 7,
   "metadata": {},
   "outputs": [],
   "source": [
    "locationData = pd.DataFrame()\n",
    "locationData = pd.read_csv('../../dataset/BasicFeatures/locationAvgs.csv')"
   ]
  },
  {
   "cell_type": "code",
   "execution_count": 8,
   "metadata": {},
   "outputs": [],
   "source": [
    "DarknessData = pd.DataFrame()\n",
    "DarknessData = pd.read_csv('../../dataset/BasicFeatures/darknessCounts.csv')"
   ]
  },
  {
   "cell_type": "code",
   "execution_count": 9,
   "metadata": {},
   "outputs": [],
   "source": [
    "ChargeData = pd.DataFrame()\n",
    "ChargeData = pd.read_csv('../../dataset/BasicFeatures/chargeCounts.csv')"
   ]
  },
  {
   "cell_type": "code",
   "execution_count": 10,
   "metadata": {},
   "outputs": [],
   "source": [
    "LockData = pd.DataFrame()\n",
    "LockData = pd.read_csv('../../dataset/BasicFeatures/lockCounts.csv')"
   ]
  },
  {
   "cell_type": "markdown",
   "metadata": {},
   "source": [
    "## All Merged"
   ]
  },
  {
   "cell_type": "code",
   "execution_count": 11,
   "metadata": {},
   "outputs": [
    {
     "name": "stdout",
     "output_type": "stream",
     "text": [
      "    userId  AudioEarlyMorning0  AudioEarlyMorning1  AudioEarlyMorning2  \\\n",
      "0      u00             76723.0             34633.0             13777.0   \n",
      "1      u01             64949.0            103143.0             49805.0   \n",
      "2      u02             69126.0             41614.0             24262.0   \n",
      "3      u05             71359.0             41852.0             22858.0   \n",
      "4      u08             67841.0             70069.0             39624.0   \n",
      "..     ...                 ...                 ...                 ...   \n",
      "255    u53             52041.0             18883.0              2891.0   \n",
      "256    u56             60574.0             25537.0             28762.0   \n",
      "257    u57             50390.0             65704.0             46693.0   \n",
      "258    u58             39449.0             61569.0             29227.0   \n",
      "259    u59            140549.0             42769.0             83108.0   \n",
      "\n",
      "     AudioMorning0  AudioMorning1  AudioMorning2  AudioAfternoon0  \\\n",
      "0          78434.0        11095.0         7620.0          58695.0   \n",
      "1          77108.0        13058.0         7408.0          71009.0   \n",
      "2          77791.0         2060.0         1163.0          64752.0   \n",
      "3          74203.0          524.0         4513.0          63853.0   \n",
      "4          76332.0         3171.0         3211.0          66267.0   \n",
      "..             ...            ...            ...              ...   \n",
      "255        52255.0         7370.0         1438.0          47230.0   \n",
      "256        65118.0         5326.0          804.0          45601.0   \n",
      "257        66657.0        20073.0         9496.0          49206.0   \n",
      "258        54306.0         2273.0         1758.0          40929.0   \n",
      "259        86506.0         3350.0       146812.0          96658.0   \n",
      "\n",
      "     AudioAfternoon1  AudioAfternoon2  ...  LockAfternoonSum  LockEveningSum  \\\n",
      "0            68412.0          47335.0  ...           89564.0        124148.0   \n",
      "1            42493.0          27666.0  ...          274382.0        193860.0   \n",
      "2            37258.0          29528.0  ...           54760.0         93587.0   \n",
      "3            53834.0          43603.0  ...          204453.0        201844.0   \n",
      "4            45082.0          29238.0  ...          110695.0         70940.0   \n",
      "..               ...              ...  ...               ...             ...   \n",
      "255          23084.0           7334.0  ...          102752.0         97030.0   \n",
      "256          12528.0          19042.0  ...           82218.0         70345.0   \n",
      "257          22709.0          29999.0  ...           33182.0         74074.0   \n",
      "258          39064.0          22225.0  ...          155287.0        205558.0   \n",
      "259          32698.0         117364.0  ...           44244.0         34356.0   \n",
      "\n",
      "     LockShortestEarlyMorning  LockShortestMorning  LockShortestAfternoon  \\\n",
      "0                      3621.0               5472.0                 3644.0   \n",
      "1                      3792.0              20143.0                 4033.0   \n",
      "2                      3771.0              21926.0                 3618.0   \n",
      "3                      4013.0                  0.0                 3950.0   \n",
      "4                      3692.0               3944.0                 3652.0   \n",
      "..                        ...                  ...                    ...   \n",
      "255                   12793.0               3665.0                 4280.0   \n",
      "256                   28395.0                  0.0                13528.0   \n",
      "257                    3632.0               4170.0                 3610.0   \n",
      "258                    4707.0               6220.0                 4064.0   \n",
      "259                    3976.0              17010.0                 3724.0   \n",
      "\n",
      "     LockShortestEvening  LockLongestEarlyMorning  LockLongestMorning  \\\n",
      "0                 3760.0                  34143.0             17840.0   \n",
      "1                 3622.0                  35065.0             26656.0   \n",
      "2                 3867.0                  30699.0             24574.0   \n",
      "3                 3630.0                  34995.0                 0.0   \n",
      "4                 3930.0                  26487.0             21825.0   \n",
      "..                   ...                      ...                 ...   \n",
      "255               3652.0                  16819.0             28607.0   \n",
      "256               5125.0                  32956.0                 0.0   \n",
      "257               3770.0                  17293.0             26981.0   \n",
      "258               5417.0                  33354.0             11866.0   \n",
      "259               5077.0                  22349.0             26585.0   \n",
      "\n",
      "     LockLongestAfternoon  LockLongestEvening  \n",
      "0                 14699.0             10784.0  \n",
      "1                 33144.0             30155.0  \n",
      "2                  8152.0             12395.0  \n",
      "3                 16731.0             33371.0  \n",
      "4                 13169.0             10719.0  \n",
      "..                    ...                 ...  \n",
      "255               22009.0             30552.0  \n",
      "256               26136.0             22116.0  \n",
      "257                7329.0             10877.0  \n",
      "258               35266.0             24934.0  \n",
      "259                9617.0              7509.0  \n",
      "\n",
      "[260 rows x 99 columns]\n"
     ]
    }
   ],
   "source": [
    "AudioActivityMerged = pd.merge(AudioData, ActivityData, on=['userId', 'WeekId'])\n",
    "AudioActivityConvoMerged = pd.merge(AudioActivityMerged, ConversationData, on=['userId', 'WeekId'])\n",
    "AudActConLocMerged = pd.merge(AudioActivityConvoMerged, locationData, on=['userId', 'WeekId'])\n",
    "AudActConLocDarMerged = pd.merge(AudActConLocMerged, DarknessData, on=['userId', 'WeekId'])\n",
    "AudActConLocDarChaMerged = pd.merge(AudActConLocDarMerged, ChargeData, on=['userId', 'WeekId'])\n",
    "AllMerged = pd.merge(AudActConLocDarChaMerged, LockData, on=['userId', 'WeekId'])\n",
    "print(AllMerged)\n",
    "AllMerged.to_csv('../../dataset/BasicFeatures/Merged/AllMerged.csv', index=False)"
   ]
  },
  {
   "cell_type": "code",
   "execution_count": null,
   "metadata": {},
   "outputs": [],
   "source": []
  },
  {
   "cell_type": "markdown",
   "metadata": {},
   "source": [
    "## Activty & Each Feature"
   ]
  },
  {
   "cell_type": "code",
   "execution_count": 12,
   "metadata": {},
   "outputs": [],
   "source": [
    "AudioActivityMerged = pd.merge(AudioData, ActivityData, on=['userId', 'WeekId'])\n",
    "# print(AudioActivityMerged)\n",
    "AudioActivityMerged.to_csv('../../dataset/BasicFeatures/Merged/AudioActivityMerged.csv', index=False)\n",
    "\n",
    "ConvoActivityMerged = pd.merge(ConversationData, ActivityData, on=['userId', 'WeekId'])\n",
    "# print(ConvoActivityMerged)\n",
    "ConvoActivityMerged.to_csv('../../dataset/BasicFeatures/Merged/ConvoActivityMerged.csv', index=False)\n",
    "\n",
    "LocationActivityMerged = pd.merge(locationData, ActivityData, on=['userId', 'WeekId'])\n",
    "# print(LocationActivityMerged)\n",
    "LocationActivityMerged.to_csv('../../dataset/BasicFeatures/Merged/LocationActivityMerged.csv', index=False)\n",
    "\n",
    "DarknessActivityMerged = pd.merge(DarknessData, ActivityData, on=['userId', 'WeekId'])\n",
    "# print(DarknessActivityMerged)\n",
    "DarknessActivityMerged.to_csv('../../dataset/BasicFeatures/Merged/DarknessActivityMerged.csv', index=False)\n",
    "\n",
    "ChargeActivityMerged = pd.merge(ChargeData, ActivityData, on=['userId', 'WeekId'])\n",
    "# print(ChargeActivityMerged)\n",
    "ChargeActivityMerged.to_csv('../../dataset/BasicFeatures/Merged/ChargeActivityMerged.csv', index=False)\n",
    "\n",
    "LockActivityMerged = pd.merge(LockData, ActivityData, on=['userId', 'WeekId'])\n",
    "# print(LockActivityMerged)\n",
    "LockActivityMerged.to_csv('../../dataset/BasicFeatures/Merged/LockActivityMerged.csv', index=False)\n"
   ]
  },
  {
   "cell_type": "markdown",
   "metadata": {},
   "source": [
    "## Location & Each Feature"
   ]
  },
  {
   "cell_type": "code",
   "execution_count": 13,
   "metadata": {},
   "outputs": [],
   "source": [
    "AudioLocationMerged = pd.merge(AudioData, locationData, on=['userId', 'WeekId'])\n",
    "# print(AudioActivityMerged)\n",
    "AudioLocationMerged.to_csv('../../dataset/BasicFeatures/Merged/AudioLocationMerged.csv', index=False)\n",
    "\n",
    "ConvoLocationMerged = pd.merge(ConversationData, locationData, on=['userId', 'WeekId'])\n",
    "# print(ConvoActivityMerged)\n",
    "ConvoLocationMerged.to_csv('../../dataset/BasicFeatures/Merged/ConvoLocationMerged.csv', index=False)\n",
    "\n",
    "ActivityLocationMerged = pd.merge(ActivityData, locationData, on=['userId', 'WeekId'])\n",
    "# print(LocationActivityMerged)\n",
    "ActivityLocationMerged.to_csv('../../dataset/BasicFeatures/Merged/ActivityLocationMerged.csv', index=False)\n",
    "\n",
    "DarknessLocationMerged = pd.merge(DarknessData, locationData, on=['userId', 'WeekId'])\n",
    "# print(DarknessActivityMerged)\n",
    "DarknessLocationMerged.to_csv('../../dataset/BasicFeatures/Merged/DarknessLocationMerged.csv', index=False)\n",
    "\n",
    "ChargeLocationMerged = pd.merge(ChargeData, locationData, on=['userId', 'WeekId'])\n",
    "# print(ChargeActivityMerged)\n",
    "ChargeLocationMerged.to_csv('../../dataset/BasicFeatures/Merged/ChargeLocationMerged.csv', index=False)\n",
    "\n",
    "LockLocationMerged = pd.merge(LockData, locationData, on=['userId', 'WeekId'])\n",
    "# print(LockActivityMerged)\n",
    "LockLocationMerged.to_csv('../../dataset/BasicFeatures/Merged/LockLocationMerged.csv', index=False)\n"
   ]
  },
  {
   "cell_type": "markdown",
   "metadata": {},
   "source": [
    "## Location, Conversation & Each Feature"
   ]
  },
  {
   "cell_type": "code",
   "execution_count": 14,
   "metadata": {},
   "outputs": [],
   "source": [
    "AudioLocationConvoMerged = pd.merge(AudioData, ConvoLocationMerged, on=['userId', 'WeekId'])\n",
    "# print(AudioActivityMerged)\n",
    "AudioLocationConvoMerged.to_csv('../../dataset/BasicFeatures/Merged/AudioLocationConvoMerged.csv', index=False)\n",
    "\n",
    "ActivityLocationConvoMerged = pd.merge(ActivityData, ConvoLocationMerged, on=['userId', 'WeekId'])\n",
    "# print(LocationActivityMerged)\n",
    "ActivityLocationConvoMerged.to_csv('../../dataset/BasicFeatures/Merged/ActivityLocationConvoMerged.csv', index=False)\n",
    "\n",
    "DarknessLocationConvoMerged = pd.merge(DarknessData, ConvoLocationMerged, on=['userId', 'WeekId'])\n",
    "# print(DarknessActivityMerged)\n",
    "DarknessLocationConvoMerged.to_csv('../../dataset/BasicFeatures/Merged/DarknessLocationConvoMerged.csv', index=False)\n",
    "\n",
    "ChargeLocationConvoMerged = pd.merge(ChargeData, ConvoLocationMerged, on=['userId', 'WeekId'])\n",
    "# print(ChargeActivityMerged)\n",
    "ChargeLocationConvoMerged.to_csv('../../dataset/BasicFeatures/Merged/ChargeLocationConvoMerged.csv', index=False)\n",
    "\n",
    "LockLocationConvoMerged = pd.merge(LockData, ConvoLocationMerged, on=['userId', 'WeekId'])\n",
    "# print(LockActivityMerged)\n",
    "LockLocationConvoMerged.to_csv('../../dataset/BasicFeatures/Merged/LockLocationConvoMerged.csv', index=False)"
   ]
  },
  {
   "cell_type": "markdown",
   "metadata": {},
   "source": [
    "## Location, Conversation, Activity & Each Feature"
   ]
  },
  {
   "cell_type": "code",
   "execution_count": 15,
   "metadata": {},
   "outputs": [],
   "source": [
    "AudioLocationConvoActivityMerged = pd.merge(AudioData, ActivityLocationConvoMerged, on=['userId', 'WeekId'])\n",
    "# print(AudioActivityMerged)\n",
    "AudioLocationConvoActivityMerged.to_csv('../../dataset/BasicFeatures/Merged/AudioLocationConvoActivityMerged.csv', index=False)\n",
    "\n",
    "DarknessLocationConvoActivityMerged = pd.merge(DarknessData, ActivityLocationConvoMerged, on=['userId', 'WeekId'])\n",
    "# print(DarknessActivityMerged)\n",
    "DarknessLocationConvoActivityMerged.to_csv('../../dataset/BasicFeatures/Merged/DarknessLocationConvoActivityMerged.csv', index=False)\n",
    "\n",
    "ChargeLocationConvoActivityMerged = pd.merge(ChargeData, ActivityLocationConvoMerged, on=['userId', 'WeekId'])\n",
    "# print(ChargeActivityMerged)\n",
    "ChargeLocationConvoActivityMerged.to_csv('../../dataset/BasicFeatures/Merged/ChargeLocationConvoActivityMerged.csv', index=False)\n",
    "\n",
    "LockLocationConvoActivityMerged = pd.merge(LockData, ActivityLocationConvoMerged, on=['userId', 'WeekId'])\n",
    "# print(LockActivityMerged)\n",
    "LockLocationConvoActivityMerged.to_csv('../../dataset/BasicFeatures/Merged/LockLocationConvoActivityMerged.csv', index=False)"
   ]
  },
  {
   "cell_type": "markdown",
   "metadata": {},
   "source": [
    "## Location, Conversation, Activity, Lock & Each Feature"
   ]
  },
  {
   "cell_type": "code",
   "execution_count": 16,
   "metadata": {},
   "outputs": [],
   "source": [
    "AudioLocationConvoActivityLockMerged = pd.merge(AudioData, LockLocationConvoActivityMerged, on=['userId', 'WeekId'])\n",
    "# print(AudioActivityMerged)\n",
    "AudioLocationConvoActivityLockMerged.to_csv('../../dataset/BasicFeatures/Merged/AudioLocationConvoActivityLockMerged.csv', index=False)\n",
    "\n",
    "DarknessLocationConvoActivityLockMerged = pd.merge(DarknessData, LockLocationConvoActivityMerged, on=['userId', 'WeekId'])\n",
    "# print(DarknessActivityMerged)\n",
    "DarknessLocationConvoActivityLockMerged.to_csv('../../dataset/BasicFeatures/Merged/DarknessLocationConvoActivityLockMerged.csv', index=False)\n",
    "\n",
    "ChargeLocationConvoActivityLockMerged = pd.merge(ChargeData, LockLocationConvoActivityMerged, on=['userId', 'WeekId'])\n",
    "# print(ChargeActivityMerged)\n",
    "ChargeLocationConvoActivityLockMerged.to_csv('../../dataset/BasicFeatures/Merged/ChargeLocationConvoActivityLockMerged.csv', index=False)\n"
   ]
  },
  {
   "cell_type": "markdown",
   "metadata": {},
   "source": [
    "## Location, Conversation, Activity, Lock, Darkness & Each Feature"
   ]
  },
  {
   "cell_type": "code",
   "execution_count": 17,
   "metadata": {},
   "outputs": [],
   "source": [
    "AudioLocationConvoActivityLockDarkMerged = pd.merge(AudioData, DarknessLocationConvoActivityLockMerged, on=['userId', 'WeekId'])\n",
    "# print(AudioActivityMerged)\n",
    "AudioLocationConvoActivityLockDarkMerged.to_csv('../../dataset/BasicFeatures/Merged/AudioLocationConvoActivityLockDarkMerged.csv', index=False)\n",
    "\n",
    "ChargeLocationConvoActivityLockDarkMerged = pd.merge(ChargeData, DarknessLocationConvoActivityLockMerged, on=['userId', 'WeekId'])\n",
    "# print(ChargeActivityMerged)\n",
    "ChargeLocationConvoActivityLockDarkMerged.to_csv('../../dataset/BasicFeatures/Merged/ChargeLocationConvoActivityLockDarkMerged.csv', index=False)"
   ]
  }
 ],
 "metadata": {
  "kernelspec": {
   "display_name": "Diss",
   "language": "python",
   "name": "python3"
  },
  "language_info": {
   "codemirror_mode": {
    "name": "ipython",
    "version": 3
   },
   "file_extension": ".py",
   "mimetype": "text/x-python",
   "name": "python",
   "nbconvert_exporter": "python",
   "pygments_lexer": "ipython3",
   "version": "3.12.2"
  }
 },
 "nbformat": 4,
 "nbformat_minor": 2
}
