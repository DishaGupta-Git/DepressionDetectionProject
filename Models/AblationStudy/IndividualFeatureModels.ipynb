{
 "cells": [
  {
   "cell_type": "code",
   "execution_count": 6,
   "metadata": {},
   "outputs": [],
   "source": [
    "import numpy as np\n",
    "import pandas as pd\n",
    "import matplotlib.pyplot as plt\n",
    "import seaborn as sns\n",
    "from sklearn.model_selection import train_test_split\n",
    "from sklearn.preprocessing import MinMaxScaler\n",
    "from sklearn.svm import SVC\n",
    "from sklearn.linear_model import LogisticRegression\n",
    "from sklearn.ensemble import RandomForestClassifier\n",
    "from xgboost import XGBClassifier\n",
    "from sklearn.metrics import accuracy_score, classification_report,confusion_matrix,precision_score\n",
    "from sklearn import metrics\n",
    "from imblearn.over_sampling import SMOTE\n",
    "from sklearn.model_selection import cross_val_score, KFold"
   ]
  },
  {
   "cell_type": "code",
   "execution_count": 7,
   "metadata": {},
   "outputs": [],
   "source": [
    "PHQ9Post = pd.DataFrame()\n",
    "PHQ9Post = pd.read_csv('../../dataset/PHQ9/PHQ9PostClassified.csv')"
   ]
  },
  {
   "cell_type": "code",
   "execution_count": 8,
   "metadata": {},
   "outputs": [],
   "source": [
    "ActivityData = pd.DataFrame()\n",
    "ActivityData = pd.read_csv('../../dataset/BasicFeatures/activityCounts.csv')"
   ]
  },
  {
   "cell_type": "code",
   "execution_count": 9,
   "metadata": {},
   "outputs": [],
   "source": [
    "AudioData = pd.DataFrame()\n",
    "AudioData = pd.read_csv('../../dataset/BasicFeatures/audioCounts.csv')"
   ]
  },
  {
   "cell_type": "code",
   "execution_count": 10,
   "metadata": {},
   "outputs": [],
   "source": [
    "ConversationData = pd.DataFrame()\n",
    "ConversationData = pd.read_csv('../../dataset/BasicFeatures/conversationCounts.csv')"
   ]
  },
  {
   "cell_type": "code",
   "execution_count": 11,
   "metadata": {},
   "outputs": [],
   "source": [
    "locationData = pd.DataFrame()\n",
    "locationData = pd.read_csv('../../dataset/BasicFeatures/locationAvgs.csv')"
   ]
  },
  {
   "cell_type": "code",
   "execution_count": 12,
   "metadata": {},
   "outputs": [],
   "source": [
    "DarknessData = pd.DataFrame()\n",
    "DarknessData = pd.read_csv('../../dataset/BasicFeatures/darknessCounts.csv')"
   ]
  },
  {
   "cell_type": "code",
   "execution_count": 13,
   "metadata": {},
   "outputs": [],
   "source": [
    "ChargeData = pd.DataFrame()\n",
    "ChargeData = pd.read_csv('../../dataset/BasicFeatures/chargeCounts.csv')"
   ]
  },
  {
   "cell_type": "code",
   "execution_count": 14,
   "metadata": {},
   "outputs": [],
   "source": [
    "LockData = pd.DataFrame()\n",
    "LockData = pd.read_csv('../../dataset/BasicFeatures/lockCounts.csv')"
   ]
  },
  {
   "cell_type": "markdown",
   "metadata": {},
   "source": [
    "## Model Code"
   ]
  },
  {
   "cell_type": "code",
   "execution_count": 15,
   "metadata": {},
   "outputs": [],
   "source": [
    "# Function to calculate sensitivity, specificity, and balanced accuracy\n",
    "def calculate_metrics(y_true, y_pred):\n",
    "    tn, fp, fn, tp = confusion_matrix(y_true, y_pred).ravel()\n",
    "    sensitivity = tp / (tp + fn)\n",
    "    specificity = tn / (tn + fp)\n",
    "    balanced_accuracy = (sensitivity + specificity) / 2\n",
    "    accuracy = accuracy_score(y_true, y_pred)\n",
    "    precision = precision_score(y_true, y_pred)\n",
    "    return sensitivity, specificity, balanced_accuracy, accuracy, precision\n",
    "\n",
    "# Function to train and evaluate with k-fold cross-validation\n",
    "def TrainandEvalWithCrossValidation(model, features, target, name, cv=5):\n",
    "    print(name)\n",
    "    # Perform k-fold cross-validation\n",
    "    kfold = KFold(n_splits=cv, shuffle=True, random_state=42)\n",
    "    \n",
    "    accuracies = []\n",
    "    sensitivities = []\n",
    "    specificities = []\n",
    "    balanced_accuracies = []\n",
    "    precisions = []\n",
    "\n",
    "\n",
    "    for train_idx, test_idx in kfold.split(features):\n",
    "        X_train, X_test = features[train_idx], features[test_idx]\n",
    "        y_train, y_test = target[train_idx], target[test_idx]\n",
    "\n",
    "        model.fit(X_train, y_train)\n",
    "        y_pred = model.predict(X_test)\n",
    "\n",
    "        sensitivity, specificity, balanced_accuracy, accuracy, precision = calculate_metrics(y_test, y_pred)\n",
    "\n",
    "\n",
    "        sensitivities.append(sensitivity)\n",
    "        specificities.append(specificity)\n",
    "        balanced_accuracies.append(balanced_accuracy)\n",
    "        accuracies.append(accuracy)\n",
    "        precisions.append(precision)\n",
    "\n",
    "    # Print average metrics across all folds\n",
    "    print(\"Mean Sensitivity:\", sum(sensitivities) / len(sensitivities))\n",
    "    print(\"Mean Specificity:\", sum(specificities) / len(specificities))\n",
    "    print(\"Mean Balanced Accuracy:\", sum(balanced_accuracies) / len(balanced_accuracies))\n",
    "    print(\"Mean Accuracy:\", sum(accuracies) / len(accuracies))\n",
    "    print(\"Mean Precision:\", sum(precisions) / len(precisions))"
   ]
  },
  {
   "cell_type": "code",
   "execution_count": 16,
   "metadata": {},
   "outputs": [],
   "source": [
    "#declare all model vars:\n",
    "LR = LogisticRegression()\n",
    "SVM = SVC()\n",
    "RF = RandomForestClassifier() \n",
    "XGB = XGBClassifier()"
   ]
  },
  {
   "cell_type": "code",
   "execution_count": 17,
   "metadata": {},
   "outputs": [],
   "source": [
    "# Amend function to run all models with k-fold cross-validation\n",
    "def RunAllModelsNormOversampledWithCrossValidation(data, PHQ9, cv=5):\n",
    "    data = pd.merge(data, PHQ9, on='userId')\n",
    "    data = data.drop(columns=['userId', 'WeekId'])\n",
    "    X = data.drop(['PHQ9'], axis=1)\n",
    "    y = data['PHQ9']\n",
    "\n",
    "    scaler = MinMaxScaler()\n",
    "    XNorm = scaler.fit_transform(X)\n",
    "\n",
    "\n",
    "\n",
    "     # Oversampling\n",
    "    oversampler = SMOTE(random_state=42)\n",
    "    features_resampled, target_resampled = oversampler.fit_resample(XNorm, y)\n",
    "\n",
    "\n",
    "    cv = 5\n",
    "    TrainandEvalWithCrossValidation(SVM, features_resampled, target_resampled, 'SVM', cv)\n",
    "    TrainandEvalWithCrossValidation(XGB, features_resampled, target_resampled, 'XGB', cv)\n",
    "   "
   ]
  },
  {
   "cell_type": "markdown",
   "metadata": {},
   "source": [
    "## Activity"
   ]
  },
  {
   "cell_type": "code",
   "execution_count": 18,
   "metadata": {},
   "outputs": [
    {
     "name": "stdout",
     "output_type": "stream",
     "text": [
      "SVM\n",
      "Mean Sensitivity: 0.7964044886247181\n",
      "Mean Specificity: 0.7030166390281168\n",
      "Mean Balanced Accuracy: 0.7497105638264174\n",
      "Mean Accuracy: 0.7461754385964913\n",
      "Mean Precision: 0.7261225051663003\n",
      "XGB\n",
      "Mean Sensitivity: 0.8565271230443396\n",
      "Mean Specificity: 0.854363971752781\n",
      "Mean Balanced Accuracy: 0.8554455473985604\n",
      "Mean Accuracy: 0.8570526315789474\n",
      "Mean Precision: 0.8477818913113031\n"
     ]
    }
   ],
   "source": [
    "RunAllModelsNormOversampledWithCrossValidation(ActivityData,PHQ9Post, 10)"
   ]
  },
  {
   "cell_type": "markdown",
   "metadata": {},
   "source": [
    "## Audio"
   ]
  },
  {
   "cell_type": "code",
   "execution_count": 19,
   "metadata": {},
   "outputs": [
    {
     "name": "stdout",
     "output_type": "stream",
     "text": [
      "SVM\n",
      "Mean Sensitivity: 0.6501935164309627\n",
      "Mean Specificity: 0.7511420000372656\n",
      "Mean Balanced Accuracy: 0.7006677582341141\n",
      "Mean Accuracy: 0.7009473684210527\n",
      "Mean Precision: 0.7227511545158605\n",
      "XGB\n",
      "Mean Sensitivity: 0.7616268702602993\n",
      "Mean Specificity: 0.8122890309116994\n",
      "Mean Balanced Accuracy: 0.7869579505859994\n",
      "Mean Accuracy: 0.7830526315789473\n",
      "Mean Precision: 0.7971717171717171\n"
     ]
    }
   ],
   "source": [
    "RunAllModelsNormOversampledWithCrossValidation(AudioData,PHQ9Post, 10)"
   ]
  },
  {
   "cell_type": "markdown",
   "metadata": {},
   "source": [
    "## Conversation"
   ]
  },
  {
   "cell_type": "code",
   "execution_count": 20,
   "metadata": {},
   "outputs": [
    {
     "name": "stdout",
     "output_type": "stream",
     "text": [
      "SVM\n",
      "Mean Sensitivity: 0.7222497319753417\n",
      "Mean Specificity: 0.6034491978609626\n",
      "Mean Balanced Accuracy: 0.6628494649181522\n",
      "Mean Accuracy: 0.663859649122807\n",
      "Mean Precision: 0.6451801664793354\n",
      "XGB\n",
      "Mean Sensitivity: 0.8034269186098454\n",
      "Mean Specificity: 0.7861119599354893\n",
      "Mean Balanced Accuracy: 0.7947694392726674\n",
      "Mean Accuracy: 0.7988421052631579\n",
      "Mean Precision: 0.793980463980464\n"
     ]
    }
   ],
   "source": [
    "RunAllModelsNormOversampledWithCrossValidation(ConversationData,PHQ9Post, 10)"
   ]
  },
  {
   "cell_type": "markdown",
   "metadata": {},
   "source": [
    "## Location"
   ]
  },
  {
   "cell_type": "code",
   "execution_count": 21,
   "metadata": {},
   "outputs": [
    {
     "name": "stdout",
     "output_type": "stream",
     "text": [
      "SVM\n",
      "Mean Sensitivity: 0.9642989025849067\n",
      "Mean Specificity: 0.5726282051282052\n",
      "Mean Balanced Accuracy: 0.7684635538565558\n",
      "Mean Accuracy: 0.7611447811447811\n",
      "Mean Precision: 0.6882410579971555\n",
      "XGB\n",
      "Mean Sensitivity: 0.8749280902535158\n",
      "Mean Specificity: 0.8031135531135531\n",
      "Mean Balanced Accuracy: 0.8390208216835344\n",
      "Mean Accuracy: 0.8381144781144781\n",
      "Mean Precision: 0.8134361054766733\n"
     ]
    }
   ],
   "source": [
    "RunAllModelsNormOversampledWithCrossValidation(locationData,PHQ9Post, 10)"
   ]
  },
  {
   "cell_type": "markdown",
   "metadata": {},
   "source": [
    "## Darkness"
   ]
  },
  {
   "cell_type": "code",
   "execution_count": 22,
   "metadata": {},
   "outputs": [
    {
     "name": "stdout",
     "output_type": "stream",
     "text": [
      "SVM\n",
      "Mean Sensitivity: 0.6711904761904762\n",
      "Mean Specificity: 0.7694244232607403\n",
      "Mean Balanced Accuracy: 0.7203074497256082\n",
      "Mean Accuracy: 0.7195789473684211\n",
      "Mean Precision: 0.7414215891635247\n",
      "XGB\n",
      "Mean Sensitivity: 0.7373809523809524\n",
      "Mean Specificity: 0.8265811568369112\n",
      "Mean Balanced Accuracy: 0.7819810546089319\n",
      "Mean Accuracy: 0.7831228070175438\n",
      "Mean Precision: 0.8059529954101157\n"
     ]
    }
   ],
   "source": [
    "RunAllModelsNormOversampledWithCrossValidation(DarknessData,PHQ9Post, 10)"
   ]
  },
  {
   "cell_type": "markdown",
   "metadata": {},
   "source": [
    "## Charge"
   ]
  },
  {
   "cell_type": "code",
   "execution_count": 23,
   "metadata": {},
   "outputs": [
    {
     "name": "stdout",
     "output_type": "stream",
     "text": [
      "SVM\n",
      "Mean Sensitivity: 0.615547393782688\n",
      "Mean Specificity: 0.7267384077140175\n",
      "Mean Balanced Accuracy: 0.6711429007483527\n",
      "Mean Accuracy: 0.6729473684210526\n",
      "Mean Precision: 0.6912908091276212\n",
      "XGB\n",
      "Mean Sensitivity: 0.8071485377367731\n",
      "Mean Specificity: 0.7323641728519776\n",
      "Mean Balanced Accuracy: 0.7697563552943754\n",
      "Mean Accuracy: 0.7714736842105263\n",
      "Mean Precision: 0.7565881642512077\n"
     ]
    }
   ],
   "source": [
    "RunAllModelsNormOversampledWithCrossValidation(ChargeData,PHQ9Post, 10)"
   ]
  },
  {
   "cell_type": "markdown",
   "metadata": {},
   "source": [
    "## Lock"
   ]
  },
  {
   "cell_type": "code",
   "execution_count": 24,
   "metadata": {},
   "outputs": [
    {
     "name": "stdout",
     "output_type": "stream",
     "text": [
      "SVM\n",
      "Mean Sensitivity: 0.6725966728154676\n",
      "Mean Specificity: 0.6158972591253796\n",
      "Mean Balanced Accuracy: 0.6442469659704237\n",
      "Mean Accuracy: 0.6401052631578947\n",
      "Mean Precision: 0.644089646243869\n",
      "XGB\n",
      "Mean Sensitivity: 0.8230058242809319\n",
      "Mean Specificity: 0.792479457414895\n",
      "Mean Balanced Accuracy: 0.8077426408479134\n",
      "Mean Accuracy: 0.8068771929824562\n",
      "Mean Precision: 0.7945688545688545\n"
     ]
    }
   ],
   "source": [
    "RunAllModelsNormOversampledWithCrossValidation(LockData,PHQ9Post, 10)"
   ]
  },
  {
   "cell_type": "code",
   "execution_count": null,
   "metadata": {},
   "outputs": [],
   "source": []
  }
 ],
 "metadata": {
  "kernelspec": {
   "display_name": "Diss",
   "language": "python",
   "name": "python3"
  },
  "language_info": {
   "codemirror_mode": {
    "name": "ipython",
    "version": 3
   },
   "file_extension": ".py",
   "mimetype": "text/x-python",
   "name": "python",
   "nbconvert_exporter": "python",
   "pygments_lexer": "ipython3",
   "version": "3.12.2"
  }
 },
 "nbformat": 4,
 "nbformat_minor": 2
}
