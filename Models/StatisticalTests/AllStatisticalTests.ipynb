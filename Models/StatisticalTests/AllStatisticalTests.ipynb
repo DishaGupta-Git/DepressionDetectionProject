{
 "cells": [
  {
   "cell_type": "markdown",
   "metadata": {},
   "source": [
    "# Statistical Studies"
   ]
  },
  {
   "cell_type": "code",
   "execution_count": 1,
   "metadata": {},
   "outputs": [],
   "source": [
    "from scipy import stats\n"
   ]
  },
  {
   "cell_type": "markdown",
   "metadata": {},
   "source": [
    "## All Feature\n",
    "### SVM vs XGB oversampled"
   ]
  },
  {
   "cell_type": "code",
   "execution_count": 2,
   "metadata": {},
   "outputs": [
    {
     "name": "stdout",
     "output_type": "stream",
     "text": [
      "Paired t-test results:\n",
      "t-statistic: -0.7850658154285131\n",
      "p-value: 0.4763054183737146\n"
     ]
    }
   ],
   "source": [
    "# Perform paired t-test\n",
    "svm_metrics = [0.94828,0.9477,0.993333,0.902067,0.911671]\n",
    "xgb_metrics = [0.94828,0.953057,0.973418,0.932696,0.928887]\n",
    "\n",
    "# Performing paired t-test\n",
    "t_statistic, p_value = stats.ttest_rel(svm_metrics, xgb_metrics)\n",
    "\n",
    "print(\"Paired t-test results:\")\n",
    "print(\"t-statistic:\", t_statistic)\n",
    "print(\"p-value:\", p_value)\n"
   ]
  },
  {
   "cell_type": "markdown",
   "metadata": {},
   "source": [
    "### LR vs RF"
   ]
  },
  {
   "cell_type": "code",
   "execution_count": 3,
   "metadata": {},
   "outputs": [
    {
     "name": "stdout",
     "output_type": "stream",
     "text": [
      "Paired t-test results:\n",
      "t-statistic: -3.6766341525051183\n",
      "p-value: 0.021266746229707374\n"
     ]
    }
   ],
   "source": [
    "# Perform paired t-test\n",
    "lr_metrics = [0.904365,0.911601,0.955555,0.867646,0.87604]\n",
    "rf_metrics = [0.963359,0.966833,0.960634,0.973032,0.95423]\n",
    "\n",
    "# Performing paired t-test\n",
    "t_statistic, p_value = stats.ttest_rel(lr_metrics, rf_metrics)\n",
    "\n",
    "print(\"Paired t-test results:\")\n",
    "print(\"t-statistic:\", t_statistic)\n",
    "print(\"p-value:\", p_value)"
   ]
  },
  {
   "cell_type": "code",
   "execution_count": 4,
   "metadata": {},
   "outputs": [
    {
     "name": "stdout",
     "output_type": "stream",
     "text": [
      "Paired t-test results:\n",
      "t-statistic: -22.42323187597022\n",
      "p-value: 2.3421889329336056e-05\n"
     ]
    }
   ],
   "source": [
    "# Performing paired t-test\n",
    "t_statistic, p_value = stats.ttest_rel(lr_metrics, svm_metrics)\n",
    "\n",
    "print(\"Paired t-test results:\")\n",
    "print(\"t-statistic:\", t_statistic)\n",
    "print(\"p-value:\", p_value)"
   ]
  },
  {
   "cell_type": "code",
   "execution_count": 5,
   "metadata": {},
   "outputs": [
    {
     "name": "stdout",
     "output_type": "stream",
     "text": [
      "Paired t-test results:\n",
      "t-statistic: -5.684202424341504\n",
      "p-value: 0.004729169632504958\n"
     ]
    }
   ],
   "source": [
    "# Performing paired t-test\n",
    "t_statistic, p_value = stats.ttest_rel(lr_metrics, xgb_metrics)\n",
    "\n",
    "print(\"Paired t-test results:\")\n",
    "print(\"t-statistic:\", t_statistic)\n",
    "print(\"p-value:\", p_value)"
   ]
  },
  {
   "cell_type": "markdown",
   "metadata": {},
   "source": [
    "### XGB - original vs oversampled"
   ]
  },
  {
   "cell_type": "code",
   "execution_count": 6,
   "metadata": {},
   "outputs": [
    {
     "name": "stdout",
     "output_type": "stream",
     "text": [
      "Paired t-test results:\n",
      "t-statistic: -1.4020722249439481\n",
      "p-value: 0.23352782600696556\n"
     ]
    }
   ],
   "source": [
    "xgbAllOriginal = [0.906277,0.891041,0.8175,0.964583,0.93115]\n",
    "# Performing paired t-test\n",
    "t_statistic, p_value = stats.ttest_rel(xgbAllOriginal, xgb_metrics)\n",
    "\n",
    "print(\"Paired t-test results:\")\n",
    "print(\"t-statistic:\", t_statistic)\n",
    "print(\"p-value:\", p_value)"
   ]
  },
  {
   "cell_type": "markdown",
   "metadata": {},
   "source": [
    "### SVM - original vs oversampled "
   ]
  },
  {
   "cell_type": "code",
   "execution_count": 7,
   "metadata": {},
   "outputs": [
    {
     "name": "stdout",
     "output_type": "stream",
     "text": [
      "Paired t-test results:\n",
      "t-statistic: -1.5720103732433433\n",
      "p-value: 0.19104886541165042\n"
     ]
    }
   ],
   "source": [
    "svmAllOriginal = [0.877705,0.856603,0.763207,0.95,0.892857]\n",
    "# Performing paired t-test\n",
    "t_statistic, p_value = stats.ttest_rel(svmAllOriginal, svm_metrics)\n",
    "\n",
    "print(\"Paired t-test results:\")\n",
    "print(\"t-statistic:\", t_statistic)\n",
    "print(\"p-value:\", p_value)"
   ]
  },
  {
   "cell_type": "markdown",
   "metadata": {},
   "source": [
    "### CNN - Original vs oversampled"
   ]
  },
  {
   "cell_type": "code",
   "execution_count": 8,
   "metadata": {},
   "outputs": [
    {
     "name": "stdout",
     "output_type": "stream",
     "text": [
      "Paired t-test results:\n",
      "t-statistic: -1.9939237198076367\n",
      "p-value: 0.11692519926363261\n"
     ]
    }
   ],
   "source": [
    "\n",
    "cnnAllOriginal = [0.803921,0.709459,0.5,0.918918,0.571428]\n",
    "cnnAllOversampled = [0.884057,0.879881,0.921052,0.838709,0.80851]\n",
    "# Performing paired t-test\n",
    "t_statistic, p_value = stats.ttest_rel(cnnAllOriginal, cnnAllOversampled)\n",
    "\n",
    "print(\"Paired t-test results:\")\n",
    "print(\"t-statistic:\", t_statistic)\n",
    "print(\"p-value:\", p_value)"
   ]
  },
  {
   "cell_type": "code",
   "execution_count": 9,
   "metadata": {},
   "outputs": [
    {
     "name": "stdout",
     "output_type": "stream",
     "text": [
      "Paired t-test results:\n",
      "t-statistic: 6.475862808024099\n",
      "p-value: 0.002930168691907249\n"
     ]
    }
   ],
   "source": [
    "xgbFivefeature = [0.94828,0.951282,0.973418,0.929146,0.931936]\n",
    "# Performing paired t-test\n",
    "t_statistic, p_value = stats.ttest_rel(xgbFivefeature, cnnAllOversampled)\n",
    "\n",
    "print(\"Paired t-test results:\")\n",
    "print(\"t-statistic:\", t_statistic)\n",
    "print(\"p-value:\", p_value)"
   ]
  },
  {
   "cell_type": "markdown",
   "metadata": {},
   "source": [
    "## SVM \n",
    "### 4 feature vs 5 feature"
   ]
  },
  {
   "cell_type": "code",
   "execution_count": 10,
   "metadata": {},
   "outputs": [
    {
     "name": "stdout",
     "output_type": "stream",
     "text": [
      "Paired t-test results:\n",
      "t-statistic: -44.302975255693006\n",
      "p-value: 1.5521939871349932e-06\n"
     ]
    }
   ],
   "source": [
    "svmFivefeature = [0.941137,0.942704,0.993333,0.892076,0.900601]\n",
    "svmFourfeature = [0.919444,0.922203,0.973141,0.871266,0.877763]\n",
    "svmSixfeature = [0.944708,0.946439,0.980085,0.912794,0.917694]\n",
    "\n",
    "# Performing paired t-test\n",
    "t_statistic, p_value = stats.ttest_rel(svmFourfeature, svmFivefeature)\n",
    "\n",
    "print(\"Paired t-test results:\")\n",
    "print(\"t-statistic:\", t_statistic)\n",
    "print(\"p-value:\", p_value)"
   ]
  },
  {
   "cell_type": "markdown",
   "metadata": {},
   "source": [
    "### 5 feature vs all"
   ]
  },
  {
   "cell_type": "code",
   "execution_count": 11,
   "metadata": {},
   "outputs": [
    {
     "name": "stdout",
     "output_type": "stream",
     "text": [
      "Paired t-test results:\n",
      "t-statistic: 3.364464053989145\n",
      "p-value: 0.02818792496741015\n"
     ]
    }
   ],
   "source": [
    "# Performing paired t-test\n",
    "t_statistic, p_value = stats.ttest_rel(svm_metrics, svmFivefeature)\n",
    "\n",
    "print(\"Paired t-test results:\")\n",
    "print(\"t-statistic:\", t_statistic)\n",
    "print(\"p-value:\", p_value)"
   ]
  },
  {
   "cell_type": "markdown",
   "metadata": {},
   "source": [
    "### 6 feature vs all"
   ]
  },
  {
   "cell_type": "code",
   "execution_count": 12,
   "metadata": {},
   "outputs": [
    {
     "name": "stdout",
     "output_type": "stream",
     "text": [
      "Paired t-test results:\n",
      "t-statistic: 0.06448247277215938\n",
      "p-value: 0.9516799930949957\n"
     ]
    }
   ],
   "source": [
    "# Performing paired t-test\n",
    "t_statistic, p_value = stats.ttest_rel(svm_metrics, svmSixfeature)\n",
    "\n",
    "print(\"Paired t-test results:\")\n",
    "print(\"t-statistic:\", t_statistic)\n",
    "print(\"p-value:\", p_value)"
   ]
  },
  {
   "cell_type": "markdown",
   "metadata": {},
   "source": [
    "## XGB \n",
    "### 4 feature vs 5 feature"
   ]
  },
  {
   "cell_type": "code",
   "execution_count": 13,
   "metadata": {},
   "outputs": [
    {
     "name": "stdout",
     "output_type": "stream",
     "text": [
      "Paired t-test results:\n",
      "t-statistic: -0.755823431354653\n",
      "p-value: 0.4918236788449173\n"
     ]
    }
   ],
   "source": [
    "xgbFivefeature = [0.94828,0.951282,0.973418,0.929146,0.931936]\n",
    "xgbFourfeature = [0.944973,0.946362,0.961335,0.931388,0.938152]\n",
    "\n",
    "# Performing paired t-test\n",
    "t_statistic, p_value = stats.ttest_rel(xgbFourfeature, xgbFivefeature)\n",
    "\n",
    "print(\"Paired t-test results:\")\n",
    "print(\"t-statistic:\", t_statistic)\n",
    "print(\"p-value:\", p_value)"
   ]
  },
  {
   "cell_type": "markdown",
   "metadata": {},
   "source": [
    "### 5 feature vs all"
   ]
  },
  {
   "cell_type": "code",
   "execution_count": 14,
   "metadata": {},
   "outputs": [
    {
     "name": "stdout",
     "output_type": "stream",
     "text": [
      "Paired t-test results:\n",
      "t-statistic: 0.415422105519265\n",
      "p-value: 0.6991502149444928\n"
     ]
    }
   ],
   "source": [
    "\n",
    "# Performing paired t-test\n",
    "t_statistic, p_value = stats.ttest_rel(xgb_metrics, xgbFivefeature)\n",
    "\n",
    "print(\"Paired t-test results:\")\n",
    "print(\"t-statistic:\", t_statistic)\n",
    "print(\"p-value:\", p_value)"
   ]
  },
  {
   "cell_type": "markdown",
   "metadata": {},
   "source": [
    "### 4 feature vs all"
   ]
  },
  {
   "cell_type": "code",
   "execution_count": 15,
   "metadata": {},
   "outputs": [
    {
     "name": "stdout",
     "output_type": "stream",
     "text": [
      "Paired t-test results:\n",
      "t-statistic: 0.8001785039524377\n",
      "p-value: 0.46843476561182323\n"
     ]
    }
   ],
   "source": [
    "\n",
    "# Performing paired t-test\n",
    "t_statistic, p_value = stats.ttest_rel(xgb_metrics, xgbFourfeature)\n",
    "\n",
    "print(\"Paired t-test results:\")\n",
    "print(\"t-statistic:\", t_statistic)\n",
    "print(\"p-value:\", p_value)"
   ]
  }
 ],
 "metadata": {
  "kernelspec": {
   "display_name": "Diss",
   "language": "python",
   "name": "python3"
  },
  "language_info": {
   "codemirror_mode": {
    "name": "ipython",
    "version": 3
   },
   "file_extension": ".py",
   "mimetype": "text/x-python",
   "name": "python",
   "nbconvert_exporter": "python",
   "pygments_lexer": "ipython3",
   "version": "3.12.2"
  }
 },
 "nbformat": 4,
 "nbformat_minor": 2
}
