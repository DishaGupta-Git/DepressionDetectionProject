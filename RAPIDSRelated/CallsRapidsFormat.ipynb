{
 "cells": [
  {
   "cell_type": "code",
   "execution_count": 9,
   "metadata": {},
   "outputs": [],
   "source": [
    "import numpy as np\n",
    "import pandas as pd\n",
    "import json"
   ]
  },
  {
   "cell_type": "code",
   "execution_count": 12,
   "metadata": {},
   "outputs": [
    {
     "name": "stdout",
     "output_type": "stream",
     "text": [
      "                                            id  \\\n",
      "0     9880c287-20a7-4256-af6e-15d670a4a8e8-106   \n",
      "1     95786df6-cdf4-4387-bdf6-eeb90e26c3c5-101   \n",
      "2      5462e033-fe6f-47c5-80ba-a72764ad9f80-18   \n",
      "3      3c43eb13-0668-45c7-90ba-3efed1feac8f-31   \n",
      "4      a81ef519-c9da-430b-ae4a-7273fbe47f17-55   \n",
      "...                                        ...   \n",
      "1482  7a6f60e2-0640-4ff2-ab6f-c71b3846d349-147   \n",
      "1483  fe732d0d-8764-4ebe-b447-28392b621e21-135   \n",
      "1484  354dc3db-59a5-454a-82c4-a6b8457133d2-139   \n",
      "1485  616900d0-f6da-49ff-bcfe-e06912d5ae38-143   \n",
      "1486  728e356c-e219-449e-a7a7-d2ba4b96a394-135   \n",
      "\n",
      "                                    device   timestamp  \n",
      "0     83147b17-0754-41b9-a03a-b5a490c60372  1364099009  \n",
      "1     83147b17-0754-41b9-a03a-b5a490c60372  1364106209  \n",
      "2     83147b17-0754-41b9-a03a-b5a490c60372  1364095409  \n",
      "3     83147b17-0754-41b9-a03a-b5a490c60372  1364102609  \n",
      "4     83147b17-0754-41b9-a03a-b5a490c60372  1364109809  \n",
      "...                                    ...         ...  \n",
      "1482  83147b17-0754-41b9-a03a-b5a490c60372  1369819386  \n",
      "1483  83147b17-0754-41b9-a03a-b5a490c60372  1369822986  \n",
      "1484  83147b17-0754-41b9-a03a-b5a490c60372  1369826586  \n",
      "1485  83147b17-0754-41b9-a03a-b5a490c60372  1369830186  \n",
      "1486  83147b17-0754-41b9-a03a-b5a490c60372  1369833786  \n",
      "\n",
      "[1487 rows x 3 columns]\n"
     ]
    }
   ],
   "source": [
    "CallsDF = pd.DataFrame()\n",
    "CallsDF = pd.read_csv('dataset/dataset/call_log/call_log_u01.csv')\n",
    "print(CallsDF)"
   ]
  },
  {
   "cell_type": "code",
   "execution_count": 40,
   "metadata": {},
   "outputs": [
    {
     "name": "stdout",
     "output_type": "stream",
     "text": [
      "   _id      timestamp                             device_id  call_type  \\\n",
      "0    1  1587663260695  a748ee1a-1d0b-4ae9-9074-279a2b6ba524          2   \n",
      "1    2  1587739118007  a748ee1a-1d0b-4ae9-9074-279a2b6ba524          3   \n",
      "2    5  1587746544891  a748ee1a-1d0b-4ae9-9074-279a2b6ba524          2   \n",
      "3    6  1587911379859  a748ee1a-1d0b-4ae9-9074-279a2b6ba524          2   \n",
      "4    7  1587992647361  a748ee1a-1d0b-4ae9-9074-279a2b6ba524          3   \n",
      "5    8  1588020039448  a748ee1a-1d0b-4ae9-9074-279a2b6ba524          1   \n",
      "6   11  1588176189024  a748ee1a-1d0b-4ae9-9074-279a2b6ba524          2   \n",
      "7   12  1588197745079  a748ee1a-1d0b-4ae9-9074-279a2b6ba524          3   \n",
      "\n",
      "   call_duration                                     trace  \n",
      "0             14  d5e84f8af01b2728021d4f43f53a163c0c90000c  \n",
      "1              0  47c125dc7bd163b8612cdea13724a814917b6e93  \n",
      "2             95  9cc793ffd6e88b1d850ce540b5d7e000ef5650d4  \n",
      "3             63  51fb9344e988049a3fec774c7ca622358bf80264  \n",
      "4              0  2a862a7730cfdfaf103a9487afe3e02935fd6e02  \n",
      "5             11  a2c53f6a086d98622c06107780980cf1bb4e37bd  \n",
      "6             65  56589df8c830c70e330b644921ed38e08d8fd1f3  \n",
      "7              0  cab458018a8ed3b626515e794c70b6f415318adc  \n"
     ]
    }
   ],
   "source": [
    "CallsAwareEg = pd.DataFrame()\n",
    "CallsAwareEg = pd.read_csv('dataset/AwareFrameworkExample/calls.csv')\n",
    "print(CallsAwareEg)"
   ]
  },
  {
   "cell_type": "code",
   "execution_count": 11,
   "metadata": {},
   "outputs": [
    {
     "ename": "KeyError",
     "evalue": "'CALLS_number'",
     "output_type": "error",
     "traceback": [
      "\u001b[0;31m---------------------------------------------------------------------------\u001b[0m",
      "\u001b[0;31mKeyError\u001b[0m                                  Traceback (most recent call last)",
      "File \u001b[0;32m/opt/homebrew/anaconda3/envs/Diss/lib/python3.12/site-packages/pandas/core/indexes/base.py:3805\u001b[0m, in \u001b[0;36mIndex.get_loc\u001b[0;34m(self, key)\u001b[0m\n\u001b[1;32m   3804\u001b[0m \u001b[38;5;28;01mtry\u001b[39;00m:\n\u001b[0;32m-> 3805\u001b[0m     \u001b[38;5;28;01mreturn\u001b[39;00m \u001b[38;5;28;43mself\u001b[39;49m\u001b[38;5;241;43m.\u001b[39;49m\u001b[43m_engine\u001b[49m\u001b[38;5;241;43m.\u001b[39;49m\u001b[43mget_loc\u001b[49m\u001b[43m(\u001b[49m\u001b[43mcasted_key\u001b[49m\u001b[43m)\u001b[49m\n\u001b[1;32m   3806\u001b[0m \u001b[38;5;28;01mexcept\u001b[39;00m \u001b[38;5;167;01mKeyError\u001b[39;00m \u001b[38;5;28;01mas\u001b[39;00m err:\n",
      "File \u001b[0;32mindex.pyx:167\u001b[0m, in \u001b[0;36mpandas._libs.index.IndexEngine.get_loc\u001b[0;34m()\u001b[0m\n",
      "File \u001b[0;32mindex.pyx:196\u001b[0m, in \u001b[0;36mpandas._libs.index.IndexEngine.get_loc\u001b[0;34m()\u001b[0m\n",
      "File \u001b[0;32mpandas/_libs/hashtable_class_helper.pxi:7081\u001b[0m, in \u001b[0;36mpandas._libs.hashtable.PyObjectHashTable.get_item\u001b[0;34m()\u001b[0m\n",
      "File \u001b[0;32mpandas/_libs/hashtable_class_helper.pxi:7089\u001b[0m, in \u001b[0;36mpandas._libs.hashtable.PyObjectHashTable.get_item\u001b[0;34m()\u001b[0m\n",
      "\u001b[0;31mKeyError\u001b[0m: 'CALLS_number'",
      "\nThe above exception was the direct cause of the following exception:\n",
      "\u001b[0;31mKeyError\u001b[0m                                  Traceback (most recent call last)",
      "Cell \u001b[0;32mIn[11], line 1\u001b[0m\n\u001b[0;32m----> 1\u001b[0m CallsDF[\u001b[38;5;124m'\u001b[39m\u001b[38;5;124mCALLS_number\u001b[39m\u001b[38;5;124m'\u001b[39m] \u001b[38;5;241m=\u001b[39m \u001b[43mCallsDF\u001b[49m\u001b[43m[\u001b[49m\u001b[38;5;124;43m'\u001b[39;49m\u001b[38;5;124;43mCALLS_number\u001b[39;49m\u001b[38;5;124;43m'\u001b[39;49m\u001b[43m]\u001b[49m\u001b[38;5;241m.\u001b[39mapply(\u001b[38;5;28;01mlambda\u001b[39;00m x: json\u001b[38;5;241m.\u001b[39mloads(x)[\u001b[38;5;124m'\u001b[39m\u001b[38;5;124mONE_WAY_HASH\u001b[39m\u001b[38;5;124m'\u001b[39m] \u001b[38;5;28;01mif\u001b[39;00m \u001b[38;5;28misinstance\u001b[39m(x, \u001b[38;5;28mstr\u001b[39m) \u001b[38;5;28;01melse\u001b[39;00m np\u001b[38;5;241m.\u001b[39mnan)\n\u001b[1;32m      2\u001b[0m columns_to_drop \u001b[38;5;241m=\u001b[39m [\u001b[38;5;124m'\u001b[39m\u001b[38;5;124mCALLS__id\u001b[39m\u001b[38;5;124m'\u001b[39m, \u001b[38;5;124m'\u001b[39m\u001b[38;5;124mCALLS_date\u001b[39m\u001b[38;5;124m'\u001b[39m, \u001b[38;5;124m'\u001b[39m\u001b[38;5;124mCALLS_name\u001b[39m\u001b[38;5;124m'\u001b[39m, \u001b[38;5;124m'\u001b[39m\u001b[38;5;124mCALLS_numberlabel\u001b[39m\u001b[38;5;124m'\u001b[39m, \u001b[38;5;124m'\u001b[39m\u001b[38;5;124mCALLS_numbertype\u001b[39m\u001b[38;5;124m'\u001b[39m]\n\u001b[1;32m      3\u001b[0m CallsDF \u001b[38;5;241m=\u001b[39m CallsDF\u001b[38;5;241m.\u001b[39mdrop(columns\u001b[38;5;241m=\u001b[39mcolumns_to_drop)\n",
      "File \u001b[0;32m/opt/homebrew/anaconda3/envs/Diss/lib/python3.12/site-packages/pandas/core/frame.py:4090\u001b[0m, in \u001b[0;36mDataFrame.__getitem__\u001b[0;34m(self, key)\u001b[0m\n\u001b[1;32m   4088\u001b[0m \u001b[38;5;28;01mif\u001b[39;00m \u001b[38;5;28mself\u001b[39m\u001b[38;5;241m.\u001b[39mcolumns\u001b[38;5;241m.\u001b[39mnlevels \u001b[38;5;241m>\u001b[39m \u001b[38;5;241m1\u001b[39m:\n\u001b[1;32m   4089\u001b[0m     \u001b[38;5;28;01mreturn\u001b[39;00m \u001b[38;5;28mself\u001b[39m\u001b[38;5;241m.\u001b[39m_getitem_multilevel(key)\n\u001b[0;32m-> 4090\u001b[0m indexer \u001b[38;5;241m=\u001b[39m \u001b[38;5;28;43mself\u001b[39;49m\u001b[38;5;241;43m.\u001b[39;49m\u001b[43mcolumns\u001b[49m\u001b[38;5;241;43m.\u001b[39;49m\u001b[43mget_loc\u001b[49m\u001b[43m(\u001b[49m\u001b[43mkey\u001b[49m\u001b[43m)\u001b[49m\n\u001b[1;32m   4091\u001b[0m \u001b[38;5;28;01mif\u001b[39;00m is_integer(indexer):\n\u001b[1;32m   4092\u001b[0m     indexer \u001b[38;5;241m=\u001b[39m [indexer]\n",
      "File \u001b[0;32m/opt/homebrew/anaconda3/envs/Diss/lib/python3.12/site-packages/pandas/core/indexes/base.py:3812\u001b[0m, in \u001b[0;36mIndex.get_loc\u001b[0;34m(self, key)\u001b[0m\n\u001b[1;32m   3807\u001b[0m     \u001b[38;5;28;01mif\u001b[39;00m \u001b[38;5;28misinstance\u001b[39m(casted_key, \u001b[38;5;28mslice\u001b[39m) \u001b[38;5;129;01mor\u001b[39;00m (\n\u001b[1;32m   3808\u001b[0m         \u001b[38;5;28misinstance\u001b[39m(casted_key, abc\u001b[38;5;241m.\u001b[39mIterable)\n\u001b[1;32m   3809\u001b[0m         \u001b[38;5;129;01mand\u001b[39;00m \u001b[38;5;28many\u001b[39m(\u001b[38;5;28misinstance\u001b[39m(x, \u001b[38;5;28mslice\u001b[39m) \u001b[38;5;28;01mfor\u001b[39;00m x \u001b[38;5;129;01min\u001b[39;00m casted_key)\n\u001b[1;32m   3810\u001b[0m     ):\n\u001b[1;32m   3811\u001b[0m         \u001b[38;5;28;01mraise\u001b[39;00m InvalidIndexError(key)\n\u001b[0;32m-> 3812\u001b[0m     \u001b[38;5;28;01mraise\u001b[39;00m \u001b[38;5;167;01mKeyError\u001b[39;00m(key) \u001b[38;5;28;01mfrom\u001b[39;00m \u001b[38;5;21;01merr\u001b[39;00m\n\u001b[1;32m   3813\u001b[0m \u001b[38;5;28;01mexcept\u001b[39;00m \u001b[38;5;167;01mTypeError\u001b[39;00m:\n\u001b[1;32m   3814\u001b[0m     \u001b[38;5;66;03m# If we have a listlike key, _check_indexing_error will raise\u001b[39;00m\n\u001b[1;32m   3815\u001b[0m     \u001b[38;5;66;03m#  InvalidIndexError. Otherwise we fall through and re-raise\u001b[39;00m\n\u001b[1;32m   3816\u001b[0m     \u001b[38;5;66;03m#  the TypeError.\u001b[39;00m\n\u001b[1;32m   3817\u001b[0m     \u001b[38;5;28mself\u001b[39m\u001b[38;5;241m.\u001b[39m_check_indexing_error(key)\n",
      "\u001b[0;31mKeyError\u001b[0m: 'CALLS_number'"
     ]
    }
   ],
   "source": [
    "CallsDF['CALLS_number'] = CallsDF['CALLS_number'].apply(lambda x: json.loads(x)['ONE_WAY_HASH'] if isinstance(x, str) else np.nan)\n",
    "columns_to_drop = ['CALLS__id', 'CALLS_date', 'CALLS_name', 'CALLS_numberlabel', 'CALLS_numbertype']\n",
    "CallsDF = CallsDF.drop(columns=columns_to_drop)"
   ]
  },
  {
   "cell_type": "code",
   "execution_count": 91,
   "metadata": {},
   "outputs": [
    {
     "name": "stdout",
     "output_type": "stream",
     "text": [
      "                                            id  \\\n",
      "0      8b67cbb5-cfa2-465b-b5af-31ee2c6606a6-40   \n",
      "1      9c0354e8-4f4f-451a-9358-efe17df0d26c-22   \n",
      "2      9c0354e8-4f4f-451a-9358-efe17df0d26c-22   \n",
      "3      9c0354e8-4f4f-451a-9358-efe17df0d26c-22   \n",
      "4      9c0354e8-4f4f-451a-9358-efe17df0d26c-22   \n",
      "...                                        ...   \n",
      "2198  bd316422-983d-4a23-a19b-84199ca62ce9-123   \n",
      "2199  bd316422-983d-4a23-a19b-84199ca62ce9-123   \n",
      "2200  bd316422-983d-4a23-a19b-84199ca62ce9-123   \n",
      "2201  bd316422-983d-4a23-a19b-84199ca62ce9-123   \n",
      "2202  bd316422-983d-4a23-a19b-84199ca62ce9-123   \n",
      "\n",
      "                                    device   timestamp  CALLS_duration  \\\n",
      "0     1977b545-a88f-4903-a7ae-2c434de4be49  1364099483             NaN   \n",
      "1     1977b545-a88f-4903-a7ae-2c434de4be49  1364077455            10.0   \n",
      "2     1977b545-a88f-4903-a7ae-2c434de4be49  1364077455            13.0   \n",
      "3     1977b545-a88f-4903-a7ae-2c434de4be49  1364077455            18.0   \n",
      "4     1977b545-a88f-4903-a7ae-2c434de4be49  1364077455           438.0   \n",
      "...                                    ...         ...             ...   \n",
      "2198  1977b545-a88f-4903-a7ae-2c434de4be49  1371329694            26.0   \n",
      "2199  1977b545-a88f-4903-a7ae-2c434de4be49  1371329694            26.0   \n",
      "2200  1977b545-a88f-4903-a7ae-2c434de4be49  1371329694            26.0   \n",
      "2201  1977b545-a88f-4903-a7ae-2c434de4be49  1371329694            26.0   \n",
      "2202  1977b545-a88f-4903-a7ae-2c434de4be49  1371329694            26.0   \n",
      "\n",
      "                                  CALLS_number  CALLS_type  \n",
      "0                                          NaN         NaN  \n",
      "1     c51aad31359925622a961f2082ecf1eea265f8b3         2.0  \n",
      "2     c51aad31359925622a961f2082ecf1eea265f8b3         2.0  \n",
      "3     c51aad31359925622a961f2082ecf1eea265f8b3         2.0  \n",
      "4     c51aad31359925622a961f2082ecf1eea265f8b3         2.0  \n",
      "...                                        ...         ...  \n",
      "2198   d88d2be4fab22d556ea4b41292112e3d9a7c088         2.0  \n",
      "2199   d88d2be4fab22d556ea4b41292112e3d9a7c088         2.0  \n",
      "2200   d88d2be4fab22d556ea4b41292112e3d9a7c088         2.0  \n",
      "2201   d88d2be4fab22d556ea4b41292112e3d9a7c088         2.0  \n",
      "2202   d88d2be4fab22d556ea4b41292112e3d9a7c088         2.0  \n",
      "\n",
      "[2203 rows x 6 columns]\n"
     ]
    }
   ],
   "source": [
    "print(CallsDF)"
   ]
  },
  {
   "cell_type": "code",
   "execution_count": 52,
   "metadata": {},
   "outputs": [
    {
     "name": "stdout",
     "output_type": "stream",
     "text": [
      "Index(['_id', 'timestamp', 'device_id', 'call_type', 'call_duration', 'trace'], dtype='object')\n",
      "Index(['_id', 'timestamp', 'device_id', 'call_type', 'call_duration', 'trace'], dtype='object')\n"
     ]
    }
   ],
   "source": [
    "print(CallsDF.keys())\n",
    "print(CallsAwareEg.keys())"
   ]
  },
  {
   "cell_type": "code",
   "execution_count": 5,
   "metadata": {},
   "outputs": [],
   "source": [
    "CallsDF = CallsDF.rename(columns={'CALLS_type': 'call_type', 'device': 'device_id','id':'_id','CALLS_duration':'call_duration','CALLS_number':'trace'})"
   ]
  },
  {
   "cell_type": "code",
   "execution_count": 6,
   "metadata": {},
   "outputs": [],
   "source": [
    "new_order = ['_id', 'timestamp', 'device_id', 'call_type', 'call_duration', 'trace']\n",
    "CallsDF = CallsDF[new_order]"
   ]
  },
  {
   "cell_type": "code",
   "execution_count": 94,
   "metadata": {},
   "outputs": [
    {
     "name": "stdout",
     "output_type": "stream",
     "text": [
      "                                          _id   timestamp  \\\n",
      "0     8b67cbb5-cfa2-465b-b5af-31ee2c6606a6-40  1364099483   \n",
      "214   6e290e96-1d78-4004-a583-01bbc1087e74-62  1364103083   \n",
      "215   30fa25f8-34a4-4954-abf7-05efa2c06ada-62  1364106683   \n",
      "216   ac4656a6-29c1-49b4-b8f3-7324cae60350-62  1364110283   \n",
      "217   9f5e37fe-6690-4ad5-bf19-2657bdc69d03-37  1364113883   \n",
      "...                                       ...         ...   \n",
      "2189  202dbab9-0eb3-4f48-84d0-7fa71c1a8f5f-48  1371289480   \n",
      "2190  9cf33e84-936c-4411-866d-a2d63548318e-49  1371293080   \n",
      "2191  4d546785-0c0c-4b8d-bde9-cde4400be78f-50  1371296680   \n",
      "2192  b6afaebd-cb50-4f38-8f11-141edaac1f11-49  1371300280   \n",
      "2193  a74151f6-0fde-4efa-a457-b8e151a1cf16-49  1371303880   \n",
      "\n",
      "                                 device_id  call_type  call_duration trace  \n",
      "0     1977b545-a88f-4903-a7ae-2c434de4be49        NaN            NaN   NaN  \n",
      "214   1977b545-a88f-4903-a7ae-2c434de4be49        NaN            NaN   NaN  \n",
      "215   1977b545-a88f-4903-a7ae-2c434de4be49        NaN            NaN   NaN  \n",
      "216   1977b545-a88f-4903-a7ae-2c434de4be49        NaN            NaN   NaN  \n",
      "217   1977b545-a88f-4903-a7ae-2c434de4be49        NaN            NaN   NaN  \n",
      "...                                    ...        ...            ...   ...  \n",
      "2189  1977b545-a88f-4903-a7ae-2c434de4be49        NaN            NaN   NaN  \n",
      "2190  1977b545-a88f-4903-a7ae-2c434de4be49        NaN            NaN   NaN  \n",
      "2191  1977b545-a88f-4903-a7ae-2c434de4be49        NaN            NaN   NaN  \n",
      "2192  1977b545-a88f-4903-a7ae-2c434de4be49        NaN            NaN   NaN  \n",
      "2193  1977b545-a88f-4903-a7ae-2c434de4be49        NaN            NaN   NaN  \n",
      "\n",
      "[1566 rows x 6 columns]\n"
     ]
    }
   ],
   "source": [
    "nan_values = CallsDF[CallsDF.isna().any(axis=1)]\n",
    "print(nan_values)"
   ]
  },
  {
   "cell_type": "code",
   "execution_count": 96,
   "metadata": {},
   "outputs": [
    {
     "name": "stdout",
     "output_type": "stream",
     "text": [
      "                                           _id   timestamp  \\\n",
      "1      9c0354e8-4f4f-451a-9358-efe17df0d26c-22  1364077455   \n",
      "2      9c0354e8-4f4f-451a-9358-efe17df0d26c-22  1364077455   \n",
      "3      9c0354e8-4f4f-451a-9358-efe17df0d26c-22  1364077455   \n",
      "4      9c0354e8-4f4f-451a-9358-efe17df0d26c-22  1364077455   \n",
      "5      9c0354e8-4f4f-451a-9358-efe17df0d26c-22  1364077455   \n",
      "...                                        ...         ...   \n",
      "2198  bd316422-983d-4a23-a19b-84199ca62ce9-123  1371329694   \n",
      "2199  bd316422-983d-4a23-a19b-84199ca62ce9-123  1371329694   \n",
      "2200  bd316422-983d-4a23-a19b-84199ca62ce9-123  1371329694   \n",
      "2201  bd316422-983d-4a23-a19b-84199ca62ce9-123  1371329694   \n",
      "2202  bd316422-983d-4a23-a19b-84199ca62ce9-123  1371329694   \n",
      "\n",
      "                                 device_id  call_type  call_duration  \\\n",
      "1     1977b545-a88f-4903-a7ae-2c434de4be49        2.0           10.0   \n",
      "2     1977b545-a88f-4903-a7ae-2c434de4be49        2.0           13.0   \n",
      "3     1977b545-a88f-4903-a7ae-2c434de4be49        2.0           18.0   \n",
      "4     1977b545-a88f-4903-a7ae-2c434de4be49        2.0          438.0   \n",
      "5     1977b545-a88f-4903-a7ae-2c434de4be49        1.0           22.0   \n",
      "...                                    ...        ...            ...   \n",
      "2198  1977b545-a88f-4903-a7ae-2c434de4be49        2.0           26.0   \n",
      "2199  1977b545-a88f-4903-a7ae-2c434de4be49        2.0           26.0   \n",
      "2200  1977b545-a88f-4903-a7ae-2c434de4be49        2.0           26.0   \n",
      "2201  1977b545-a88f-4903-a7ae-2c434de4be49        2.0           26.0   \n",
      "2202  1977b545-a88f-4903-a7ae-2c434de4be49        2.0           26.0   \n",
      "\n",
      "                                         trace  \n",
      "1     c51aad31359925622a961f2082ecf1eea265f8b3  \n",
      "2     c51aad31359925622a961f2082ecf1eea265f8b3  \n",
      "3     c51aad31359925622a961f2082ecf1eea265f8b3  \n",
      "4     c51aad31359925622a961f2082ecf1eea265f8b3  \n",
      "5     b15d961a300582bd424629c07c99878fd92d7c03  \n",
      "...                                        ...  \n",
      "2198   d88d2be4fab22d556ea4b41292112e3d9a7c088  \n",
      "2199   d88d2be4fab22d556ea4b41292112e3d9a7c088  \n",
      "2200   d88d2be4fab22d556ea4b41292112e3d9a7c088  \n",
      "2201   d88d2be4fab22d556ea4b41292112e3d9a7c088  \n",
      "2202   d88d2be4fab22d556ea4b41292112e3d9a7c088  \n",
      "\n",
      "[637 rows x 6 columns]\n"
     ]
    }
   ],
   "source": [
    "CallsDF.dropna(inplace=True)\n",
    "print(CallsDF)"
   ]
  },
  {
   "cell_type": "code",
   "execution_count": 84,
   "metadata": {},
   "outputs": [
    {
     "name": "stdout",
     "output_type": "stream",
     "text": [
      "0    14\n",
      "1     0\n",
      "2    95\n",
      "3    63\n",
      "4     0\n",
      "5    11\n",
      "6    65\n",
      "7     0\n",
      "Name: call_duration, dtype: int64\n"
     ]
    }
   ],
   "source": [
    "print(CallsAwareEg['call_duration'])"
   ]
  },
  {
   "cell_type": "code",
   "execution_count": 7,
   "metadata": {},
   "outputs": [
    {
     "name": "stdout",
     "output_type": "stream",
     "text": [
      "0       NaN\n",
      "1       2.0\n",
      "2       2.0\n",
      "3       2.0\n",
      "4       2.0\n",
      "       ... \n",
      "2198    2.0\n",
      "2199    2.0\n",
      "2200    2.0\n",
      "2201    2.0\n",
      "2202    2.0\n",
      "Name: call_type, Length: 2203, dtype: float64\n"
     ]
    },
    {
     "ename": "IntCastingNaNError",
     "evalue": "Cannot convert non-finite values (NA or inf) to integer",
     "output_type": "error",
     "traceback": [
      "\u001b[0;31m---------------------------------------------------------------------------\u001b[0m",
      "\u001b[0;31mIntCastingNaNError\u001b[0m                        Traceback (most recent call last)",
      "Cell \u001b[0;32mIn[7], line 2\u001b[0m\n\u001b[1;32m      1\u001b[0m \u001b[38;5;28mprint\u001b[39m(CallsDF[\u001b[38;5;124m'\u001b[39m\u001b[38;5;124mcall_type\u001b[39m\u001b[38;5;124m'\u001b[39m])\n\u001b[0;32m----> 2\u001b[0m CallsDF[\u001b[38;5;124m'\u001b[39m\u001b[38;5;124mcall_type\u001b[39m\u001b[38;5;124m'\u001b[39m] \u001b[38;5;241m=\u001b[39m \u001b[43mCallsDF\u001b[49m\u001b[43m[\u001b[49m\u001b[38;5;124;43m'\u001b[39;49m\u001b[38;5;124;43mcall_type\u001b[39;49m\u001b[38;5;124;43m'\u001b[39;49m\u001b[43m]\u001b[49m\u001b[38;5;241;43m.\u001b[39;49m\u001b[43mastype\u001b[49m\u001b[43m(\u001b[49m\u001b[38;5;28;43mint\u001b[39;49m\u001b[43m)\u001b[49m\n\u001b[1;32m      3\u001b[0m \u001b[38;5;28mprint\u001b[39m(CallsDF[\u001b[38;5;124m'\u001b[39m\u001b[38;5;124mcall_type\u001b[39m\u001b[38;5;124m'\u001b[39m])\n",
      "File \u001b[0;32m/opt/homebrew/anaconda3/envs/Diss/lib/python3.12/site-packages/pandas/core/generic.py:6640\u001b[0m, in \u001b[0;36mNDFrame.astype\u001b[0;34m(self, dtype, copy, errors)\u001b[0m\n\u001b[1;32m   6634\u001b[0m     results \u001b[38;5;241m=\u001b[39m [\n\u001b[1;32m   6635\u001b[0m         ser\u001b[38;5;241m.\u001b[39mastype(dtype, copy\u001b[38;5;241m=\u001b[39mcopy, errors\u001b[38;5;241m=\u001b[39merrors) \u001b[38;5;28;01mfor\u001b[39;00m _, ser \u001b[38;5;129;01min\u001b[39;00m \u001b[38;5;28mself\u001b[39m\u001b[38;5;241m.\u001b[39mitems()\n\u001b[1;32m   6636\u001b[0m     ]\n\u001b[1;32m   6638\u001b[0m \u001b[38;5;28;01melse\u001b[39;00m:\n\u001b[1;32m   6639\u001b[0m     \u001b[38;5;66;03m# else, only a single dtype is given\u001b[39;00m\n\u001b[0;32m-> 6640\u001b[0m     new_data \u001b[38;5;241m=\u001b[39m \u001b[38;5;28;43mself\u001b[39;49m\u001b[38;5;241;43m.\u001b[39;49m\u001b[43m_mgr\u001b[49m\u001b[38;5;241;43m.\u001b[39;49m\u001b[43mastype\u001b[49m\u001b[43m(\u001b[49m\u001b[43mdtype\u001b[49m\u001b[38;5;241;43m=\u001b[39;49m\u001b[43mdtype\u001b[49m\u001b[43m,\u001b[49m\u001b[43m \u001b[49m\u001b[43mcopy\u001b[49m\u001b[38;5;241;43m=\u001b[39;49m\u001b[43mcopy\u001b[49m\u001b[43m,\u001b[49m\u001b[43m \u001b[49m\u001b[43merrors\u001b[49m\u001b[38;5;241;43m=\u001b[39;49m\u001b[43merrors\u001b[49m\u001b[43m)\u001b[49m\n\u001b[1;32m   6641\u001b[0m     res \u001b[38;5;241m=\u001b[39m \u001b[38;5;28mself\u001b[39m\u001b[38;5;241m.\u001b[39m_constructor_from_mgr(new_data, axes\u001b[38;5;241m=\u001b[39mnew_data\u001b[38;5;241m.\u001b[39maxes)\n\u001b[1;32m   6642\u001b[0m     \u001b[38;5;28;01mreturn\u001b[39;00m res\u001b[38;5;241m.\u001b[39m__finalize__(\u001b[38;5;28mself\u001b[39m, method\u001b[38;5;241m=\u001b[39m\u001b[38;5;124m\"\u001b[39m\u001b[38;5;124mastype\u001b[39m\u001b[38;5;124m\"\u001b[39m)\n",
      "File \u001b[0;32m/opt/homebrew/anaconda3/envs/Diss/lib/python3.12/site-packages/pandas/core/internals/managers.py:430\u001b[0m, in \u001b[0;36mBaseBlockManager.astype\u001b[0;34m(self, dtype, copy, errors)\u001b[0m\n\u001b[1;32m    427\u001b[0m \u001b[38;5;28;01melif\u001b[39;00m using_copy_on_write():\n\u001b[1;32m    428\u001b[0m     copy \u001b[38;5;241m=\u001b[39m \u001b[38;5;28;01mFalse\u001b[39;00m\n\u001b[0;32m--> 430\u001b[0m \u001b[38;5;28;01mreturn\u001b[39;00m \u001b[38;5;28;43mself\u001b[39;49m\u001b[38;5;241;43m.\u001b[39;49m\u001b[43mapply\u001b[49m\u001b[43m(\u001b[49m\n\u001b[1;32m    431\u001b[0m \u001b[43m    \u001b[49m\u001b[38;5;124;43m\"\u001b[39;49m\u001b[38;5;124;43mastype\u001b[39;49m\u001b[38;5;124;43m\"\u001b[39;49m\u001b[43m,\u001b[49m\n\u001b[1;32m    432\u001b[0m \u001b[43m    \u001b[49m\u001b[43mdtype\u001b[49m\u001b[38;5;241;43m=\u001b[39;49m\u001b[43mdtype\u001b[49m\u001b[43m,\u001b[49m\n\u001b[1;32m    433\u001b[0m \u001b[43m    \u001b[49m\u001b[43mcopy\u001b[49m\u001b[38;5;241;43m=\u001b[39;49m\u001b[43mcopy\u001b[49m\u001b[43m,\u001b[49m\n\u001b[1;32m    434\u001b[0m \u001b[43m    \u001b[49m\u001b[43merrors\u001b[49m\u001b[38;5;241;43m=\u001b[39;49m\u001b[43merrors\u001b[49m\u001b[43m,\u001b[49m\n\u001b[1;32m    435\u001b[0m \u001b[43m    \u001b[49m\u001b[43musing_cow\u001b[49m\u001b[38;5;241;43m=\u001b[39;49m\u001b[43musing_copy_on_write\u001b[49m\u001b[43m(\u001b[49m\u001b[43m)\u001b[49m\u001b[43m,\u001b[49m\n\u001b[1;32m    436\u001b[0m \u001b[43m\u001b[49m\u001b[43m)\u001b[49m\n",
      "File \u001b[0;32m/opt/homebrew/anaconda3/envs/Diss/lib/python3.12/site-packages/pandas/core/internals/managers.py:363\u001b[0m, in \u001b[0;36mBaseBlockManager.apply\u001b[0;34m(self, f, align_keys, **kwargs)\u001b[0m\n\u001b[1;32m    361\u001b[0m         applied \u001b[38;5;241m=\u001b[39m b\u001b[38;5;241m.\u001b[39mapply(f, \u001b[38;5;241m*\u001b[39m\u001b[38;5;241m*\u001b[39mkwargs)\n\u001b[1;32m    362\u001b[0m     \u001b[38;5;28;01melse\u001b[39;00m:\n\u001b[0;32m--> 363\u001b[0m         applied \u001b[38;5;241m=\u001b[39m \u001b[38;5;28;43mgetattr\u001b[39;49m\u001b[43m(\u001b[49m\u001b[43mb\u001b[49m\u001b[43m,\u001b[49m\u001b[43m \u001b[49m\u001b[43mf\u001b[49m\u001b[43m)\u001b[49m\u001b[43m(\u001b[49m\u001b[38;5;241;43m*\u001b[39;49m\u001b[38;5;241;43m*\u001b[39;49m\u001b[43mkwargs\u001b[49m\u001b[43m)\u001b[49m\n\u001b[1;32m    364\u001b[0m     result_blocks \u001b[38;5;241m=\u001b[39m extend_blocks(applied, result_blocks)\n\u001b[1;32m    366\u001b[0m out \u001b[38;5;241m=\u001b[39m \u001b[38;5;28mtype\u001b[39m(\u001b[38;5;28mself\u001b[39m)\u001b[38;5;241m.\u001b[39mfrom_blocks(result_blocks, \u001b[38;5;28mself\u001b[39m\u001b[38;5;241m.\u001b[39maxes)\n",
      "File \u001b[0;32m/opt/homebrew/anaconda3/envs/Diss/lib/python3.12/site-packages/pandas/core/internals/blocks.py:758\u001b[0m, in \u001b[0;36mBlock.astype\u001b[0;34m(self, dtype, copy, errors, using_cow, squeeze)\u001b[0m\n\u001b[1;32m    755\u001b[0m         \u001b[38;5;28;01mraise\u001b[39;00m \u001b[38;5;167;01mValueError\u001b[39;00m(\u001b[38;5;124m\"\u001b[39m\u001b[38;5;124mCan not squeeze with more than one column.\u001b[39m\u001b[38;5;124m\"\u001b[39m)\n\u001b[1;32m    756\u001b[0m     values \u001b[38;5;241m=\u001b[39m values[\u001b[38;5;241m0\u001b[39m, :]  \u001b[38;5;66;03m# type: ignore[call-overload]\u001b[39;00m\n\u001b[0;32m--> 758\u001b[0m new_values \u001b[38;5;241m=\u001b[39m \u001b[43mastype_array_safe\u001b[49m\u001b[43m(\u001b[49m\u001b[43mvalues\u001b[49m\u001b[43m,\u001b[49m\u001b[43m \u001b[49m\u001b[43mdtype\u001b[49m\u001b[43m,\u001b[49m\u001b[43m \u001b[49m\u001b[43mcopy\u001b[49m\u001b[38;5;241;43m=\u001b[39;49m\u001b[43mcopy\u001b[49m\u001b[43m,\u001b[49m\u001b[43m \u001b[49m\u001b[43merrors\u001b[49m\u001b[38;5;241;43m=\u001b[39;49m\u001b[43merrors\u001b[49m\u001b[43m)\u001b[49m\n\u001b[1;32m    760\u001b[0m new_values \u001b[38;5;241m=\u001b[39m maybe_coerce_values(new_values)\n\u001b[1;32m    762\u001b[0m refs \u001b[38;5;241m=\u001b[39m \u001b[38;5;28;01mNone\u001b[39;00m\n",
      "File \u001b[0;32m/opt/homebrew/anaconda3/envs/Diss/lib/python3.12/site-packages/pandas/core/dtypes/astype.py:237\u001b[0m, in \u001b[0;36mastype_array_safe\u001b[0;34m(values, dtype, copy, errors)\u001b[0m\n\u001b[1;32m    234\u001b[0m     dtype \u001b[38;5;241m=\u001b[39m dtype\u001b[38;5;241m.\u001b[39mnumpy_dtype\n\u001b[1;32m    236\u001b[0m \u001b[38;5;28;01mtry\u001b[39;00m:\n\u001b[0;32m--> 237\u001b[0m     new_values \u001b[38;5;241m=\u001b[39m \u001b[43mastype_array\u001b[49m\u001b[43m(\u001b[49m\u001b[43mvalues\u001b[49m\u001b[43m,\u001b[49m\u001b[43m \u001b[49m\u001b[43mdtype\u001b[49m\u001b[43m,\u001b[49m\u001b[43m \u001b[49m\u001b[43mcopy\u001b[49m\u001b[38;5;241;43m=\u001b[39;49m\u001b[43mcopy\u001b[49m\u001b[43m)\u001b[49m\n\u001b[1;32m    238\u001b[0m \u001b[38;5;28;01mexcept\u001b[39;00m (\u001b[38;5;167;01mValueError\u001b[39;00m, \u001b[38;5;167;01mTypeError\u001b[39;00m):\n\u001b[1;32m    239\u001b[0m     \u001b[38;5;66;03m# e.g. _astype_nansafe can fail on object-dtype of strings\u001b[39;00m\n\u001b[1;32m    240\u001b[0m     \u001b[38;5;66;03m#  trying to convert to float\u001b[39;00m\n\u001b[1;32m    241\u001b[0m     \u001b[38;5;28;01mif\u001b[39;00m errors \u001b[38;5;241m==\u001b[39m \u001b[38;5;124m\"\u001b[39m\u001b[38;5;124mignore\u001b[39m\u001b[38;5;124m\"\u001b[39m:\n",
      "File \u001b[0;32m/opt/homebrew/anaconda3/envs/Diss/lib/python3.12/site-packages/pandas/core/dtypes/astype.py:182\u001b[0m, in \u001b[0;36mastype_array\u001b[0;34m(values, dtype, copy)\u001b[0m\n\u001b[1;32m    179\u001b[0m     values \u001b[38;5;241m=\u001b[39m values\u001b[38;5;241m.\u001b[39mastype(dtype, copy\u001b[38;5;241m=\u001b[39mcopy)\n\u001b[1;32m    181\u001b[0m \u001b[38;5;28;01melse\u001b[39;00m:\n\u001b[0;32m--> 182\u001b[0m     values \u001b[38;5;241m=\u001b[39m \u001b[43m_astype_nansafe\u001b[49m\u001b[43m(\u001b[49m\u001b[43mvalues\u001b[49m\u001b[43m,\u001b[49m\u001b[43m \u001b[49m\u001b[43mdtype\u001b[49m\u001b[43m,\u001b[49m\u001b[43m \u001b[49m\u001b[43mcopy\u001b[49m\u001b[38;5;241;43m=\u001b[39;49m\u001b[43mcopy\u001b[49m\u001b[43m)\u001b[49m\n\u001b[1;32m    184\u001b[0m \u001b[38;5;66;03m# in pandas we don't store numpy str dtypes, so convert to object\u001b[39;00m\n\u001b[1;32m    185\u001b[0m \u001b[38;5;28;01mif\u001b[39;00m \u001b[38;5;28misinstance\u001b[39m(dtype, np\u001b[38;5;241m.\u001b[39mdtype) \u001b[38;5;129;01mand\u001b[39;00m \u001b[38;5;28missubclass\u001b[39m(values\u001b[38;5;241m.\u001b[39mdtype\u001b[38;5;241m.\u001b[39mtype, \u001b[38;5;28mstr\u001b[39m):\n",
      "File \u001b[0;32m/opt/homebrew/anaconda3/envs/Diss/lib/python3.12/site-packages/pandas/core/dtypes/astype.py:101\u001b[0m, in \u001b[0;36m_astype_nansafe\u001b[0;34m(arr, dtype, copy, skipna)\u001b[0m\n\u001b[1;32m     96\u001b[0m     \u001b[38;5;28;01mreturn\u001b[39;00m lib\u001b[38;5;241m.\u001b[39mensure_string_array(\n\u001b[1;32m     97\u001b[0m         arr, skipna\u001b[38;5;241m=\u001b[39mskipna, convert_na_value\u001b[38;5;241m=\u001b[39m\u001b[38;5;28;01mFalse\u001b[39;00m\n\u001b[1;32m     98\u001b[0m     )\u001b[38;5;241m.\u001b[39mreshape(shape)\n\u001b[1;32m    100\u001b[0m \u001b[38;5;28;01melif\u001b[39;00m np\u001b[38;5;241m.\u001b[39missubdtype(arr\u001b[38;5;241m.\u001b[39mdtype, np\u001b[38;5;241m.\u001b[39mfloating) \u001b[38;5;129;01mand\u001b[39;00m dtype\u001b[38;5;241m.\u001b[39mkind \u001b[38;5;129;01min\u001b[39;00m \u001b[38;5;124m\"\u001b[39m\u001b[38;5;124miu\u001b[39m\u001b[38;5;124m\"\u001b[39m:\n\u001b[0;32m--> 101\u001b[0m     \u001b[38;5;28;01mreturn\u001b[39;00m \u001b[43m_astype_float_to_int_nansafe\u001b[49m\u001b[43m(\u001b[49m\u001b[43marr\u001b[49m\u001b[43m,\u001b[49m\u001b[43m \u001b[49m\u001b[43mdtype\u001b[49m\u001b[43m,\u001b[49m\u001b[43m \u001b[49m\u001b[43mcopy\u001b[49m\u001b[43m)\u001b[49m\n\u001b[1;32m    103\u001b[0m \u001b[38;5;28;01melif\u001b[39;00m arr\u001b[38;5;241m.\u001b[39mdtype \u001b[38;5;241m==\u001b[39m \u001b[38;5;28mobject\u001b[39m:\n\u001b[1;32m    104\u001b[0m     \u001b[38;5;66;03m# if we have a datetime/timedelta array of objects\u001b[39;00m\n\u001b[1;32m    105\u001b[0m     \u001b[38;5;66;03m# then coerce to datetime64[ns] and use DatetimeArray.astype\u001b[39;00m\n\u001b[1;32m    107\u001b[0m     \u001b[38;5;28;01mif\u001b[39;00m lib\u001b[38;5;241m.\u001b[39mis_np_dtype(dtype, \u001b[38;5;124m\"\u001b[39m\u001b[38;5;124mM\u001b[39m\u001b[38;5;124m\"\u001b[39m):\n",
      "File \u001b[0;32m/opt/homebrew/anaconda3/envs/Diss/lib/python3.12/site-packages/pandas/core/dtypes/astype.py:145\u001b[0m, in \u001b[0;36m_astype_float_to_int_nansafe\u001b[0;34m(values, dtype, copy)\u001b[0m\n\u001b[1;32m    141\u001b[0m \u001b[38;5;250m\u001b[39m\u001b[38;5;124;03m\"\"\"\u001b[39;00m\n\u001b[1;32m    142\u001b[0m \u001b[38;5;124;03mastype with a check preventing converting NaN to an meaningless integer value.\u001b[39;00m\n\u001b[1;32m    143\u001b[0m \u001b[38;5;124;03m\"\"\"\u001b[39;00m\n\u001b[1;32m    144\u001b[0m \u001b[38;5;28;01mif\u001b[39;00m \u001b[38;5;129;01mnot\u001b[39;00m np\u001b[38;5;241m.\u001b[39misfinite(values)\u001b[38;5;241m.\u001b[39mall():\n\u001b[0;32m--> 145\u001b[0m     \u001b[38;5;28;01mraise\u001b[39;00m IntCastingNaNError(\n\u001b[1;32m    146\u001b[0m         \u001b[38;5;124m\"\u001b[39m\u001b[38;5;124mCannot convert non-finite values (NA or inf) to integer\u001b[39m\u001b[38;5;124m\"\u001b[39m\n\u001b[1;32m    147\u001b[0m     )\n\u001b[1;32m    148\u001b[0m \u001b[38;5;28;01mif\u001b[39;00m dtype\u001b[38;5;241m.\u001b[39mkind \u001b[38;5;241m==\u001b[39m \u001b[38;5;124m\"\u001b[39m\u001b[38;5;124mu\u001b[39m\u001b[38;5;124m\"\u001b[39m:\n\u001b[1;32m    149\u001b[0m     \u001b[38;5;66;03m# GH#45151\u001b[39;00m\n\u001b[1;32m    150\u001b[0m     \u001b[38;5;28;01mif\u001b[39;00m \u001b[38;5;129;01mnot\u001b[39;00m (values \u001b[38;5;241m>\u001b[39m\u001b[38;5;241m=\u001b[39m \u001b[38;5;241m0\u001b[39m)\u001b[38;5;241m.\u001b[39mall():\n",
      "\u001b[0;31mIntCastingNaNError\u001b[0m: Cannot convert non-finite values (NA or inf) to integer"
     ]
    }
   ],
   "source": [
    "print(CallsDF['call_type'])\n",
    "CallsDF['call_type'] = CallsDF['call_type'].astype(int)\n",
    "print(CallsDF['call_type'])"
   ]
  },
  {
   "cell_type": "code",
   "execution_count": 8,
   "metadata": {},
   "outputs": [
    {
     "name": "stdout",
     "output_type": "stream",
     "text": [
      "0         NaN\n",
      "1        10.0\n",
      "2        13.0\n",
      "3        18.0\n",
      "4       438.0\n",
      "        ...  \n",
      "2198     26.0\n",
      "2199     26.0\n",
      "2200     26.0\n",
      "2201     26.0\n",
      "2202     26.0\n",
      "Name: call_duration, Length: 2203, dtype: float64\n"
     ]
    },
    {
     "ename": "IntCastingNaNError",
     "evalue": "Cannot convert non-finite values (NA or inf) to integer",
     "output_type": "error",
     "traceback": [
      "\u001b[0;31m---------------------------------------------------------------------------\u001b[0m",
      "\u001b[0;31mIntCastingNaNError\u001b[0m                        Traceback (most recent call last)",
      "Cell \u001b[0;32mIn[8], line 2\u001b[0m\n\u001b[1;32m      1\u001b[0m \u001b[38;5;28mprint\u001b[39m(CallsDF[\u001b[38;5;124m'\u001b[39m\u001b[38;5;124mcall_duration\u001b[39m\u001b[38;5;124m'\u001b[39m])\n\u001b[0;32m----> 2\u001b[0m CallsDF[\u001b[38;5;124m'\u001b[39m\u001b[38;5;124mcall_duration\u001b[39m\u001b[38;5;124m'\u001b[39m] \u001b[38;5;241m=\u001b[39m \u001b[43mCallsDF\u001b[49m\u001b[43m[\u001b[49m\u001b[38;5;124;43m'\u001b[39;49m\u001b[38;5;124;43mcall_duration\u001b[39;49m\u001b[38;5;124;43m'\u001b[39;49m\u001b[43m]\u001b[49m\u001b[38;5;241;43m.\u001b[39;49m\u001b[43mastype\u001b[49m\u001b[43m(\u001b[49m\u001b[38;5;28;43mint\u001b[39;49m\u001b[43m)\u001b[49m\n\u001b[1;32m      3\u001b[0m \u001b[38;5;28mprint\u001b[39m(CallsDF[\u001b[38;5;124m'\u001b[39m\u001b[38;5;124mcall_duration\u001b[39m\u001b[38;5;124m'\u001b[39m])\n",
      "File \u001b[0;32m/opt/homebrew/anaconda3/envs/Diss/lib/python3.12/site-packages/pandas/core/generic.py:6640\u001b[0m, in \u001b[0;36mNDFrame.astype\u001b[0;34m(self, dtype, copy, errors)\u001b[0m\n\u001b[1;32m   6634\u001b[0m     results \u001b[38;5;241m=\u001b[39m [\n\u001b[1;32m   6635\u001b[0m         ser\u001b[38;5;241m.\u001b[39mastype(dtype, copy\u001b[38;5;241m=\u001b[39mcopy, errors\u001b[38;5;241m=\u001b[39merrors) \u001b[38;5;28;01mfor\u001b[39;00m _, ser \u001b[38;5;129;01min\u001b[39;00m \u001b[38;5;28mself\u001b[39m\u001b[38;5;241m.\u001b[39mitems()\n\u001b[1;32m   6636\u001b[0m     ]\n\u001b[1;32m   6638\u001b[0m \u001b[38;5;28;01melse\u001b[39;00m:\n\u001b[1;32m   6639\u001b[0m     \u001b[38;5;66;03m# else, only a single dtype is given\u001b[39;00m\n\u001b[0;32m-> 6640\u001b[0m     new_data \u001b[38;5;241m=\u001b[39m \u001b[38;5;28;43mself\u001b[39;49m\u001b[38;5;241;43m.\u001b[39;49m\u001b[43m_mgr\u001b[49m\u001b[38;5;241;43m.\u001b[39;49m\u001b[43mastype\u001b[49m\u001b[43m(\u001b[49m\u001b[43mdtype\u001b[49m\u001b[38;5;241;43m=\u001b[39;49m\u001b[43mdtype\u001b[49m\u001b[43m,\u001b[49m\u001b[43m \u001b[49m\u001b[43mcopy\u001b[49m\u001b[38;5;241;43m=\u001b[39;49m\u001b[43mcopy\u001b[49m\u001b[43m,\u001b[49m\u001b[43m \u001b[49m\u001b[43merrors\u001b[49m\u001b[38;5;241;43m=\u001b[39;49m\u001b[43merrors\u001b[49m\u001b[43m)\u001b[49m\n\u001b[1;32m   6641\u001b[0m     res \u001b[38;5;241m=\u001b[39m \u001b[38;5;28mself\u001b[39m\u001b[38;5;241m.\u001b[39m_constructor_from_mgr(new_data, axes\u001b[38;5;241m=\u001b[39mnew_data\u001b[38;5;241m.\u001b[39maxes)\n\u001b[1;32m   6642\u001b[0m     \u001b[38;5;28;01mreturn\u001b[39;00m res\u001b[38;5;241m.\u001b[39m__finalize__(\u001b[38;5;28mself\u001b[39m, method\u001b[38;5;241m=\u001b[39m\u001b[38;5;124m\"\u001b[39m\u001b[38;5;124mastype\u001b[39m\u001b[38;5;124m\"\u001b[39m)\n",
      "File \u001b[0;32m/opt/homebrew/anaconda3/envs/Diss/lib/python3.12/site-packages/pandas/core/internals/managers.py:430\u001b[0m, in \u001b[0;36mBaseBlockManager.astype\u001b[0;34m(self, dtype, copy, errors)\u001b[0m\n\u001b[1;32m    427\u001b[0m \u001b[38;5;28;01melif\u001b[39;00m using_copy_on_write():\n\u001b[1;32m    428\u001b[0m     copy \u001b[38;5;241m=\u001b[39m \u001b[38;5;28;01mFalse\u001b[39;00m\n\u001b[0;32m--> 430\u001b[0m \u001b[38;5;28;01mreturn\u001b[39;00m \u001b[38;5;28;43mself\u001b[39;49m\u001b[38;5;241;43m.\u001b[39;49m\u001b[43mapply\u001b[49m\u001b[43m(\u001b[49m\n\u001b[1;32m    431\u001b[0m \u001b[43m    \u001b[49m\u001b[38;5;124;43m\"\u001b[39;49m\u001b[38;5;124;43mastype\u001b[39;49m\u001b[38;5;124;43m\"\u001b[39;49m\u001b[43m,\u001b[49m\n\u001b[1;32m    432\u001b[0m \u001b[43m    \u001b[49m\u001b[43mdtype\u001b[49m\u001b[38;5;241;43m=\u001b[39;49m\u001b[43mdtype\u001b[49m\u001b[43m,\u001b[49m\n\u001b[1;32m    433\u001b[0m \u001b[43m    \u001b[49m\u001b[43mcopy\u001b[49m\u001b[38;5;241;43m=\u001b[39;49m\u001b[43mcopy\u001b[49m\u001b[43m,\u001b[49m\n\u001b[1;32m    434\u001b[0m \u001b[43m    \u001b[49m\u001b[43merrors\u001b[49m\u001b[38;5;241;43m=\u001b[39;49m\u001b[43merrors\u001b[49m\u001b[43m,\u001b[49m\n\u001b[1;32m    435\u001b[0m \u001b[43m    \u001b[49m\u001b[43musing_cow\u001b[49m\u001b[38;5;241;43m=\u001b[39;49m\u001b[43musing_copy_on_write\u001b[49m\u001b[43m(\u001b[49m\u001b[43m)\u001b[49m\u001b[43m,\u001b[49m\n\u001b[1;32m    436\u001b[0m \u001b[43m\u001b[49m\u001b[43m)\u001b[49m\n",
      "File \u001b[0;32m/opt/homebrew/anaconda3/envs/Diss/lib/python3.12/site-packages/pandas/core/internals/managers.py:363\u001b[0m, in \u001b[0;36mBaseBlockManager.apply\u001b[0;34m(self, f, align_keys, **kwargs)\u001b[0m\n\u001b[1;32m    361\u001b[0m         applied \u001b[38;5;241m=\u001b[39m b\u001b[38;5;241m.\u001b[39mapply(f, \u001b[38;5;241m*\u001b[39m\u001b[38;5;241m*\u001b[39mkwargs)\n\u001b[1;32m    362\u001b[0m     \u001b[38;5;28;01melse\u001b[39;00m:\n\u001b[0;32m--> 363\u001b[0m         applied \u001b[38;5;241m=\u001b[39m \u001b[38;5;28;43mgetattr\u001b[39;49m\u001b[43m(\u001b[49m\u001b[43mb\u001b[49m\u001b[43m,\u001b[49m\u001b[43m \u001b[49m\u001b[43mf\u001b[49m\u001b[43m)\u001b[49m\u001b[43m(\u001b[49m\u001b[38;5;241;43m*\u001b[39;49m\u001b[38;5;241;43m*\u001b[39;49m\u001b[43mkwargs\u001b[49m\u001b[43m)\u001b[49m\n\u001b[1;32m    364\u001b[0m     result_blocks \u001b[38;5;241m=\u001b[39m extend_blocks(applied, result_blocks)\n\u001b[1;32m    366\u001b[0m out \u001b[38;5;241m=\u001b[39m \u001b[38;5;28mtype\u001b[39m(\u001b[38;5;28mself\u001b[39m)\u001b[38;5;241m.\u001b[39mfrom_blocks(result_blocks, \u001b[38;5;28mself\u001b[39m\u001b[38;5;241m.\u001b[39maxes)\n",
      "File \u001b[0;32m/opt/homebrew/anaconda3/envs/Diss/lib/python3.12/site-packages/pandas/core/internals/blocks.py:758\u001b[0m, in \u001b[0;36mBlock.astype\u001b[0;34m(self, dtype, copy, errors, using_cow, squeeze)\u001b[0m\n\u001b[1;32m    755\u001b[0m         \u001b[38;5;28;01mraise\u001b[39;00m \u001b[38;5;167;01mValueError\u001b[39;00m(\u001b[38;5;124m\"\u001b[39m\u001b[38;5;124mCan not squeeze with more than one column.\u001b[39m\u001b[38;5;124m\"\u001b[39m)\n\u001b[1;32m    756\u001b[0m     values \u001b[38;5;241m=\u001b[39m values[\u001b[38;5;241m0\u001b[39m, :]  \u001b[38;5;66;03m# type: ignore[call-overload]\u001b[39;00m\n\u001b[0;32m--> 758\u001b[0m new_values \u001b[38;5;241m=\u001b[39m \u001b[43mastype_array_safe\u001b[49m\u001b[43m(\u001b[49m\u001b[43mvalues\u001b[49m\u001b[43m,\u001b[49m\u001b[43m \u001b[49m\u001b[43mdtype\u001b[49m\u001b[43m,\u001b[49m\u001b[43m \u001b[49m\u001b[43mcopy\u001b[49m\u001b[38;5;241;43m=\u001b[39;49m\u001b[43mcopy\u001b[49m\u001b[43m,\u001b[49m\u001b[43m \u001b[49m\u001b[43merrors\u001b[49m\u001b[38;5;241;43m=\u001b[39;49m\u001b[43merrors\u001b[49m\u001b[43m)\u001b[49m\n\u001b[1;32m    760\u001b[0m new_values \u001b[38;5;241m=\u001b[39m maybe_coerce_values(new_values)\n\u001b[1;32m    762\u001b[0m refs \u001b[38;5;241m=\u001b[39m \u001b[38;5;28;01mNone\u001b[39;00m\n",
      "File \u001b[0;32m/opt/homebrew/anaconda3/envs/Diss/lib/python3.12/site-packages/pandas/core/dtypes/astype.py:237\u001b[0m, in \u001b[0;36mastype_array_safe\u001b[0;34m(values, dtype, copy, errors)\u001b[0m\n\u001b[1;32m    234\u001b[0m     dtype \u001b[38;5;241m=\u001b[39m dtype\u001b[38;5;241m.\u001b[39mnumpy_dtype\n\u001b[1;32m    236\u001b[0m \u001b[38;5;28;01mtry\u001b[39;00m:\n\u001b[0;32m--> 237\u001b[0m     new_values \u001b[38;5;241m=\u001b[39m \u001b[43mastype_array\u001b[49m\u001b[43m(\u001b[49m\u001b[43mvalues\u001b[49m\u001b[43m,\u001b[49m\u001b[43m \u001b[49m\u001b[43mdtype\u001b[49m\u001b[43m,\u001b[49m\u001b[43m \u001b[49m\u001b[43mcopy\u001b[49m\u001b[38;5;241;43m=\u001b[39;49m\u001b[43mcopy\u001b[49m\u001b[43m)\u001b[49m\n\u001b[1;32m    238\u001b[0m \u001b[38;5;28;01mexcept\u001b[39;00m (\u001b[38;5;167;01mValueError\u001b[39;00m, \u001b[38;5;167;01mTypeError\u001b[39;00m):\n\u001b[1;32m    239\u001b[0m     \u001b[38;5;66;03m# e.g. _astype_nansafe can fail on object-dtype of strings\u001b[39;00m\n\u001b[1;32m    240\u001b[0m     \u001b[38;5;66;03m#  trying to convert to float\u001b[39;00m\n\u001b[1;32m    241\u001b[0m     \u001b[38;5;28;01mif\u001b[39;00m errors \u001b[38;5;241m==\u001b[39m \u001b[38;5;124m\"\u001b[39m\u001b[38;5;124mignore\u001b[39m\u001b[38;5;124m\"\u001b[39m:\n",
      "File \u001b[0;32m/opt/homebrew/anaconda3/envs/Diss/lib/python3.12/site-packages/pandas/core/dtypes/astype.py:182\u001b[0m, in \u001b[0;36mastype_array\u001b[0;34m(values, dtype, copy)\u001b[0m\n\u001b[1;32m    179\u001b[0m     values \u001b[38;5;241m=\u001b[39m values\u001b[38;5;241m.\u001b[39mastype(dtype, copy\u001b[38;5;241m=\u001b[39mcopy)\n\u001b[1;32m    181\u001b[0m \u001b[38;5;28;01melse\u001b[39;00m:\n\u001b[0;32m--> 182\u001b[0m     values \u001b[38;5;241m=\u001b[39m \u001b[43m_astype_nansafe\u001b[49m\u001b[43m(\u001b[49m\u001b[43mvalues\u001b[49m\u001b[43m,\u001b[49m\u001b[43m \u001b[49m\u001b[43mdtype\u001b[49m\u001b[43m,\u001b[49m\u001b[43m \u001b[49m\u001b[43mcopy\u001b[49m\u001b[38;5;241;43m=\u001b[39;49m\u001b[43mcopy\u001b[49m\u001b[43m)\u001b[49m\n\u001b[1;32m    184\u001b[0m \u001b[38;5;66;03m# in pandas we don't store numpy str dtypes, so convert to object\u001b[39;00m\n\u001b[1;32m    185\u001b[0m \u001b[38;5;28;01mif\u001b[39;00m \u001b[38;5;28misinstance\u001b[39m(dtype, np\u001b[38;5;241m.\u001b[39mdtype) \u001b[38;5;129;01mand\u001b[39;00m \u001b[38;5;28missubclass\u001b[39m(values\u001b[38;5;241m.\u001b[39mdtype\u001b[38;5;241m.\u001b[39mtype, \u001b[38;5;28mstr\u001b[39m):\n",
      "File \u001b[0;32m/opt/homebrew/anaconda3/envs/Diss/lib/python3.12/site-packages/pandas/core/dtypes/astype.py:101\u001b[0m, in \u001b[0;36m_astype_nansafe\u001b[0;34m(arr, dtype, copy, skipna)\u001b[0m\n\u001b[1;32m     96\u001b[0m     \u001b[38;5;28;01mreturn\u001b[39;00m lib\u001b[38;5;241m.\u001b[39mensure_string_array(\n\u001b[1;32m     97\u001b[0m         arr, skipna\u001b[38;5;241m=\u001b[39mskipna, convert_na_value\u001b[38;5;241m=\u001b[39m\u001b[38;5;28;01mFalse\u001b[39;00m\n\u001b[1;32m     98\u001b[0m     )\u001b[38;5;241m.\u001b[39mreshape(shape)\n\u001b[1;32m    100\u001b[0m \u001b[38;5;28;01melif\u001b[39;00m np\u001b[38;5;241m.\u001b[39missubdtype(arr\u001b[38;5;241m.\u001b[39mdtype, np\u001b[38;5;241m.\u001b[39mfloating) \u001b[38;5;129;01mand\u001b[39;00m dtype\u001b[38;5;241m.\u001b[39mkind \u001b[38;5;129;01min\u001b[39;00m \u001b[38;5;124m\"\u001b[39m\u001b[38;5;124miu\u001b[39m\u001b[38;5;124m\"\u001b[39m:\n\u001b[0;32m--> 101\u001b[0m     \u001b[38;5;28;01mreturn\u001b[39;00m \u001b[43m_astype_float_to_int_nansafe\u001b[49m\u001b[43m(\u001b[49m\u001b[43marr\u001b[49m\u001b[43m,\u001b[49m\u001b[43m \u001b[49m\u001b[43mdtype\u001b[49m\u001b[43m,\u001b[49m\u001b[43m \u001b[49m\u001b[43mcopy\u001b[49m\u001b[43m)\u001b[49m\n\u001b[1;32m    103\u001b[0m \u001b[38;5;28;01melif\u001b[39;00m arr\u001b[38;5;241m.\u001b[39mdtype \u001b[38;5;241m==\u001b[39m \u001b[38;5;28mobject\u001b[39m:\n\u001b[1;32m    104\u001b[0m     \u001b[38;5;66;03m# if we have a datetime/timedelta array of objects\u001b[39;00m\n\u001b[1;32m    105\u001b[0m     \u001b[38;5;66;03m# then coerce to datetime64[ns] and use DatetimeArray.astype\u001b[39;00m\n\u001b[1;32m    107\u001b[0m     \u001b[38;5;28;01mif\u001b[39;00m lib\u001b[38;5;241m.\u001b[39mis_np_dtype(dtype, \u001b[38;5;124m\"\u001b[39m\u001b[38;5;124mM\u001b[39m\u001b[38;5;124m\"\u001b[39m):\n",
      "File \u001b[0;32m/opt/homebrew/anaconda3/envs/Diss/lib/python3.12/site-packages/pandas/core/dtypes/astype.py:145\u001b[0m, in \u001b[0;36m_astype_float_to_int_nansafe\u001b[0;34m(values, dtype, copy)\u001b[0m\n\u001b[1;32m    141\u001b[0m \u001b[38;5;250m\u001b[39m\u001b[38;5;124;03m\"\"\"\u001b[39;00m\n\u001b[1;32m    142\u001b[0m \u001b[38;5;124;03mastype with a check preventing converting NaN to an meaningless integer value.\u001b[39;00m\n\u001b[1;32m    143\u001b[0m \u001b[38;5;124;03m\"\"\"\u001b[39;00m\n\u001b[1;32m    144\u001b[0m \u001b[38;5;28;01mif\u001b[39;00m \u001b[38;5;129;01mnot\u001b[39;00m np\u001b[38;5;241m.\u001b[39misfinite(values)\u001b[38;5;241m.\u001b[39mall():\n\u001b[0;32m--> 145\u001b[0m     \u001b[38;5;28;01mraise\u001b[39;00m IntCastingNaNError(\n\u001b[1;32m    146\u001b[0m         \u001b[38;5;124m\"\u001b[39m\u001b[38;5;124mCannot convert non-finite values (NA or inf) to integer\u001b[39m\u001b[38;5;124m\"\u001b[39m\n\u001b[1;32m    147\u001b[0m     )\n\u001b[1;32m    148\u001b[0m \u001b[38;5;28;01mif\u001b[39;00m dtype\u001b[38;5;241m.\u001b[39mkind \u001b[38;5;241m==\u001b[39m \u001b[38;5;124m\"\u001b[39m\u001b[38;5;124mu\u001b[39m\u001b[38;5;124m\"\u001b[39m:\n\u001b[1;32m    149\u001b[0m     \u001b[38;5;66;03m# GH#45151\u001b[39;00m\n\u001b[1;32m    150\u001b[0m     \u001b[38;5;28;01mif\u001b[39;00m \u001b[38;5;129;01mnot\u001b[39;00m (values \u001b[38;5;241m>\u001b[39m\u001b[38;5;241m=\u001b[39m \u001b[38;5;241m0\u001b[39m)\u001b[38;5;241m.\u001b[39mall():\n",
      "\u001b[0;31mIntCastingNaNError\u001b[0m: Cannot convert non-finite values (NA or inf) to integer"
     ]
    }
   ],
   "source": [
    "print(CallsDF['call_duration'])\n",
    "CallsDF['call_duration'] = CallsDF['call_duration'].astype(int)\n",
    "print(CallsDF['call_duration'])"
   ]
  },
  {
   "cell_type": "code",
   "execution_count": 79,
   "metadata": {},
   "outputs": [
    {
     "name": "stdout",
     "output_type": "stream",
     "text": [
      "1          1\n",
      "2          2\n",
      "3          3\n",
      "4          4\n",
      "5          5\n",
      "        ... \n",
      "2198    2198\n",
      "2199    2199\n",
      "2200    2200\n",
      "2201    2201\n",
      "2202    2202\n",
      "Name: index_values, Length: 637, dtype: int64\n",
      "       timestamp                             device_id  call_type  \\\n",
      "1     1364077455  1977b545-a88f-4903-a7ae-2c434de4be49        2.0   \n",
      "2     1364077455  1977b545-a88f-4903-a7ae-2c434de4be49        2.0   \n",
      "3     1364077455  1977b545-a88f-4903-a7ae-2c434de4be49        2.0   \n",
      "4     1364077455  1977b545-a88f-4903-a7ae-2c434de4be49        2.0   \n",
      "5     1364077455  1977b545-a88f-4903-a7ae-2c434de4be49        1.0   \n",
      "...          ...                                   ...        ...   \n",
      "2198  1371329694  1977b545-a88f-4903-a7ae-2c434de4be49        2.0   \n",
      "2199  1371329694  1977b545-a88f-4903-a7ae-2c434de4be49        2.0   \n",
      "2200  1371329694  1977b545-a88f-4903-a7ae-2c434de4be49        2.0   \n",
      "2201  1371329694  1977b545-a88f-4903-a7ae-2c434de4be49        2.0   \n",
      "2202  1371329694  1977b545-a88f-4903-a7ae-2c434de4be49        2.0   \n",
      "\n",
      "      call_duration                                     trace   _id  \n",
      "1              10.0  c51aad31359925622a961f2082ecf1eea265f8b3     1  \n",
      "2              13.0  c51aad31359925622a961f2082ecf1eea265f8b3     2  \n",
      "3              18.0  c51aad31359925622a961f2082ecf1eea265f8b3     3  \n",
      "4             438.0  c51aad31359925622a961f2082ecf1eea265f8b3     4  \n",
      "5              22.0  b15d961a300582bd424629c07c99878fd92d7c03     5  \n",
      "...             ...                                       ...   ...  \n",
      "2198           26.0   d88d2be4fab22d556ea4b41292112e3d9a7c088  2198  \n",
      "2199           26.0   d88d2be4fab22d556ea4b41292112e3d9a7c088  2199  \n",
      "2200           26.0   d88d2be4fab22d556ea4b41292112e3d9a7c088  2200  \n",
      "2201           26.0   d88d2be4fab22d556ea4b41292112e3d9a7c088  2201  \n",
      "2202           26.0   d88d2be4fab22d556ea4b41292112e3d9a7c088  2202  \n",
      "\n",
      "[637 rows x 6 columns]\n"
     ]
    }
   ],
   "source": [
    "CallsDF['index_values'] = CallsDF.index\n",
    "print(CallsDF['index_values'])\n",
    "CallsDF = CallsDF.drop(columns='_id')\n",
    "\n",
    "CallsDF = CallsDF.rename(columns={'index_values': '_id'})\n",
    "print(CallsDF)"
   ]
  },
  {
   "cell_type": "code",
   "execution_count": 99,
   "metadata": {},
   "outputs": [
    {
     "name": "stdout",
     "output_type": "stream",
     "text": [
      "                                           _id   timestamp  \\\n",
      "1      9c0354e8-4f4f-451a-9358-efe17df0d26c-22  1364077455   \n",
      "2      9c0354e8-4f4f-451a-9358-efe17df0d26c-22  1364077455   \n",
      "3      9c0354e8-4f4f-451a-9358-efe17df0d26c-22  1364077455   \n",
      "4      9c0354e8-4f4f-451a-9358-efe17df0d26c-22  1364077455   \n",
      "5      9c0354e8-4f4f-451a-9358-efe17df0d26c-22  1364077455   \n",
      "...                                        ...         ...   \n",
      "2198  bd316422-983d-4a23-a19b-84199ca62ce9-123  1371329694   \n",
      "2199  bd316422-983d-4a23-a19b-84199ca62ce9-123  1371329694   \n",
      "2200  bd316422-983d-4a23-a19b-84199ca62ce9-123  1371329694   \n",
      "2201  bd316422-983d-4a23-a19b-84199ca62ce9-123  1371329694   \n",
      "2202  bd316422-983d-4a23-a19b-84199ca62ce9-123  1371329694   \n",
      "\n",
      "                                 device_id  call_type  call_duration  \\\n",
      "1     1977b545-a88f-4903-a7ae-2c434de4be49          2             10   \n",
      "2     1977b545-a88f-4903-a7ae-2c434de4be49          2             13   \n",
      "3     1977b545-a88f-4903-a7ae-2c434de4be49          2             18   \n",
      "4     1977b545-a88f-4903-a7ae-2c434de4be49          2            438   \n",
      "5     1977b545-a88f-4903-a7ae-2c434de4be49          1             22   \n",
      "...                                    ...        ...            ...   \n",
      "2198  1977b545-a88f-4903-a7ae-2c434de4be49          2             26   \n",
      "2199  1977b545-a88f-4903-a7ae-2c434de4be49          2             26   \n",
      "2200  1977b545-a88f-4903-a7ae-2c434de4be49          2             26   \n",
      "2201  1977b545-a88f-4903-a7ae-2c434de4be49          2             26   \n",
      "2202  1977b545-a88f-4903-a7ae-2c434de4be49          2             26   \n",
      "\n",
      "                                         trace  \n",
      "1     c51aad31359925622a961f2082ecf1eea265f8b3  \n",
      "2     c51aad31359925622a961f2082ecf1eea265f8b3  \n",
      "3     c51aad31359925622a961f2082ecf1eea265f8b3  \n",
      "4     c51aad31359925622a961f2082ecf1eea265f8b3  \n",
      "5     b15d961a300582bd424629c07c99878fd92d7c03  \n",
      "...                                        ...  \n",
      "2198   d88d2be4fab22d556ea4b41292112e3d9a7c088  \n",
      "2199   d88d2be4fab22d556ea4b41292112e3d9a7c088  \n",
      "2200   d88d2be4fab22d556ea4b41292112e3d9a7c088  \n",
      "2201   d88d2be4fab22d556ea4b41292112e3d9a7c088  \n",
      "2202   d88d2be4fab22d556ea4b41292112e3d9a7c088  \n",
      "\n",
      "[637 rows x 6 columns]\n"
     ]
    }
   ],
   "source": [
    "print(CallsDF)"
   ]
  },
  {
   "cell_type": "code",
   "execution_count": null,
   "metadata": {},
   "outputs": [],
   "source": []
  },
  {
   "cell_type": "code",
   "execution_count": 100,
   "metadata": {},
   "outputs": [],
   "source": [
    "CallsDF.to_csv('dataset/CallsFormatted/calls_data_u01.csv', index=False)"
   ]
  }
 ],
 "metadata": {
  "kernelspec": {
   "display_name": "Diss",
   "language": "python",
   "name": "python3"
  },
  "language_info": {
   "codemirror_mode": {
    "name": "ipython",
    "version": 3
   },
   "file_extension": ".py",
   "mimetype": "text/x-python",
   "name": "python",
   "nbconvert_exporter": "python",
   "pygments_lexer": "ipython3",
   "version": "3.12.2"
  }
 },
 "nbformat": 4,
 "nbformat_minor": 2
}
