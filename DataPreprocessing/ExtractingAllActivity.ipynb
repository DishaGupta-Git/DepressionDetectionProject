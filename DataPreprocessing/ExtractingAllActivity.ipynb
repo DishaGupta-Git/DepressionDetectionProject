{
 "cells": [
  {
   "cell_type": "code",
   "execution_count": 26,
   "metadata": {},
   "outputs": [],
   "source": [
    "import numpy as np\n",
    "import pandas as pd\n",
    "from datetime import datetime\n"
   ]
  },
  {
   "cell_type": "code",
   "execution_count": 27,
   "metadata": {},
   "outputs": [],
   "source": [
    "import warnings\n",
    "\n",
    "# Suppress future warnings\n",
    "warnings.simplefilter(action='ignore', category=FutureWarning)"
   ]
  },
  {
   "cell_type": "markdown",
   "metadata": {},
   "source": [
    "# Activity Inference Data\n",
    "0: Stationary\n",
    "\n",
    "1: Walking\n",
    "\n",
    "2: Running\n",
    "\n",
    "3: Unknown"
   ]
  },
  {
   "cell_type": "code",
   "execution_count": 28,
   "metadata": {},
   "outputs": [
    {
     "name": "stdout",
     "output_type": "stream",
     "text": [
      "           timestamp   activity inference userId\n",
      "0         1364410490                    0    u44\n",
      "1         1364410498                    0    u44\n",
      "2         1364410501                    0    u44\n",
      "3         1364410503                    0    u44\n",
      "4         1364410506                    0    u44\n",
      "...              ...                  ...    ...\n",
      "22842186  1370059187                    0    u49\n",
      "22842187  1370059189                    0    u49\n",
      "22842188  1370059192                    0    u49\n",
      "22842189  1370059195                    0    u49\n",
      "22842190  1370059197                    0    u49\n",
      "\n",
      "[22842191 rows x 3 columns]\n"
     ]
    }
   ],
   "source": [
    "ActivityData = pd.DataFrame()\n",
    "ActivityData = pd.read_csv('../dataset/Merged/allActivityRaw.csv')\n",
    "print(ActivityData)"
   ]
  },
  {
   "cell_type": "code",
   "execution_count": 29,
   "metadata": {},
   "outputs": [],
   "source": [
    "ActivityData = ActivityData.sort_values(by='userId')"
   ]
  },
  {
   "cell_type": "code",
   "execution_count": 30,
   "metadata": {},
   "outputs": [],
   "source": [
    "ActivityData['timestamp'] = pd.to_datetime(ActivityData['timestamp'], unit = 's')\n",
    "ActivityData.rename(columns={' activity inference': 'activityInference'}, inplace=True)\n",
    "ActivityData['date'] = ActivityData['timestamp'].dt.date\n",
    "ActivityData['time'] = ActivityData['timestamp'].dt.time\n",
    "ActivityData['date'] = pd.to_datetime(ActivityData['date'])\n",
    "ActivityData['week'] = ActivityData['date'].dt.isocalendar().week"
   ]
  },
  {
   "cell_type": "code",
   "execution_count": 31,
   "metadata": {},
   "outputs": [
    {
     "name": "stdout",
     "output_type": "stream",
     "text": [
      "                   timestamp  activityInference userId       date      time  \\\n",
      "16829518 2013-04-20 11:27:02                  0    u00 2013-04-20  11:27:02   \n",
      "16947663 2013-05-07 00:45:32                  0    u00 2013-05-07  00:45:32   \n",
      "16947662 2013-05-07 00:45:29                  0    u00 2013-05-07  00:45:29   \n",
      "16947661 2013-05-07 00:45:27                  0    u00 2013-05-07  00:45:27   \n",
      "16947660 2013-05-07 00:45:24                  0    u00 2013-05-07  00:45:24   \n",
      "...                      ...                ...    ...        ...       ...   \n",
      "20799618 2013-05-04 22:51:44                  0    u59 2013-05-04  22:51:44   \n",
      "20799619 2013-05-04 22:51:46                  0    u59 2013-05-04  22:51:46   \n",
      "20799620 2013-05-04 22:51:48                  0    u59 2013-05-04  22:51:48   \n",
      "20799611 2013-05-04 22:51:29                  0    u59 2013-05-04  22:51:29   \n",
      "20332065 2013-04-22 10:52:45                  0    u59 2013-04-22  10:52:45   \n",
      "\n",
      "          week  \n",
      "16829518    16  \n",
      "16947663    19  \n",
      "16947662    19  \n",
      "16947661    19  \n",
      "16947660    19  \n",
      "...        ...  \n",
      "20799618    18  \n",
      "20799619    18  \n",
      "20799620    18  \n",
      "20799611    18  \n",
      "20332065    17  \n",
      "\n",
      "[22842191 rows x 6 columns]\n"
     ]
    }
   ],
   "source": [
    "print(ActivityData)"
   ]
  },
  {
   "cell_type": "code",
   "execution_count": 32,
   "metadata": {},
   "outputs": [
    {
     "name": "stdout",
     "output_type": "stream",
     "text": [
      "                   timestamp  activityInference userId       date      time  \\\n",
      "16829518 2013-04-20 11:27:02                  0    u00 2013-04-20  11:27:02   \n",
      "16947663 2013-05-07 00:45:32                  0    u00 2013-05-07  00:45:32   \n",
      "16947662 2013-05-07 00:45:29                  0    u00 2013-05-07  00:45:29   \n",
      "16947661 2013-05-07 00:45:27                  0    u00 2013-05-07  00:45:27   \n",
      "16947660 2013-05-07 00:45:24                  0    u00 2013-05-07  00:45:24   \n",
      "...                      ...                ...    ...        ...       ...   \n",
      "20799618 2013-05-04 22:51:44                  0    u59 2013-05-04  22:51:44   \n",
      "20799619 2013-05-04 22:51:46                  0    u59 2013-05-04  22:51:46   \n",
      "20799620 2013-05-04 22:51:48                  0    u59 2013-05-04  22:51:48   \n",
      "20799611 2013-05-04 22:51:29                  0    u59 2013-05-04  22:51:29   \n",
      "20332065 2013-04-22 10:52:45                  0    u59 2013-04-22  10:52:45   \n",
      "\n",
      "          week  timeCategory  \n",
      "16829518    16       Morning  \n",
      "16947663    19  EarlyMorning  \n",
      "16947662    19  EarlyMorning  \n",
      "16947661    19  EarlyMorning  \n",
      "16947660    19  EarlyMorning  \n",
      "...        ...           ...  \n",
      "20799618    18       Evening  \n",
      "20799619    18       Evening  \n",
      "20799620    18       Evening  \n",
      "20799611    18       Evening  \n",
      "20332065    17       Morning  \n",
      "\n",
      "[22842191 rows x 7 columns]\n"
     ]
    }
   ],
   "source": [
    "# Convert 'time' column to datetime format\n",
    "ActivityData['hour'] = ActivityData['timestamp'].dt.hour\n",
    "# print(ActivityData)\n",
    "\n",
    "bins = [-1, 6, 12, 18, 24]\n",
    "labels = ['EarlyMorning', 'Morning', 'Afternoon', 'Evening']\n",
    "ActivityData['timeCategory'] = pd.cut(ActivityData['hour'], bins=bins, labels=labels, right=False)\n",
    "ActivityData.drop(columns=['hour'], inplace=True)\n",
    "\n",
    "print(ActivityData)"
   ]
  },
  {
   "cell_type": "code",
   "execution_count": 33,
   "metadata": {},
   "outputs": [],
   "source": [
    "ActivityData = ActivityData.sort_values(by='week')"
   ]
  },
  {
   "cell_type": "code",
   "execution_count": 34,
   "metadata": {},
   "outputs": [],
   "source": [
    "weeks = ActivityData['week'].unique()\n",
    "# print(weeks)\n",
    "# print(len(weeks))\n",
    "# print(weeks[9])\n",
    "dfs = []\n",
    "\n",
    "for week in weeks[:-1]:\n",
    "    twoWeekData = ActivityData[(ActivityData['week'] == week) | (ActivityData['week'] == week+1)]\n",
    "    # print(twoWeekData['week'].unique())\n",
    "    grouped = twoWeekData.groupby(['userId','timeCategory', 'activityInference']).size().reset_index(name='count')\n",
    "    # print(grouped)\n",
    "    # Pivot the grouped DataFrame\n",
    "    pivot_df = grouped.pivot_table(index='userId', columns=['timeCategory', 'activityInference'], values='count').fillna(0)\n",
    "\n",
    "    #  Concatenate 'timeCategory' and 'activityInference' to create column names\n",
    "    pivot_df.columns = [f\"Activity{category}{inference}\" for category, inference in pivot_df.columns]\n",
    "\n",
    "    # Reset index to make 'userId' a column\n",
    "    pivot_df.reset_index(inplace=True)\n",
    "    pivot_df['WeekId']= week - weeks[0]\n",
    "    # print(pivot_df)\n",
    "    dfs.append(pivot_df)\n",
    "\n",
    "result_df = pd.concat(dfs)\n",
    "result_df.reset_index(inplace=True)\n"
   ]
  },
  {
   "cell_type": "code",
   "execution_count": 35,
   "metadata": {},
   "outputs": [
    {
     "name": "stdout",
     "output_type": "stream",
     "text": [
      "    userId  ActivityEarlyMorning0  ActivityEarlyMorning1  \\\n",
      "0      u00                21381.0                  709.0   \n",
      "1      u01                21141.0                  894.0   \n",
      "2      u02                20705.0                 1075.0   \n",
      "3      u03                22004.0                    4.0   \n",
      "4      u04                20595.0                 1490.0   \n",
      "..     ...                    ...                    ...   \n",
      "426    u54                 3840.0                   57.0   \n",
      "427    u56                24619.0                  725.0   \n",
      "428    u57                20742.0                 2419.0   \n",
      "429    u58                19235.0                  856.0   \n",
      "430    u59               105130.0                 5717.0   \n",
      "\n",
      "     ActivityEarlyMorning2  ActivityEarlyMorning3  ActivityMorning0  \\\n",
      "0                    225.0                  560.0           21806.0   \n",
      "1                    146.0                  462.0           24970.0   \n",
      "2                     26.0                  889.0           25012.0   \n",
      "3                      0.0                   22.0           24980.0   \n",
      "4                    548.0                  233.0           23249.0   \n",
      "..                     ...                    ...               ...   \n",
      "426                   10.0                   58.0            3903.0   \n",
      "427                   96.0                  624.0           24061.0   \n",
      "428                  558.0                  948.0           23750.0   \n",
      "429                  264.0                  314.0           20779.0   \n",
      "430                 1332.0                 2218.0          104544.0   \n",
      "\n",
      "     ActivityMorning1  ActivityMorning2  ActivityMorning3  ActivityAfternoon0  \\\n",
      "0               419.0              25.0             419.0             18534.0   \n",
      "1                 4.0               0.0               2.0             22087.0   \n",
      "2                 0.0               0.0               5.0             21077.0   \n",
      "3                 0.0               0.0               5.0             23499.0   \n",
      "4               470.0              59.0            1011.0             18373.0   \n",
      "..                ...               ...               ...                 ...   \n",
      "426             109.0              13.0              24.0              3753.0   \n",
      "427              37.0               0.0               1.0             18535.0   \n",
      "428             771.0              64.0             240.0             20945.0   \n",
      "429              46.0               0.0               3.0             18159.0   \n",
      "430             256.0             212.0             685.0             92379.0   \n",
      "\n",
      "     ActivityAfternoon1  ActivityAfternoon2  ActivityAfternoon3  \\\n",
      "0                2020.0               913.0               481.0   \n",
      "1                1213.0               946.0               139.0   \n",
      "2                2128.0                97.0               781.0   \n",
      "3                 777.0               141.0               196.0   \n",
      "4                3088.0              1668.0               751.0   \n",
      "..                  ...                 ...                 ...   \n",
      "426               230.0                54.0                 4.0   \n",
      "427              1093.0               151.0               501.0   \n",
      "428              1188.0               880.0               671.0   \n",
      "429               599.0               353.0               160.0   \n",
      "430              7701.0              3157.0              3185.0   \n",
      "\n",
      "     ActivityEvening0  ActivityEvening1  ActivityEvening2  ActivityEvening3  \\\n",
      "0             17643.0            2940.0            1527.0            1214.0   \n",
      "1             19312.0            2630.0             810.0             666.0   \n",
      "2             20585.0            2388.0              33.0            1031.0   \n",
      "3             23189.0             301.0              19.0              70.0   \n",
      "4             18811.0            3119.0            1047.0            1091.0   \n",
      "..                ...               ...               ...               ...   \n",
      "426            1395.0              15.0               0.0               5.0   \n",
      "427           21392.0            1426.0             503.0             783.0   \n",
      "428           19344.0            2186.0            1072.0             678.0   \n",
      "429           16751.0             859.0             325.0             481.0   \n",
      "430           83324.0           13438.0            3387.0            9452.0   \n",
      "\n",
      "     WeekId  \n",
      "0         0  \n",
      "1         0  \n",
      "2         0  \n",
      "3         0  \n",
      "4         0  \n",
      "..      ...  \n",
      "426       8  \n",
      "427       8  \n",
      "428       8  \n",
      "429       8  \n",
      "430       8  \n",
      "\n",
      "[431 rows x 18 columns]\n"
     ]
    }
   ],
   "source": [
    "result_df = result_df.drop(columns=['index'])\n",
    "print(result_df)"
   ]
  },
  {
   "cell_type": "code",
   "execution_count": 36,
   "metadata": {},
   "outputs": [],
   "source": [
    "result_df.to_csv('../dataset/BasicFeatures/activityCounts.csv', index=False)"
   ]
  },
  {
   "cell_type": "code",
   "execution_count": null,
   "metadata": {},
   "outputs": [],
   "source": []
  }
 ],
 "metadata": {
  "kernelspec": {
   "display_name": "Diss",
   "language": "python",
   "name": "python3"
  },
  "language_info": {
   "codemirror_mode": {
    "name": "ipython",
    "version": 3
   },
   "file_extension": ".py",
   "mimetype": "text/x-python",
   "name": "python",
   "nbconvert_exporter": "python",
   "pygments_lexer": "ipython3",
   "version": "3.12.2"
  }
 },
 "nbformat": 4,
 "nbformat_minor": 2
}
